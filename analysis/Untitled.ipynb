{
 "cells": [
  {
   "cell_type": "code",
   "execution_count": 3,
   "metadata": {},
   "outputs": [],
   "source": [
    "%matplotlib inline\n",
    "import matplotlib.pyplot as plt\n",
    "import pandas as pd\n",
    "import os"
   ]
  },
  {
   "cell_type": "code",
   "execution_count": 5,
   "metadata": {},
   "outputs": [
    {
     "name": "stdout",
     "output_type": "stream",
     "text": [
      "TREC.data               US_Election.data        conversation_README.txt\r\n"
     ]
    }
   ],
   "source": [
    "!ls /Users/johnny/data/nlp/microblog_conversation/"
   ]
  },
  {
   "cell_type": "code",
   "execution_count": 28,
   "metadata": {},
   "outputs": [
    {
     "name": "stdout",
     "output_type": "stream",
     "text": [
      "Format: <Conversation ID>\\t<Tweet ID>\\t<Reply To Tweet ID>\r",
      "\r\n",
      "0\t106084327581949952\tnull\r",
      "\r\n",
      "0\t678492701453627392\t106084327581949952\r",
      "\r\n",
      "1\t149589104168939520\tnull\r",
      "\r\n",
      "1\t373526119758049280\t149589104168939520\r",
      "\r\n",
      "1\t373528844516339712\t373526119758049280\r",
      "\r\n",
      "1\t665785184403513344\t373528844516339712\r",
      "\r\n",
      "2\t212966706786742274\tnull\r",
      "\r\n",
      "2\t213028459872653313\t212966706786742274\r",
      "\r\n",
      "3\t249159028570198019\tnull\r",
      "\r\n"
     ]
    }
   ],
   "source": [
    "!head /Users/johnny/data/nlp/microblog_conversation/US_Election.data"
   ]
  },
  {
   "cell_type": "code",
   "execution_count": 29,
   "metadata": {},
   "outputs": [],
   "source": [
    "data_dir= '/Users/johnny/data/nlp/microblog_conversation/'"
   ]
  },
  {
   "cell_type": "code",
   "execution_count": 30,
   "metadata": {},
   "outputs": [
    {
     "name": "stdout",
     "output_type": "stream",
     "text": [
      "<class 'pandas.core.frame.DataFrame'>\n",
      "RangeIndex: 22092 entries, 0 to 22091\n",
      "Data columns (total 3 columns):\n",
      "conv_id        22092 non-null object\n",
      "id             22092 non-null object\n",
      "reply_to_id    20079 non-null object\n",
      "dtypes: object(3)\n",
      "memory usage: 517.9+ KB\n"
     ]
    }
   ],
   "source": [
    "cols = ['conv_id' , 'id', 'reply_to_id']\n",
    "path = os.path.join(data_dir, 'US_Election.data')\n",
    "ds = pd.read_csv(path, sep='\\t', skiprows=1, names=cols, dtype=object)\n",
    "ds.info()"
   ]
  },
  {
   "cell_type": "code",
   "execution_count": 31,
   "metadata": {},
   "outputs": [
    {
     "data": {
      "text/html": [
       "<div>\n",
       "<style scoped>\n",
       "    .dataframe tbody tr th:only-of-type {\n",
       "        vertical-align: middle;\n",
       "    }\n",
       "\n",
       "    .dataframe tbody tr th {\n",
       "        vertical-align: top;\n",
       "    }\n",
       "\n",
       "    .dataframe thead th {\n",
       "        text-align: right;\n",
       "    }\n",
       "</style>\n",
       "<table border=\"1\" class=\"dataframe\">\n",
       "  <thead>\n",
       "    <tr style=\"text-align: right;\">\n",
       "      <th></th>\n",
       "      <th>conv_id</th>\n",
       "      <th>id</th>\n",
       "      <th>reply_to_id</th>\n",
       "    </tr>\n",
       "  </thead>\n",
       "  <tbody>\n",
       "    <tr>\n",
       "      <th>0</th>\n",
       "      <td>0</td>\n",
       "      <td>106084327581949952</td>\n",
       "      <td>NaN</td>\n",
       "    </tr>\n",
       "    <tr>\n",
       "      <th>1</th>\n",
       "      <td>0</td>\n",
       "      <td>678492701453627392</td>\n",
       "      <td>106084327581949952</td>\n",
       "    </tr>\n",
       "    <tr>\n",
       "      <th>2</th>\n",
       "      <td>1</td>\n",
       "      <td>149589104168939520</td>\n",
       "      <td>NaN</td>\n",
       "    </tr>\n",
       "    <tr>\n",
       "      <th>3</th>\n",
       "      <td>1</td>\n",
       "      <td>373526119758049280</td>\n",
       "      <td>149589104168939520</td>\n",
       "    </tr>\n",
       "    <tr>\n",
       "      <th>4</th>\n",
       "      <td>1</td>\n",
       "      <td>373528844516339712</td>\n",
       "      <td>373526119758049280</td>\n",
       "    </tr>\n",
       "  </tbody>\n",
       "</table>\n",
       "</div>"
      ],
      "text/plain": [
       "  conv_id                  id         reply_to_id\n",
       "0       0  106084327581949952                 NaN\n",
       "1       0  678492701453627392  106084327581949952\n",
       "2       1  149589104168939520                 NaN\n",
       "3       1  373526119758049280  149589104168939520\n",
       "4       1  373528844516339712  373526119758049280"
      ]
     },
     "execution_count": 31,
     "metadata": {},
     "output_type": "execute_result"
    }
   ],
   "source": [
    "ds.head()"
   ]
  },
  {
   "cell_type": "code",
   "execution_count": 32,
   "metadata": {},
   "outputs": [
    {
     "data": {
      "text/plain": [
       "2013"
      ]
     },
     "execution_count": 32,
     "metadata": {},
     "output_type": "execute_result"
    }
   ],
   "source": [
    "ds.conv_id.nunique()"
   ]
  },
  {
   "cell_type": "code",
   "execution_count": 33,
   "metadata": {},
   "outputs": [
    {
     "data": {
      "text/plain": [
       "(22092, 19206)"
      ]
     },
     "execution_count": 33,
     "metadata": {},
     "output_type": "execute_result"
    }
   ],
   "source": [
    "ds.id.nunique(), ds.reply_to_id.nunique()"
   ]
  },
  {
   "cell_type": "code",
   "execution_count": 34,
   "metadata": {},
   "outputs": [
    {
     "data": {
      "text/plain": [
       "19206"
      ]
     },
     "execution_count": 34,
     "metadata": {},
     "output_type": "execute_result"
    }
   ],
   "source": [
    "ds[ds.reply_to_id.isin(ds.id)].reply_to_id.nunique()"
   ]
  },
  {
   "cell_type": "code",
   "execution_count": 35,
   "metadata": {},
   "outputs": [],
   "source": [
    "path=os.path.join(data_dir, 'us_election.csv')\n",
    "ds[['id']].to_csv(path, index=False)"
   ]
  },
  {
   "cell_type": "code",
   "execution_count": null,
   "metadata": {},
   "outputs": [],
   "source": []
  }
 ],
 "metadata": {
  "kernelspec": {
   "display_name": "Python 3",
   "language": "python",
   "name": "python3"
  },
  "language_info": {
   "codemirror_mode": {
    "name": "ipython",
    "version": 3
   },
   "file_extension": ".py",
   "mimetype": "text/x-python",
   "name": "python",
   "nbconvert_exporter": "python",
   "pygments_lexer": "ipython3",
   "version": "3.7.3"
  }
 },
 "nbformat": 4,
 "nbformat_minor": 2
}
