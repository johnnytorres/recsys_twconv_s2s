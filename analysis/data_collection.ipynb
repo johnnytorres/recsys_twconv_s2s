{
 "cells": [
  {
   "cell_type": "code",
   "execution_count": 3,
   "metadata": {},
   "outputs": [],
   "source": [
    "%matplotlib inline\n",
    "import matplotlib.pyplot as plt\n",
    "import pandas as pd\n",
    "import os"
   ]
  },
  {
<<<<<<< HEAD
   "cell_type": "markdown",
   "metadata": {},
   "source": [
    "# Trec dataset"
=======
   "cell_type": "code",
   "execution_count": 45,
   "metadata": {},
   "outputs": [
    {
     "name": "stdout",
     "output_type": "stream",
     "text": [
      "treC.DATA           tweets_crawled.csv  tweets_ids.csv\r\n",
      "tweets_conv.csv     tweets_crawled.json\r\n"
     ]
    }
   ],
   "source": [
    "!ls ~/data/microblogconv/trec"
   ]
  },
  {
   "cell_type": "code",
   "execution_count": 46,
   "metadata": {},
   "outputs": [
    {
     "name": "stdout",
     "output_type": "stream",
     "text": [
      "Format: <Conversation ID>\\t<Tweet ID>\\t<Reply To Tweet ID>\r",
      "\r\n",
      "0\t5621079719\tnull\r",
      "\r\n",
      "0\t34089140559544320\t5621079719\r",
      "\r\n",
      "1\t5911874749\tnull\r",
      "\r\n",
      "1\t31744611152039936\t5911874749\r",
      "\r\n",
      "2\t6496465397\tnull\r",
      "\r\n",
      "2\t31777629853974528\t6496465397\r",
      "\r\n",
      "3\t7135277765\tnull\r",
      "\r\n",
      "3\t30411942304681984\t7135277765\r",
      "\r\n",
      "4\t7846373124\tnull\r",
      "\r\n"
     ]
    }
   ],
   "source": [
    "!head ~/data/microblogconv/trec/TREC.data"
   ]
  },
  {
   "cell_type": "code",
   "execution_count": 72,
   "metadata": {},
   "outputs": [],
   "source": [
    "data_dir= '~/data/microblogconv/trec'"
   ]
  },
  {
   "cell_type": "markdown",
   "metadata": {},
   "source": [
    "# Prepare data to download from twitter API"
   ]
  },
  {
   "cell_type": "code",
   "execution_count": 73,
   "metadata": {},
   "outputs": [
    {
     "name": "stdout",
     "output_type": "stream",
     "text": [
      "<class 'pandas.core.frame.DataFrame'>\n",
      "RangeIndex: 38999 entries, 0 to 38998\n",
      "Data columns (total 3 columns):\n",
      "conv_id        38999 non-null object\n",
      "id             38999 non-null object\n",
      "reply_to_id    31499 non-null object\n",
      "dtypes: object(3)\n",
      "memory usage: 914.1+ KB\n"
     ]
    }
   ],
   "source": [
    "cols = ['conv_id' , 'id', 'reply_to_id']\n",
    "path = os.path.join(data_dir, 'Trec.data')\n",
    "ds = pd.read_csv(path, sep='\\t', skiprows=1, names=cols, dtype=object)\n",
    "ds.info()"
   ]
  },
  {
   "cell_type": "code",
   "execution_count": 74,
   "metadata": {},
   "outputs": [
    {
     "data": {
      "text/html": [
       "<div>\n",
       "<style scoped>\n",
       "    .dataframe tbody tr th:only-of-type {\n",
       "        vertical-align: middle;\n",
       "    }\n",
       "\n",
       "    .dataframe tbody tr th {\n",
       "        vertical-align: top;\n",
       "    }\n",
       "\n",
       "    .dataframe thead th {\n",
       "        text-align: right;\n",
       "    }\n",
       "</style>\n",
       "<table border=\"1\" class=\"dataframe\">\n",
       "  <thead>\n",
       "    <tr style=\"text-align: right;\">\n",
       "      <th></th>\n",
       "      <th>conv_id</th>\n",
       "      <th>id</th>\n",
       "      <th>reply_to_id</th>\n",
       "    </tr>\n",
       "  </thead>\n",
       "  <tbody>\n",
       "    <tr>\n",
       "      <th>0</th>\n",
       "      <td>0</td>\n",
       "      <td>5621079719</td>\n",
       "      <td>NaN</td>\n",
       "    </tr>\n",
       "    <tr>\n",
       "      <th>1</th>\n",
       "      <td>0</td>\n",
       "      <td>34089140559544320</td>\n",
       "      <td>5621079719</td>\n",
       "    </tr>\n",
       "    <tr>\n",
       "      <th>2</th>\n",
       "      <td>1</td>\n",
       "      <td>5911874749</td>\n",
       "      <td>NaN</td>\n",
       "    </tr>\n",
       "    <tr>\n",
       "      <th>3</th>\n",
       "      <td>1</td>\n",
       "      <td>31744611152039936</td>\n",
       "      <td>5911874749</td>\n",
       "    </tr>\n",
       "    <tr>\n",
       "      <th>4</th>\n",
       "      <td>2</td>\n",
       "      <td>6496465397</td>\n",
       "      <td>NaN</td>\n",
       "    </tr>\n",
       "  </tbody>\n",
       "</table>\n",
       "</div>"
      ],
      "text/plain": [
       "  conv_id                 id reply_to_id\n",
       "0       0         5621079719         NaN\n",
       "1       0  34089140559544320  5621079719\n",
       "2       1         5911874749         NaN\n",
       "3       1  31744611152039936  5911874749\n",
       "4       2         6496465397         NaN"
      ]
     },
     "execution_count": 74,
     "metadata": {},
     "output_type": "execute_result"
    }
   ],
   "source": [
    "ds.head()"
   ]
  },
  {
   "cell_type": "code",
   "execution_count": 75,
   "metadata": {},
   "outputs": [
    {
     "data": {
      "text/plain": [
       "7500"
      ]
     },
     "execution_count": 75,
     "metadata": {},
     "output_type": "execute_result"
    }
   ],
   "source": [
    "ds.conv_id.nunique()"
   ]
  },
  {
   "cell_type": "code",
   "execution_count": 76,
   "metadata": {},
   "outputs": [
    {
     "data": {
      "text/plain": [
       "(38999, 31188)"
      ]
     },
     "execution_count": 76,
     "metadata": {},
     "output_type": "execute_result"
    }
   ],
   "source": [
    "ds.id.nunique(), ds.reply_to_id.nunique()"
   ]
  },
  {
   "cell_type": "code",
   "execution_count": 77,
   "metadata": {},
   "outputs": [
    {
     "data": {
      "text/plain": [
       "31188"
      ]
     },
     "execution_count": 77,
     "metadata": {},
     "output_type": "execute_result"
    }
   ],
   "source": [
    "ds[ds.reply_to_id.isin(ds.id)].reply_to_id.nunique()"
   ]
  },
  {
   "cell_type": "code",
   "execution_count": 12,
   "metadata": {},
   "outputs": [],
   "source": [
    "# save ids\n",
    "#path=os.path.join(data_dir, 'us_election.csv')\n",
    "#ds[['id']].to_csv(path, index=False)"
   ]
  },
  {
   "cell_type": "markdown",
   "metadata": {},
   "source": [
    "# EDA crawled data"
   ]
  },
  {
   "cell_type": "code",
   "execution_count": 78,
   "metadata": {},
   "outputs": [
    {
     "data": {
      "text/plain": [
       "'~/data/microblogconv/trec/Trec.data'"
      ]
     },
     "execution_count": 78,
     "metadata": {},
     "output_type": "execute_result"
    }
   ],
   "source": [
    "path"
>>>>>>> a3c530d9bc372fd6db73a8da3c165b5132deae23
   ]
  },
  {
   "cell_type": "code",
   "execution_count": 79,
   "metadata": {},
   "outputs": [
    {
     "name": "stdout",
     "output_type": "stream",
     "text": [
      "<class 'pandas.core.frame.DataFrame'>\n",
      "RangeIndex: 34668 entries, 0 to 34667\n",
      "Data columns (total 9 columns):\n",
      "id                       34668 non-null object\n",
      "screen_name              34668 non-null object\n",
      "text                     34668 non-null object\n",
      "in_reply_to_status_id    27023 non-null object\n",
      "created_at               34668 non-null object\n",
      "latitude                 79 non-null object\n",
      "longitude                79 non-null object\n",
      "lang                     34668 non-null object\n",
      "timestamp                34652 non-null object\n",
      "dtypes: object(9)\n",
      "memory usage: 2.4+ MB\n"
     ]
    }
   ],
   "source": [
    "path = os.path.join(data_dir, 'tweets_crawled.csv')\n",
    "tweets = pd.read_csv(path, dtype=object)\n",
    "tweets.info()"
   ]
  },
  {
   "cell_type": "code",
   "execution_count": 80,
   "metadata": {},
   "outputs": [
    {
     "data": {
      "text/plain": [
       "(38999, 11)"
      ]
     },
     "execution_count": 80,
     "metadata": {},
     "output_type": "execute_result"
    }
   ],
   "source": [
    "tmp = ds.merge(tweets, on='id', how='left')\n",
    "tmp.shape"
   ]
  },
  {
   "cell_type": "code",
   "execution_count": 81,
   "metadata": {},
   "outputs": [
    {
     "data": {
      "text/plain": [
       "(1735,)"
      ]
     },
     "execution_count": 81,
     "metadata": {},
     "output_type": "execute_result"
    }
   ],
   "source": [
    "tmp[tmp.text.isnull()].groupby('conv_id').size().shape"
   ]
  },
  {
   "cell_type": "code",
   "execution_count": 82,
   "metadata": {},
   "outputs": [
    {
     "data": {
      "text/html": [
       "<div>\n",
       "<style scoped>\n",
       "    .dataframe tbody tr th:only-of-type {\n",
       "        vertical-align: middle;\n",
       "    }\n",
       "\n",
       "    .dataframe tbody tr th {\n",
       "        vertical-align: top;\n",
       "    }\n",
       "\n",
       "    .dataframe thead th {\n",
       "        text-align: right;\n",
       "    }\n",
       "</style>\n",
       "<table border=\"1\" class=\"dataframe\">\n",
       "  <thead>\n",
       "    <tr style=\"text-align: right;\">\n",
       "      <th></th>\n",
       "      <th>conv_id</th>\n",
       "      <th>id</th>\n",
       "      <th>reply_to_id</th>\n",
       "      <th>screen_name</th>\n",
       "      <th>text</th>\n",
       "      <th>in_reply_to_status_id</th>\n",
       "      <th>created_at</th>\n",
       "      <th>latitude</th>\n",
       "      <th>longitude</th>\n",
       "      <th>lang</th>\n",
       "      <th>timestamp</th>\n",
       "    </tr>\n",
       "  </thead>\n",
       "  <tbody>\n",
       "    <tr>\n",
       "      <th>5</th>\n",
       "      <td>2</td>\n",
       "      <td>31777629853974528</td>\n",
       "      <td>6496465397</td>\n",
       "      <td>NaN</td>\n",
       "      <td>NaN</td>\n",
       "      <td>NaN</td>\n",
       "      <td>NaN</td>\n",
       "      <td>NaN</td>\n",
       "      <td>NaN</td>\n",
       "      <td>NaN</td>\n",
       "      <td>NaN</td>\n",
       "    </tr>\n",
       "    <tr>\n",
       "      <th>11</th>\n",
       "      <td>5</td>\n",
       "      <td>31753376664522752</td>\n",
       "      <td>10093975476</td>\n",
       "      <td>NaN</td>\n",
       "      <td>NaN</td>\n",
       "      <td>NaN</td>\n",
       "      <td>NaN</td>\n",
       "      <td>NaN</td>\n",
       "      <td>NaN</td>\n",
       "      <td>NaN</td>\n",
       "      <td>NaN</td>\n",
       "    </tr>\n",
       "    <tr>\n",
       "      <th>35</th>\n",
       "      <td>17</td>\n",
       "      <td>32354342744891392</td>\n",
       "      <td>24438878928</td>\n",
       "      <td>NaN</td>\n",
       "      <td>NaN</td>\n",
       "      <td>NaN</td>\n",
       "      <td>NaN</td>\n",
       "      <td>NaN</td>\n",
       "      <td>NaN</td>\n",
       "      <td>NaN</td>\n",
       "      <td>NaN</td>\n",
       "    </tr>\n",
       "    <tr>\n",
       "      <th>37</th>\n",
       "      <td>18</td>\n",
       "      <td>31450190732861440</td>\n",
       "      <td>25226069559</td>\n",
       "      <td>NaN</td>\n",
       "      <td>NaN</td>\n",
       "      <td>NaN</td>\n",
       "      <td>NaN</td>\n",
       "      <td>NaN</td>\n",
       "      <td>NaN</td>\n",
       "      <td>NaN</td>\n",
       "      <td>NaN</td>\n",
       "    </tr>\n",
       "    <tr>\n",
       "      <th>45</th>\n",
       "      <td>22</td>\n",
       "      <td>2948878097711104</td>\n",
       "      <td>2948510282420225</td>\n",
       "      <td>NaN</td>\n",
       "      <td>NaN</td>\n",
       "      <td>NaN</td>\n",
       "      <td>NaN</td>\n",
       "      <td>NaN</td>\n",
       "      <td>NaN</td>\n",
       "      <td>NaN</td>\n",
       "      <td>NaN</td>\n",
       "    </tr>\n",
       "  </tbody>\n",
       "</table>\n",
       "</div>"
      ],
      "text/plain": [
       "   conv_id                 id       reply_to_id screen_name text  \\\n",
       "5        2  31777629853974528        6496465397         NaN  NaN   \n",
       "11       5  31753376664522752       10093975476         NaN  NaN   \n",
       "35      17  32354342744891392       24438878928         NaN  NaN   \n",
       "37      18  31450190732861440       25226069559         NaN  NaN   \n",
       "45      22   2948878097711104  2948510282420225         NaN  NaN   \n",
       "\n",
       "   in_reply_to_status_id created_at latitude longitude lang timestamp  \n",
       "5                    NaN        NaN      NaN       NaN  NaN       NaN  \n",
       "11                   NaN        NaN      NaN       NaN  NaN       NaN  \n",
       "35                   NaN        NaN      NaN       NaN  NaN       NaN  \n",
       "37                   NaN        NaN      NaN       NaN  NaN       NaN  \n",
       "45                   NaN        NaN      NaN       NaN  NaN       NaN  "
      ]
     },
     "execution_count": 82,
     "metadata": {},
     "output_type": "execute_result"
    }
   ],
   "source": [
    "tmp[tmp.text.isnull()].head()"
   ]
  },
  {
   "cell_type": "code",
   "execution_count": 83,
   "metadata": {},
   "outputs": [
    {
     "data": {
      "text/html": [
       "<div>\n",
       "<style scoped>\n",
       "    .dataframe tbody tr th:only-of-type {\n",
       "        vertical-align: middle;\n",
       "    }\n",
       "\n",
       "    .dataframe tbody tr th {\n",
       "        vertical-align: top;\n",
       "    }\n",
       "\n",
       "    .dataframe thead th {\n",
       "        text-align: right;\n",
       "    }\n",
       "</style>\n",
       "<table border=\"1\" class=\"dataframe\">\n",
       "  <thead>\n",
       "    <tr style=\"text-align: right;\">\n",
       "      <th></th>\n",
       "      <th>conv_id</th>\n",
       "      <th>id</th>\n",
       "      <th>reply_to_id</th>\n",
       "      <th>screen_name</th>\n",
       "      <th>text</th>\n",
       "      <th>in_reply_to_status_id</th>\n",
       "      <th>created_at</th>\n",
       "      <th>latitude</th>\n",
       "      <th>longitude</th>\n",
       "      <th>lang</th>\n",
       "      <th>timestamp</th>\n",
       "    </tr>\n",
       "  </thead>\n",
       "  <tbody>\n",
       "    <tr>\n",
       "      <th>4</th>\n",
       "      <td>2</td>\n",
       "      <td>6496465397</td>\n",
       "      <td>NaN</td>\n",
       "      <td>planetjedward</td>\n",
       "      <td>Hi guys we are finally on Twitter how are you ...</td>\n",
       "      <td>NaN</td>\n",
       "      <td>Wed Dec 09 13:45:06 +0000 2009</td>\n",
       "      <td>NaN</td>\n",
       "      <td>NaN</td>\n",
       "      <td>en</td>\n",
       "      <td>2009-12-09 13:45:06</td>\n",
       "    </tr>\n",
       "    <tr>\n",
       "      <th>5</th>\n",
       "      <td>2</td>\n",
       "      <td>31777629853974528</td>\n",
       "      <td>6496465397</td>\n",
       "      <td>NaN</td>\n",
       "      <td>NaN</td>\n",
       "      <td>NaN</td>\n",
       "      <td>NaN</td>\n",
       "      <td>NaN</td>\n",
       "      <td>NaN</td>\n",
       "      <td>NaN</td>\n",
       "      <td>NaN</td>\n",
       "    </tr>\n",
       "  </tbody>\n",
       "</table>\n",
       "</div>"
      ],
      "text/plain": [
       "  conv_id                 id reply_to_id    screen_name  \\\n",
       "4       2         6496465397         NaN  planetjedward   \n",
       "5       2  31777629853974528  6496465397            NaN   \n",
       "\n",
       "                                                text in_reply_to_status_id  \\\n",
       "4  Hi guys we are finally on Twitter how are you ...                   NaN   \n",
       "5                                                NaN                   NaN   \n",
       "\n",
       "                       created_at latitude longitude lang            timestamp  \n",
       "4  Wed Dec 09 13:45:06 +0000 2009      NaN       NaN   en  2009-12-09 13:45:06  \n",
       "5                             NaN      NaN       NaN  NaN                  NaN  "
      ]
     },
     "execution_count": 83,
     "metadata": {},
     "output_type": "execute_result"
    }
   ],
   "source": [
    "tmp[tmp.conv_id=='2']"
   ]
  },
  {
   "cell_type": "code",
   "execution_count": 84,
   "metadata": {},
   "outputs": [
    {
     "data": {
      "image/png": "iVBORw0KGgoAAAANSUhEUgAAAYUAAAD4CAYAAAAD6PrjAAAABHNCSVQICAgIfAhkiAAAAAlwSFlzAAALEgAACxIB0t1+/AAAADh0RVh0U29mdHdhcmUAbWF0cGxvdGxpYiB2ZXJzaW9uMy4xLjEsIGh0dHA6Ly9tYXRwbG90bGliLm9yZy8QZhcZAAASIUlEQVR4nO3da5BlV1nG8f/DxABBTMAEjJkMPWFidMobsUEoxAsXmQCTKN4SsQSNE0FBUUuZAIX4waqgiBINxhEQRUwMMWKGhIoEuXyhckMuuRAYIZgJYAKWE0GKEHj9cPbsNE135vRMr7N7T/9/VV05e53T57y10t3PrL3W3itVhSRJAA8YugBJ0tphKEiSeoaCJKlnKEiSeoaCJKl3xNAFHIpjjz225ubmhi5Dkkblhhtu+FxVHbfUc6MOhbm5Oa6//vqhy5CkUUnyqeWe8/SRJKk3ylBIsj3Jrn379g1diiQdVkYZClW1u6rOOfroo4cuRZIOK6MMBUlSG6MMBU8fSVIbowwFTx9JUhujDAVJUhujDAVPH0lSG6O8eK2qdgO75+fndxzse8ztvGLJ9tvOe+bBvqUkjd4oRwqSpDYMBUlSb5Sh4JyCJLUxylBwSaoktTHKUJAktWEoSJJ6hoIkqTfKUHCiWZLaGGUoONEsSW2MMhQkSW0YCpKknqEgSeoZCpKknqEgSeqNMhRckipJbYwyFFySKkltjDIUJEltGAqSpJ6hIEnqGQqSpJ6hIEnqGQqSpJ6hIEnqjTIUvHhNktoYZSh48ZoktTHKUJAktWEoSJJ6hoIkqWcoSJJ6hoIkqWcoSJJ6hoIkqWcoSJJ6hoIkqWcoSJJ6hoIkqbdmQiHJdyW5MMmlSV4wdD2StB41DYUkb0xyZ5IbF7VvS3Jrkj1JdgJU1S1V9XzgZ4EntqxLkrS01iOFNwHbFjYk2QBcAJwGbAXOSrK1e+504ArgysZ1SZKW0DQUqup9wH8van4csKeqPlFV9wAXA2d0r7+8qk4DnrPceyY5J8n1Sa6/6667WpUuSevSEQN85gnA7QuO9wI/mORHgWcDD+R+RgpVtQvYBTA/P1/typSk9WeIUFhSVb0HeM80r02yHdi+ZcuWliVJ0rozxOqjO4ATFxxv7Nqm5s5rktTGECOF64CTk2xmEgZnAj8/QB1Lmtt5xZLtt533zBlXIkmz13pJ6kXA+4FTkuxNcnZV3Qu8ELgKuAW4pKpuWuH7bk+ya9++fatftCStY01HClV11jLtV3IIy06rajewe35+fsfBvock6RutmSuaJUnDG2UoePpIktoYZSi4+kiS2hhlKEiS2jAUJEm9UYaCcwqS1MYoQ8E5BUlqY5ShIElqw1CQJPVGGQrOKUhSG6MMBecUJKmNUYaCJKkNQ0GS1DMUJEm9UYaCE82S1MYoQ8GJZklqY4jtOEdpuW06wa06JR0+RjlSkCS1YShIknqGgiSpZyhIknqjDAWXpEpSG6MMBZekSlIbowwFSVIbhoIkqWcoSJJ6hoIkqWcoSJJ6U4VCku9pXYgkaXjTjhRel+TaJL+WxHWgknSYmuouqVX1pCQnA78M3JDkWuBvquqdTatbRpLtwPYtW7YM8fHfYLk7qHr3VEljM/WcQlV9HHg58BLgR4Dzk3w0ybNbFXc/tXjxmiQ1MO2cwvcm+VPgFuDJwPaq+q7u8Z82rE+SNEPTbrLz58DrgZdW1Zf2N1bVp5O8vEllkqSZmzYUngl8qaq+CpDkAcCDqur/qurNzaqTJM3UtHMKVwMPXnB8VNcmSTqMTDtSeFBVfWH/QVV9IclRjWo6bLgqSdLYTDtS+GKSU/cfJPkB4Ev383pJ0ghNO1J4MfDWJJ8GAnwb8HPNqpIkDWLai9euS/KdwCld061V9ZV2ZUmShjDtSAHgscBc9z2nJqGq/q5JVZKkQUwVCkneDDwa+CDw1a65AENBkg4j044U5oGtVVUti0nyE0yuifgW4A1V9a8tP0+S9PWmXX10I5PJ5RVL8sYkdya5cVH7tiS3JtmTZCdAVb2tqnYAz8eJbEmauWlHCscCN3d3R/3y/saqOn2K730T8BcsONWUZANwAfA0YC9wXZLLq+rm7iUv756XJM3QtKHwyoP9gKp6X5K5Rc2PA/ZU1ScAklwMnJHkFuA84B1V9YGD/UxJ0sGZdknqe5M8Cji5qq7urmbecAifewJw+4LjvcAPAi8CngocnWRLVV24+BuTnAOcA7Bp06ZDKEGStNi0q492MPlD/HAmq5BOAC4EnrKaxVTV+cD5B3jNLmAXwPz8fNOJb0lab6adaP514InA3dBvuPOIQ/jcO4ATFxxv7NqmkmR7kl379u07hBIkSYtNGwpfrqp79h8kOYLJdQoH6zrg5CSbkxwJnAlcPu03u/OaJLUxbSi8N8lLgQcneRrwVmD3NN+Y5CLg/cApSfYmObuq7gVeCFzFZDe3S6rqppWXL0laTdOuPtoJnA18BPhV4EomO7EdUFWdtUz7ld37rFiS7cD2LVu2HMy3S5KWMe3qo68Bf919Da6qdgO75+fndwxdiyQdTqZdffRJlphDqKqTVr0iSdJgVnLvo/0eBPwMk+Wpg/D0kSS1MdVEc1V9fsHXHVX1Z0xuXDcIVx9JUhvTnj46dcHhA5iMHFayF4MkaQSm/cP+Jwse3wvcBvzsqlczJU8fSVIb064++rHWhayEq48kqY1pTx/99v09X1WvWZ1yJElDWsnqo8dy360otgPXAh9vUZQkaRjThsJG4NSq+l+AJK8ErqiqX2hV2OFsbucVS7bfdt5gC7okCZg+FB4J3LPg+J6ubRCH60SzYSFpaNPeEO/vgGuTvLIbJVwD/G2zqg7A6xQkqY1pVx/9YZJ3AE/qmn6pqv69XVmSpCFMO1IAOAq4u6peC+xNsrlRTZKkgUwVCkl+H3gJcG7X9E3A37cqSpI0jGlHCj8JnA58EaCqPg08tFVRB+J2nJLUxrShcE9VFd3ts5M8pF1JB+ZEsyS1MW0oXJLkr4BjkuwArmaNbLgjSVo9064+enW3N/PdwCnAK6rqnU0rkyTN3AFDIckG4OrupngGgSQdxg4YClX11SRfS3J0VTmzOwCvdJY0K9Pe5uILwEeSvJNuBRJAVf1Gk6oO4HC9zYUkDW3aULis+1oT3E9Bktq431BIsqmq/rOqBrvPkSRpdg60JPVt+x8k+afGtUiSBnagUMiCxye1LESSNLwDhUIt81iSdBg60ETz9yW5m8mI4cHdY7rjqqpvaVqdJGmm7jcUqmrDrArRynn9gqTVtpL9FCRJh7lRhoK3zpakNkYZCt46W5LaGGUoSJLaMBQkST1DQZLUMxQkST1DQZLUm/bW2RoRL2qTdLAcKUiSeoaCJKlnKEiSeoaCJKnnRPM64gS0pANZMyOFJCcleUOSS4euRZLWq6YjhSRvBJ4F3FlV372gfRvwWmAD8PqqOq+qPgGcbSisHY4spPWn9UjhTcC2hQ1JNgAXAKcBW4GzkmxtXIckaQpNRwpV9b4kc4uaHwfs6UYGJLkYOAO4eZr3THIOcA7Apk2bVq3W9Wy5EYGk9WeIOYUTgNsXHO8FTkjyrUkuBB6T5NzlvrmqdlXVfFXNH3fcca1rlaR1Zc2sPqqqzwPPH7oOSVrPhhgp3AGcuOB4Y9c2NbfjlKQ2hgiF64CTk2xOciRwJnD5St7A7TglqY2moZDkIuD9wClJ9iY5u6ruBV4IXAXcAlxSVTet8H0dKUhSA61XH521TPuVwJWH8L67gd3z8/M7DvY9JEnfaM1c0SxJGt4oQ8HTR5LUxihDwYlmSWpjlKEgSWrDUJAk9dbMFc0rkWQ7sH3Lli1Dl7IuefdU6fA1ypGCcwqS1MYoQ0GS1IahIEnqjTIUvE5BktoYZSg4pyBJbYwyFCRJbRgKkqSeoSBJ6nnxmmZipRe8rdYFcl5oJ63MKEcKTjRLUhujDAVJUhuGgiSpZyhIknqGgiSpZyhIknouSdWqWW755yw+wyWm0uoY5UjBJamS1MYoQ0GS1IahIEnqGQqSpJ6hIEnqGQqSpJ6hIEnqGQqSpJ4Xr2lQq3XBW+sL51b6/qt5MZ0X7GmWRjlS8OI1SWpjlKEgSWrDUJAk9QwFSVLPUJAk9QwFSVLPUJAk9QwFSVLPUJAk9QwFSVLPUJAk9QwFSVJvzdwQL8lDgNcB9wDvqaq3DFySJK07TUcKSd6Y5M4kNy5q35bk1iR7kuzsmp8NXFpVO4DTW9YlSVpa69NHbwK2LWxIsgG4ADgN2AqclWQrsBG4vXvZVxvXJUlaQtPTR1X1viRzi5ofB+ypqk8AJLkYOAPYyyQYPsj9hFWSc4BzADZt2rT6RWtda70vw/19xkr3R1jp+7Tel2E133+oPSRWa9+MMffFEBPNJ3DfiAAmYXACcBnwU0n+Eti93DdX1a6qmq+q+eOOO65tpZK0zqyZieaq+iLwS9O81p3XJKmNIUYKdwAnLjje2LVNzZ3XJKmNIULhOuDkJJuTHAmcCVw+QB2SpEVaL0m9CHg/cEqSvUnOrqp7gRcCVwG3AJdU1U0rfN/tSXbt27dv9YuWpHWs9eqjs5ZpvxK48hDedzewe35+fsfBvock6Rt5mwtJUm+UoeDpI0lqY5Sh4OojSWojVTV0DQctyV3Ap6Z8+bHA5xqWc7Csa3prsSZYm3WtxZrAulaiZU2Pqqolr/4ddSisRJLrq2p+6DoWs67prcWaYG3WtRZrAutaiaFqGuXpI0lSG4aCJKm3nkJh19AFLMO6prcWa4K1WddarAmsayUGqWndzClIkg5sPY0UJEkHYChIknrrIhSW2RN6iDpOTPLuJDcnuSnJb3btD0/yziQf7/77sAFq25Dk35O8vTvenOSars/+sbuj7axrOibJpUk+muSWJE8Yuq+S/Fb3/+7GJBcledAQfbXU/ufL9U0mzu/q+3CSU2dc1x93/w8/nOSfkxyz4Llzu7puTfL0WdW04LnfSVJJju2OB+2rrv1FXX/dlOSPFrQ37ysAquqw/gI2AP8BnAQcCXwI2DpQLccDp3aPHwp8jMk+1X8E7OzadwKvGqC23wb+AXh7d3wJcGb3+ELgBQPU9LfAr3SPjwSOGbKvmOwQ+EngwQv66HlD9BXww8CpwI0L2pbsG+AZwDuAAI8HrplxXT8OHNE9ftWCurZ2v48PBDZ3v6cbZlFT134ik7s1fwo4do301Y8BVwMP7I4fMcu+qqp1EQpPAK5acHwucO7QdXW1/AvwNOBW4Piu7Xjg1hnXsRF4F/Bk4O3dL8TnFvwif10fzqimo7s/wFnUPlhfcd9Wsg9ncofhtwNPH6qvgLlFf1CW7Bvgr4CzlnrdLOpa9NxPAm/pHn/d72L3B/oJs6oJuBT4PuC2BaEwaF8x+QfGU5d43cz6aj2cPlpuT+hBJZkDHgNcAzyyqj7TPfVZ4JEzLufPgN8DvtYdfyvwPzXZ+wKG6bPNwF3A33SntV6f5CEM2FdVdQfwauA/gc8A+4AbGL6v9luub9bS78AvM/mXOAxYV5IzgDuq6kOLnhq6r74DeFJ3OvK9SR4767rWQyisOUm+Gfgn4MVVdffC52ryz4CZrRNO8izgzqq6YVafOaUjmAyt/7KqHgN8kckpkd4AffUw4AwmgfXtwEOAbbP6/JWYdd9MI8nLgHuBtwxcx1HAS4FXDFnHMo5gMhJ9PPC7wCVJMssC1kMoHPKe0KspyTcxCYS3VNVlXfN/JTm+e/544M4ZlvRE4PQktwEXMzmF9FrgmCT7N2Eaos/2Anur6pru+FImITFkXz0V+GRV3VVVXwEuY9J/Q/fVfsv1zeC/A0meBzwLeE4XWEPW9Wgmwf6h7ud+I/CBJN82YE377QUuq4lrmYzej51lXeshFNbMntBd4r8BuKWqXrPgqcuB53aPn8tkrmEmqurcqtpYVXNM+ubfquo5wLuBnx6ipq6uzwK3Jzmla3oKcDMD9hWT00aPT3JU9/9yf02D9tUCy/XN5cAvditrHg/sW3Caqbkk25icnjy9qv5vUb1nJnlgks3AycC1reupqo9U1SOqaq77ud/LZAHIZxm4r4C3MZlsJsl3MFlg8Tlm2VetJlDW0heTFQUfYzJj/7IB6/ghJkP6DwMf7L6eweQc/ruAjzNZefDwger7Ue5bfXRS90O3B3gr3WqIGdfz/cD1XX+9DXjY0H0F/AHwUeBG4M1MVoPMvK+Ai5jMa3yFyR+1s5frGyYLBy7ofv4/AszPuK49TM6H7/+Zv3DB61/W1XUrcNqsalr0/G3cN9E8dF8dCfx99/P1AeDJs+yrqvI2F5Kk+6yH00eSpCkZCpKknqEgSeoZCpKknqEgSeoZCpKknqEgSer9P+P/dtpHbQ/gAAAAAElFTkSuQmCC\n",
      "text/plain": [
       "<Figure size 432x288 with 1 Axes>"
      ]
     },
     "metadata": {
      "needs_background": "light"
     },
     "output_type": "display_data"
    }
   ],
   "source": [
    "tmp.groupby('conv_id').size().plot.hist(bins=50)\n",
    "plt.yscale('log')"
   ]
  },
  {
   "cell_type": "code",
   "execution_count": 85,
   "metadata": {},
   "outputs": [
    {
     "data": {
      "image/png": "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\n",
      "text/plain": [
       "<Figure size 432x288 with 1 Axes>"
      ]
     },
     "metadata": {
      "needs_background": "light"
     },
     "output_type": "display_data"
    }
   ],
   "source": [
    "tmp[tmp.text.isnull()].groupby('conv_id').size().plot.hist(bins=50)\n",
    "plt.yscale('log')"
   ]
  },
  {
   "cell_type": "code",
   "execution_count": 86,
   "metadata": {},
   "outputs": [
    {
     "data": {
      "text/plain": [
       "(29568, 11)"
      ]
     },
     "execution_count": 86,
     "metadata": {},
     "output_type": "execute_result"
    }
   ],
   "source": [
    "tmp[~tmp.conv_id.isin( tmp[tmp.text.isnull()].conv_id )].shape"
   ]
  },
  {
   "cell_type": "markdown",
   "metadata": {},
   "source": [
    "we need to filter conversations with deleted tweets"
   ]
  },
  {
   "cell_type": "code",
   "execution_count": 90,
   "metadata": {},
   "outputs": [],
   "source": [
    "path = os.path.join(data_dir, 'tweets_conv.csv')\n",
    "dsfinal = tmp[~tmp.conv_id.isin( tmp[tmp.text.isnull()].conv_id )]\n",
    "dsfinal.to_csv(path, index=False)"
   ]
  },
  {
   "cell_type": "code",
   "execution_count": 91,
   "metadata": {},
   "outputs": [
    {
     "data": {
      "text/html": [
       "<div>\n",
       "<style scoped>\n",
       "    .dataframe tbody tr th:only-of-type {\n",
       "        vertical-align: middle;\n",
       "    }\n",
       "\n",
       "    .dataframe tbody tr th {\n",
       "        vertical-align: top;\n",
       "    }\n",
       "\n",
       "    .dataframe thead th {\n",
       "        text-align: right;\n",
       "    }\n",
       "</style>\n",
       "<table border=\"1\" class=\"dataframe\">\n",
       "  <thead>\n",
       "    <tr style=\"text-align: right;\">\n",
       "      <th></th>\n",
       "      <th>conv_id</th>\n",
       "      <th>id</th>\n",
       "      <th>reply_to_id</th>\n",
       "      <th>screen_name</th>\n",
       "      <th>text</th>\n",
       "      <th>in_reply_to_status_id</th>\n",
       "      <th>created_at</th>\n",
       "      <th>latitude</th>\n",
       "      <th>longitude</th>\n",
       "      <th>lang</th>\n",
       "      <th>timestamp</th>\n",
       "    </tr>\n",
       "  </thead>\n",
       "  <tbody>\n",
       "    <tr>\n",
       "      <th>0</th>\n",
       "      <td>0</td>\n",
       "      <td>5621079719</td>\n",
       "      <td>NaN</td>\n",
       "      <td>justinbieber</td>\n",
       "      <td>i stink at math! ughhh.</td>\n",
       "      <td>NaN</td>\n",
       "      <td>Wed Nov 11 15:24:12 +0000 2009</td>\n",
       "      <td>NaN</td>\n",
       "      <td>NaN</td>\n",
       "      <td>en</td>\n",
       "      <td>2009-11-11 15:24:12</td>\n",
       "    </tr>\n",
       "    <tr>\n",
       "      <th>1</th>\n",
       "      <td>0</td>\n",
       "      <td>34089140559544320</td>\n",
       "      <td>5621079719</td>\n",
       "      <td>osnapxari</td>\n",
       "      <td>@justinbieber don't worry we all do :) follow me</td>\n",
       "      <td>5621079719</td>\n",
       "      <td>Sun Feb 06 03:20:59 +0000 2011</td>\n",
       "      <td>NaN</td>\n",
       "      <td>NaN</td>\n",
       "      <td>en</td>\n",
       "      <td>2011-02-06 03:20:59</td>\n",
       "    </tr>\n",
       "    <tr>\n",
       "      <th>2</th>\n",
       "      <td>1</td>\n",
       "      <td>5911874749</td>\n",
       "      <td>NaN</td>\n",
       "      <td>LeaMichele</td>\n",
       "      <td>Omg Vampire Diaries this week!?!? Who saw it??...</td>\n",
       "      <td>NaN</td>\n",
       "      <td>Sat Nov 21 05:27:34 +0000 2009</td>\n",
       "      <td>NaN</td>\n",
       "      <td>NaN</td>\n",
       "      <td>en</td>\n",
       "      <td>2009-11-21 05:27:34</td>\n",
       "    </tr>\n",
       "    <tr>\n",
       "      <th>3</th>\n",
       "      <td>1</td>\n",
       "      <td>31744611152039936</td>\n",
       "      <td>5911874749</td>\n",
       "      <td>gleekR5fan4life</td>\n",
       "      <td>@msleamichele haha I luv tht show....addicting</td>\n",
       "      <td>5911874749</td>\n",
       "      <td>Sun Jan 30 16:04:39 +0000 2011</td>\n",
       "      <td>NaN</td>\n",
       "      <td>NaN</td>\n",
       "      <td>en</td>\n",
       "      <td>2011-01-30 16:04:39</td>\n",
       "    </tr>\n",
       "    <tr>\n",
       "      <th>6</th>\n",
       "      <td>3</td>\n",
       "      <td>7135277765</td>\n",
       "      <td>NaN</td>\n",
       "      <td>justinbieber</td>\n",
       "      <td>#itsabieberthing when you have the greatest fa...</td>\n",
       "      <td>NaN</td>\n",
       "      <td>Mon Dec 28 21:24:15 +0000 2009</td>\n",
       "      <td>NaN</td>\n",
       "      <td>NaN</td>\n",
       "      <td>en</td>\n",
       "      <td>2009-12-28 21:24:15</td>\n",
       "    </tr>\n",
       "  </tbody>\n",
       "</table>\n",
       "</div>"
      ],
      "text/plain": [
       "  conv_id                 id reply_to_id      screen_name  \\\n",
       "0       0         5621079719         NaN     justinbieber   \n",
       "1       0  34089140559544320  5621079719        osnapxari   \n",
       "2       1         5911874749         NaN       LeaMichele   \n",
       "3       1  31744611152039936  5911874749  gleekR5fan4life   \n",
       "6       3         7135277765         NaN     justinbieber   \n",
       "\n",
       "                                                text in_reply_to_status_id  \\\n",
       "0                            i stink at math! ughhh.                   NaN   \n",
       "1   @justinbieber don't worry we all do :) follow me            5621079719   \n",
       "2  Omg Vampire Diaries this week!?!? Who saw it??...                   NaN   \n",
       "3     @msleamichele haha I luv tht show....addicting            5911874749   \n",
       "6  #itsabieberthing when you have the greatest fa...                   NaN   \n",
       "\n",
       "                       created_at latitude longitude lang            timestamp  \n",
       "0  Wed Nov 11 15:24:12 +0000 2009      NaN       NaN   en  2009-11-11 15:24:12  \n",
       "1  Sun Feb 06 03:20:59 +0000 2011      NaN       NaN   en  2011-02-06 03:20:59  \n",
       "2  Sat Nov 21 05:27:34 +0000 2009      NaN       NaN   en  2009-11-21 05:27:34  \n",
       "3  Sun Jan 30 16:04:39 +0000 2011      NaN       NaN   en  2011-01-30 16:04:39  \n",
       "6  Mon Dec 28 21:24:15 +0000 2009      NaN       NaN   en  2009-12-28 21:24:15  "
      ]
     },
     "execution_count": 91,
     "metadata": {},
     "output_type": "execute_result"
    }
   ],
   "source": [
    "dsfinal.head()"
   ]
  },
  {
   "cell_type": "code",
   "execution_count": 89,
   "metadata": {},
   "outputs": [
    {
     "data": {
      "text/plain": [
       "(5765,)"
      ]
     },
     "execution_count": 89,
     "metadata": {},
     "output_type": "execute_result"
    }
   ],
   "source": [
    "dsfinal.groupby('conv_id').size().shape"
   ]
  },
  {
   "cell_type": "code",
   "execution_count": null,
   "metadata": {},
   "outputs": [],
   "source": []
  }
 ],
 "metadata": {
  "kernelspec": {
   "display_name": "Python 3",
   "language": "python",
   "name": "python3"
  },
  "language_info": {
   "codemirror_mode": {
    "name": "ipython",
    "version": 3
   },
   "file_extension": ".py",
   "mimetype": "text/x-python",
   "name": "python",
   "nbconvert_exporter": "python",
   "pygments_lexer": "ipython3",
   "version": "3.7.3"
  }
 },
 "nbformat": 4,
 "nbformat_minor": 2
}
