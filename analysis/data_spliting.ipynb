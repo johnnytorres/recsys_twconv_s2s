{
 "cells": [
  {
   "cell_type": "code",
   "execution_count": 1,
   "metadata": {},
   "outputs": [],
   "source": [
    "import pandas as pd"
   ]
  },
  {
   "cell_type": "code",
   "execution_count": 16,
   "metadata": {},
   "outputs": [
    {
     "name": "stdout",
     "output_type": "stream",
     "text": [
      "<class 'pandas.core.frame.DataFrame'>\n",
      "RangeIndex: 520263 entries, 0 to 520262\n",
      "Data columns (total 12 columns):\n",
      "id                       520263 non-null object\n",
      "screen_name              520263 non-null object\n",
      "latitude                 4063 non-null object\n",
      "longitude                4063 non-null object\n",
      "in_reply_to_status_id    507354 non-null object\n",
      "text                     520263 non-null object\n",
      "timestamp                520247 non-null datetime64[ns]\n",
      "conversation_id          520263 non-null object\n",
      "conversation_deep        520263 non-null object\n",
      "num_replies              520263 non-null object\n",
      "num_users                520263 non-null object\n",
      "url                      520263 non-null object\n",
      "dtypes: datetime64[ns](1), object(11)\n",
      "memory usage: 47.6+ MB\n"
     ]
    }
   ],
   "source": [
    "ds = pd.read_csv('../data/convusersec/conversations.csv', parse_dates=['timestamp'], dtype=object)\n",
    "ds.info()"
   ]
  },
  {
   "cell_type": "code",
   "execution_count": 17,
   "metadata": {},
   "outputs": [
    {
     "data": {
      "text/plain": [
       "screen_name\n",
       "MashiRafael      6212\n",
       "aguschmer        6140\n",
       "KarlaMoralesR    2575\n",
       "marceloht40      1617\n",
       "sejusto2015       834\n",
       "dtype: int64"
      ]
     },
     "execution_count": 17,
     "metadata": {},
     "output_type": "execute_result"
    }
   ],
   "source": [
    "ds.groupby('screen_name').size().sort_values(ascending=False).head()"
   ]
  },
  {
   "cell_type": "code",
   "execution_count": 42,
   "metadata": {},
   "outputs": [
    {
     "data": {
      "text/plain": [
       "(123957, 12)"
      ]
     },
     "execution_count": 42,
     "metadata": {},
     "output_type": "execute_result"
    }
   ],
   "source": [
    "politics = ds[ds.conversation_id.isin(ds[ds.screen_name=='MashiRafael'].conversation_id.unique())].copy()\n",
    "politics.sort_values(by='timestamp', ascending=True, inplace=True)\n",
    "politics = politics[politics.conversation_id.isin(politics.groupby('conversation_id').size().head(1000).index.values)]\n",
    "politics.shape"
   ]
  },
  {
   "cell_type": "code",
   "execution_count": 43,
   "metadata": {},
   "outputs": [
    {
     "data": {
      "text/plain": [
       "(15059, 12)"
      ]
     },
     "execution_count": 43,
     "metadata": {},
     "output_type": "execute_result"
    }
   ],
   "source": [
    "sports = ds[ds.conversation_id.isin(ds[ds.screen_name=='aguschmer'].conversation_id.unique())].copy()\n",
    "sports.sort_values(by='timestamp', ascending=True, inplace=True)\n",
    "sports = sports[sports.conversation_id.isin(sports.groupby('conversation_id').size().head(1000).index.values)]\n",
    "sports.shape"
   ]
  },
  {
   "cell_type": "code",
   "execution_count": 44,
   "metadata": {},
   "outputs": [
    {
     "data": {
      "text/plain": [
       "(7656, 12)"
      ]
     },
     "execution_count": 44,
     "metadata": {},
     "output_type": "execute_result"
    }
   ],
   "source": [
    "activism = ds[ds.conversation_id.isin(ds[ds.screen_name=='KarlaMoralesR'].conversation_id.unique())].copy()\n",
    "activism.sort_values(by='timestamp', ascending=True, inplace=True)\n",
    "activism = activism[activism.conversation_id.isin(activism.groupby('conversation_id').size().head(1000).index.values)]\n",
    "activism.shape"
   ]
  },
  {
   "cell_type": "code",
   "execution_count": 45,
   "metadata": {},
   "outputs": [],
   "source": [
    "politics.to_csv('../data/convusersec/conversations_politics.csv', index=False)"
   ]
  },
  {
   "cell_type": "code",
   "execution_count": 46,
   "metadata": {},
   "outputs": [],
   "source": [
    "sports.to_csv('../data/convusersec/conversations_sports.csv', index=False)"
   ]
  },
  {
   "cell_type": "code",
   "execution_count": 47,
   "metadata": {},
   "outputs": [],
   "source": [
    "activism.to_csv('../data/convusersec/conversations_activism.csv', index=False)"
   ]
  },
  {
   "cell_type": "code",
   "execution_count": null,
   "metadata": {},
   "outputs": [],
   "source": []
  }
 ],
 "metadata": {
  "kernelspec": {
   "display_name": "Python 3",
   "language": "python",
   "name": "python3"
  },
  "language_info": {
   "codemirror_mode": {
    "name": "ipython",
    "version": 3
   },
   "file_extension": ".py",
   "mimetype": "text/x-python",
   "name": "python",
   "nbconvert_exporter": "python",
   "pygments_lexer": "ipython3",
   "version": "3.7.3"
  }
 },
 "nbformat": 4,
 "nbformat_minor": 2
}
