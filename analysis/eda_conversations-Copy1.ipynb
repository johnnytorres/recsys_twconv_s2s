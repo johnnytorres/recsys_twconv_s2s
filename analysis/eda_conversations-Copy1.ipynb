{
 "cells": [
  {
   "cell_type": "markdown",
   "metadata": {},
   "source": [
    "# Exploratory analysis on conversational tweets\n",
    "\n",
    "In this dataset, we extract all the conversations for three popular users\n",
    "\n",
    "- MashiRafael (politics)\n",
    "- aguschmer (sports)\n",
    "\n",
    "- KarlaMoralesR (activism on humanitarian aid)"
   ]
  },
  {
   "cell_type": "code",
   "execution_count": 1,
   "metadata": {},
   "outputs": [],
   "source": [
    "%matplotlib inline\n",
    "import matplotlib.pyplot as plt\n",
    "import pandas as pd\n",
    "from tqdm import tqdm\n",
    "from os import listdir\n",
    "from os.path import isfile, join\n",
    "import os\n",
    "import csv\n",
    "import numpy as np"
   ]
  },
  {
   "cell_type": "code",
   "execution_count": 2,
   "metadata": {
    "scrolled": false
   },
   "outputs": [
    {
     "name": "stdout",
     "output_type": "stream",
     "text": [
      "<class 'pandas.core.frame.DataFrame'>\n",
      "RangeIndex: 520263 entries, 0 to 520262\n",
      "Data columns (total 14 columns):\n",
      "id                       520263 non-null int64\n",
      "screen_name              520263 non-null object\n",
      "latitude                 4063 non-null float64\n",
      "longitude                4063 non-null float64\n",
      "lang                     520263 non-null object\n",
      "in_reply_to_status_id    507354 non-null float64\n",
      "created_at               520263 non-null object\n",
      "text                     520263 non-null object\n",
      "timestamp                520247 non-null datetime64[ns]\n",
      "conversation_id          520263 non-null int64\n",
      "conversation_deep        520263 non-null int64\n",
      "num_replies              520263 non-null int64\n",
      "num_users                520263 non-null int64\n",
      "url                      520263 non-null object\n",
      "dtypes: datetime64[ns](1), float64(3), int64(5), object(5)\n",
      "memory usage: 55.6+ MB\n"
     ]
    }
   ],
   "source": [
    "data_dir='~/data/twconv/twconv_2016_usersec'\n",
    "data_dir=os.path.expanduser(data_dir)\n",
    "fpath = os.path.join(data_dir, 'conversations_large.csv')\n",
    "ds = pd.read_csv(fpath, parse_dates=['timestamp'])\n",
    "ds.info()"
   ]
  },
  {
   "cell_type": "markdown",
   "metadata": {},
   "source": [
    "520K tweets in the dataset, including: those popular users' tweets and all the replies.\n",
    "\n",
    "## temporal distribution\n",
    "\n",
    "Let's analyze the temporal distribution of the tweets"
   ]
  },
  {
   "cell_type": "code",
   "execution_count": 3,
   "metadata": {},
   "outputs": [
    {
     "data": {
      "text/plain": [
       "<matplotlib.axes._subplots.AxesSubplot at 0x11d09b3c8>"
      ]
     },
     "execution_count": 3,
     "metadata": {},
     "output_type": "execute_result"
    },
    {
     "data": {
      "image/png": "[encoded data removed]",
      "text/plain": [
       "<Figure size 432x288 with 1 Axes>"
      ]
     },
     "metadata": {
      "needs_background": "light"
     },
     "output_type": "display_data"
    }
   ],
   "source": [
    "ds.groupby(ds['timestamp'].dt.date).size().plot()"
   ]
  },
  {
   "cell_type": "markdown",
   "metadata": {},
   "source": [
    "the tweets begin in 2010, then steadily increase through the years with a huge spike in 2018 probably the referendum in february"
   ]
  },
  {
   "cell_type": "markdown",
   "metadata": {},
   "source": [
    "## most active users"
   ]
  },
  {
   "cell_type": "code",
   "execution_count": 4,
   "metadata": {},
   "outputs": [
    {
     "data": {
      "text/plain": [
       "screen_name\n",
       "MashiRafael      6212\n",
       "aguschmer        6140\n",
       "KarlaMoralesR    2575\n",
       "marceloht40      1617\n",
       "sejusto2015       834\n",
       "dtype: int64"
      ]
     },
     "execution_count": 4,
     "metadata": {},
     "output_type": "execute_result"
    }
   ],
   "source": [
    "ds.groupby('screen_name').size().sort_values(ascending=False).head()"
   ]
  },
  {
   "cell_type": "markdown",
   "metadata": {},
   "source": [
    "## number of tweets that start conversations"
   ]
  },
  {
   "cell_type": "code",
   "execution_count": 5,
   "metadata": {},
   "outputs": [
    {
     "data": {
      "text/plain": [
       "screen_name\n",
       "aguschmer        5257\n",
       "MashiRafael      5060\n",
       "KarlaMoralesR    1768\n",
       "adeljar            11\n",
       "la_abogada_        11\n",
       "dtype: int64"
      ]
     },
     "execution_count": 5,
     "metadata": {},
     "output_type": "execute_result"
    }
   ],
   "source": [
    "conv_users = ds[ds.in_reply_to_status_id.isnull()].groupby('screen_name')\n",
    "conv_users.size().sort_values(ascending=False).head()"
   ]
  },
  {
   "cell_type": "code",
   "execution_count": 6,
   "metadata": {},
   "outputs": [
    {
     "name": "stdout",
     "output_type": "stream",
     "text": [
      "652\n"
     ]
    }
   ],
   "source": [
    "print(conv_users.size().shape[0])"
   ]
  },
  {
   "cell_type": "markdown",
   "metadata": {},
   "source": [
    "## number of participants by conversation starter"
   ]
  },
  {
   "cell_type": "code",
   "execution_count": 7,
   "metadata": {},
   "outputs": [
    {
     "data": {
      "text/html": [
       "<div>\n",
       "<style scoped>\n",
       "    .dataframe tbody tr th:only-of-type {\n",
       "        vertical-align: middle;\n",
       "    }\n",
       "\n",
       "    .dataframe tbody tr th {\n",
       "        vertical-align: top;\n",
       "    }\n",
       "\n",
       "    .dataframe thead th {\n",
       "        text-align: right;\n",
       "    }\n",
       "</style>\n",
       "<table border=\"1\" class=\"dataframe\">\n",
       "  <thead>\n",
       "    <tr style=\"text-align: right;\">\n",
       "      <th></th>\n",
       "      <th>screen_name</th>\n",
       "      <th>num_replies</th>\n",
       "      <th>num_participants</th>\n",
       "    </tr>\n",
       "  </thead>\n",
       "  <tbody>\n",
       "    <tr>\n",
       "      <th>208</th>\n",
       "      <td>MashiRafael</td>\n",
       "      <td>413805</td>\n",
       "      <td>97682</td>\n",
       "    </tr>\n",
       "    <tr>\n",
       "      <th>326</th>\n",
       "      <td>aguschmer</td>\n",
       "      <td>79425</td>\n",
       "      <td>24219</td>\n",
       "    </tr>\n",
       "    <tr>\n",
       "      <th>173</th>\n",
       "      <td>KarlaMoralesR</td>\n",
       "      <td>12355</td>\n",
       "      <td>5290</td>\n",
       "    </tr>\n",
       "    <tr>\n",
       "      <th>36</th>\n",
       "      <td>BatichicaRC</td>\n",
       "      <td>489</td>\n",
       "      <td>207</td>\n",
       "    </tr>\n",
       "    <tr>\n",
       "      <th>579</th>\n",
       "      <td>pametroya</td>\n",
       "      <td>393</td>\n",
       "      <td>157</td>\n",
       "    </tr>\n",
       "  </tbody>\n",
       "</table>\n",
       "</div>"
      ],
      "text/plain": [
       "       screen_name  num_replies  num_participants\n",
       "208    MashiRafael       413805             97682\n",
       "326      aguschmer        79425             24219\n",
       "173  KarlaMoralesR        12355              5290\n",
       "36     BatichicaRC          489               207\n",
       "579      pametroya          393               157"
      ]
     },
     "execution_count": 7,
     "metadata": {},
     "output_type": "execute_result"
    }
   ],
   "source": [
    "participants_by_conv_starter = []\n",
    "pcs = {}\n",
    "\n",
    "for name, group in conv_users:\n",
    "    conv_ids = group.id.values\n",
    "    #conv_ids = ds[ds.screen_name==name].head().groupby('conversation_id').size().index.values\n",
    "    conv_tweets = ds[ds.conversation_id.isin(conv_ids)]\n",
    "    #print(name, conv_tweets.shape[0], conv_tweets.screen_name.nunique())\n",
    "    participants_by_conv_starter.append((name, conv_tweets.shape[0], conv_tweets.screen_name.nunique()))\n",
    "    pcs[name] = set(conv_tweets.screen_name.unique())\n",
    "    #break\n",
    "\n",
    "ds_participants = pd.DataFrame(participants_by_conv_starter, columns=['screen_name','num_replies','num_participants'])\n",
    "ds_participants.sort_values(by='num_replies', ascending=False).head()"
   ]
  },
  {
   "cell_type": "markdown",
   "metadata": {},
   "source": [
    "## users participating on conversations in different domains?"
   ]
  },
  {
   "cell_type": "code",
   "execution_count": 8,
   "metadata": {},
   "outputs": [
    {
     "name": "stdout",
     "output_type": "stream",
     "text": [
      "7699\n",
      "2138\n",
      "1945\n"
     ]
    }
   ],
   "source": [
    "intersect = pcs['MashiRafael'].intersection(pcs['aguschmer'])\n",
    "intersect2 = pcs['MashiRafael'].intersection(pcs['KarlaMoralesR'])\n",
    "intersect3 = pcs['aguschmer'].intersection(pcs['KarlaMoralesR'])\n",
    "print(len(intersect))\n",
    "print(len(intersect2))\n",
    "print(len(intersect3))"
   ]
  },
  {
   "cell_type": "code",
   "execution_count": 9,
   "metadata": {},
   "outputs": [
    {
     "data": {
      "text/plain": [
       "0.09953451436584974"
      ]
     },
     "execution_count": 9,
     "metadata": {},
     "output_type": "execute_result"
    }
   ],
   "source": [
    "(7699+2138+1945) / ds.screen_name.nunique()"
   ]
  },
  {
   "cell_type": "markdown",
   "metadata": {},
   "source": [
    "less than 10% of the total of the users"
   ]
  },
  {
   "cell_type": "code",
   "execution_count": 12,
   "metadata": {},
   "outputs": [],
   "source": [
    "import networkx as nx\n",
    "import numpy as np"
   ]
  },
  {
   "cell_type": "code",
   "execution_count": 13,
   "metadata": {},
   "outputs": [],
   "source": [
    "#G.add_nodes_from(ds_participants.screen_name.values)\n",
    "\n",
    "name_list=['MashiRafael','KarlaMoralesR','aguschmer']\n",
    "color_list=['green', 'red', 'blue']\n",
    "nodes_color = []\n",
    "i = 0\n",
    "G = nx.DiGraph()\n",
    "\n",
    "for name, color in zip(name_list, color_list):\n",
    "    nodes = list(pcs[name])\n",
    "    sample_nodes=np.random.choice(nodes, int(len(nodes)*0.01),replace=False)\n",
    "    for e in sample_nodes:\n",
    "        G.add_edge(e, name)\n",
    "        \n",
    "name_list= []\n",
    "name_list.append(('MashiRafael','aguschmer'))\n",
    "name_list.append(('MashiRafael','KarlaMoralesR'))\n",
    "name_list.append(('aguschmer','KarlaMoralesR'))\n",
    "\n",
    "node_list = []\n",
    "node_list.append(intersect)\n",
    "node_list.append(intersect2)\n",
    "node_list.append(intersect3)\n",
    "intergroup = []\n",
    "\n",
    "for names, nodes_ in zip(name_list, node_list):\n",
    "    nodes = list(nodes_)\n",
    "    sample_nodes = np.random.choice(nodes, int(len(nodes)*0.05), replace=False)\n",
    "\n",
    "    for e in sample_nodes:\n",
    "        G.add_edge(e, names[0])\n",
    "        G.add_edge(e, names[1])\n",
    "        intergroup.append(e)"
   ]
  },
  {
   "cell_type": "code",
   "execution_count": 25,
   "metadata": {},
   "outputs": [
    {
     "data": {
      "text/plain": [
       "<matplotlib.collections.PathCollection at 0x11798b208>"
      ]
     },
     "execution_count": 25,
     "metadata": {},
     "output_type": "execute_result"
    },
    {
     "data": {
      "image/png": "[encoded data removed]",
      "text/plain": [
       "<Figure size 504x504 with 1 Axes>"
      ]
     },
     "metadata": {},
     "output_type": "display_data"
    }
   ],
   "source": [
    "plt.figure\n",
    "fig, ax = plt.subplots(figsize=(7,7))\n",
    "ax.axis('off')\n",
    "pos = nx.spring_layout(G,k=0.10 , iterations=40)  #so^>v<dph8 ,k=0.10,iterations=50\n",
    "group = list(G.predecessors('MashiRafael'))\n",
    "nx.draw_networkx_nodes(G,pos=pos, with_labels=False,node_size=5, ax=ax, nodelist=group, node_color='green', node_shape='^')\n",
    "group = list(G.predecessors('aguschmer'))\n",
    "nx.draw_networkx_nodes(G,pos=pos, with_labels=False,node_size=5, ax=ax, nodelist=group, node_color='blue', node_shape='s')\n",
    "group = list(G.predecessors('KarlaMoralesR'))\n",
    "nx.draw_networkx_nodes(G,pos=pos, with_labels=False,node_size=5, ax=ax, nodelist=group, node_color='red', node_shape='o')\n",
    "\n",
    "nx.draw_networkx_nodes(G,pos=pos, with_labels=False,node_size=5, ax=ax, nodelist=intergroup, node_color='grey', node_shape='8')\n",
    "\n",
    "# group=['MashiRafael','KarlaMoralesR','aguschmer']\n",
    "# labels = {name:name for name in group}\n",
    "# nx.draw_networkx_labels(G,pos,labels,font_size=14,font_color='black')"
   ]
  },
  {
   "cell_type": "code",
   "execution_count": 307,
   "metadata": {
    "scrolled": false
   },
   "outputs": [
    {
     "data": {
      "text/plain": [
       "{'MashiRafael': Text(-0.0698278,0.452496,'MashiRafael'),\n",
       " 'KarlaMoralesR': Text(-0.577164,-0.59597,'KarlaMoralesR'),\n",
       " 'aguschmer': Text(0.208664,-0.876724,'aguschmer')}"
      ]
     },
     "execution_count": 307,
     "metadata": {},
     "output_type": "execute_result"
    },
    {
     "data": {
      "image/png": "[encoded data removed]",
      "text/plain": [
       "<Figure size 504x504 with 1 Axes>"
      ]
     },
     "metadata": {},
     "output_type": "display_data"
    }
   ],
   "source": [
    "plt.figure\n",
    "fig, ax = plt.subplots(figsize=(7,7))\n",
    "ax.axis('off')\n",
    "pos = nx.spring_layout(G,k=0.10,iterations=50)\n",
    "group = list(G.predecessors('MashiRafael'))\n",
    "nx.draw_networkx_nodes(G,pos=pos, with_labels=False,node_size=1, ax=ax, nodelist=group, node_color='green', node_shape='o')\n",
    "group = list(G.predecessors('aguschmer'))\n",
    "nx.draw_networkx_nodes(G,pos=pos, with_labels=False,node_size=1, ax=ax, nodelist=group, node_color='blue', node_shape='o')\n",
    "group = list(G.predecessors('KarlaMoralesR'))\n",
    "nx.draw_networkx_nodes(G,pos=pos, with_labels=False,node_size=1, ax=ax, nodelist=group, node_color='red', node_shape='o')\n",
    "nx.draw_networkx_nodes(G,pos=pos, with_labels=False,node_size=1, ax=ax, nodelist=intergroup, node_color='grey', node_shape='x')\n",
    "group=['MashiRafael','KarlaMoralesR','aguschmer']\n",
    "labels = {name:name for name in group}\n",
    "nx.draw_networkx_labels(G,pos,labels,font_size=16,font_color='black')"
   ]
  },
  {
   "cell_type": "markdown",
   "metadata": {},
   "source": [
    "## sample conversations "
   ]
  },
  {
   "cell_type": "code",
   "execution_count": 292,
   "metadata": {},
   "outputs": [
    {
     "name": "stdout",
     "output_type": "stream",
     "text": [
      "KarlaMoralesR 10 6\n",
      "MashiRafael 159 117\n",
      "aguschmer 34 30\n"
     ]
    }
   ],
   "source": [
    "name_list=['MashiRafael','KarlaMoralesR','aguschmer']\n",
    "conv_users = ds[ds.in_reply_to_status_id.isnull()]\n",
    "conv_users = conv_users[conv_users.screen_name.isin(name_list)].groupby('screen_name')\n",
    "users = {}\n",
    "tweets  =[]\n",
    "\n",
    "for name, group in conv_users:\n",
    "    conv_ids= group.sample(5, random_state=1).conversation_id.values\n",
    "    conv_tweets = ds[ds.conversation_id.isin(conv_ids)]\n",
    "    conv_parts = conv_tweets.screen_name.nunique()    \n",
    "    users[name] = set(conv_tweets.screen_name.unique())\n",
    "    t=conv_tweets.groupby('screen_name').agg({'id': 'max'}).reset_index()\n",
    "    tweets.extend(list(zip(t['screen_name'].values,t['id'].values)))\n",
    "    print(name, conv_tweets.shape[0], conv_parts)"
   ]
  },
  {
   "cell_type": "code",
   "execution_count": 259,
   "metadata": {},
   "outputs": [
    {
     "name": "stdout",
     "output_type": "stream",
     "text": [
      "KarlaMoralesR MashiRafael 0\n",
      "KarlaMoralesR aguschmer 0\n",
      "MashiRafael KarlaMoralesR 0\n",
      "MashiRafael aguschmer 0\n",
      "aguschmer KarlaMoralesR 0\n",
      "aguschmer MashiRafael 0\n"
     ]
    }
   ],
   "source": [
    "user_list =[]\n",
    "for key,value in users.items():\n",
    "    user_list.extend(list(value))\n",
    "    for key2,value2 in users.items():\n",
    "        if key==key2:\n",
    "            continue\n",
    "        print(key,key2, len(list(value.intersection(value2))))"
   ]
  },
  {
   "cell_type": "markdown",
   "metadata": {},
   "source": [
    "not intersection between users! we can use this sample as small dataset prediction or discussion analysis"
   ]
  },
  {
   "cell_type": "code",
   "execution_count": 293,
   "metadata": {},
   "outputs": [
    {
     "data": {
      "text/plain": [
       "(153, 2)"
      ]
     },
     "execution_count": 293,
     "metadata": {},
     "output_type": "execute_result"
    }
   ],
   "source": [
    "users_to_crawl = pd.DataFrame(data=tweets, columns=['name', 'tweet_id'])\n",
    "users_to_crawl.shape"
   ]
  },
  {
   "cell_type": "code",
   "execution_count": 294,
   "metadata": {
    "scrolled": true
   },
   "outputs": [
    {
     "data": {
      "text/html": [
       "<div>\n",
       "<style scoped>\n",
       "    .dataframe tbody tr th:only-of-type {\n",
       "        vertical-align: middle;\n",
       "    }\n",
       "\n",
       "    .dataframe tbody tr th {\n",
       "        vertical-align: top;\n",
       "    }\n",
       "\n",
       "    .dataframe thead th {\n",
       "        text-align: right;\n",
       "    }\n",
       "</style>\n",
       "<table border=\"1\" class=\"dataframe\">\n",
       "  <thead>\n",
       "    <tr style=\"text-align: right;\">\n",
       "      <th></th>\n",
       "      <th>name</th>\n",
       "      <th>tweet_id</th>\n",
       "    </tr>\n",
       "  </thead>\n",
       "  <tbody>\n",
       "    <tr>\n",
       "      <th>0</th>\n",
       "      <td>KarlaMoralesR</td>\n",
       "      <td>864679238045249545</td>\n",
       "    </tr>\n",
       "    <tr>\n",
       "      <th>1</th>\n",
       "      <td>TitoTacitus</td>\n",
       "      <td>746192692460191744</td>\n",
       "    </tr>\n",
       "    <tr>\n",
       "      <th>2</th>\n",
       "      <td>WilsonMerinoR</td>\n",
       "      <td>852353945007685632</td>\n",
       "    </tr>\n",
       "    <tr>\n",
       "      <th>3</th>\n",
       "      <td>andresgaraym</td>\n",
       "      <td>864680292191272963</td>\n",
       "    </tr>\n",
       "    <tr>\n",
       "      <th>4</th>\n",
       "      <td>ernestoColon20</td>\n",
       "      <td>753038888420147200</td>\n",
       "    </tr>\n",
       "  </tbody>\n",
       "</table>\n",
       "</div>"
      ],
      "text/plain": [
       "             name            tweet_id\n",
       "0   KarlaMoralesR  864679238045249545\n",
       "1     TitoTacitus  746192692460191744\n",
       "2   WilsonMerinoR  852353945007685632\n",
       "3    andresgaraym  864680292191272963\n",
       "4  ernestoColon20  753038888420147200"
      ]
     },
     "execution_count": 294,
     "metadata": {},
     "output_type": "execute_result"
    }
   ],
   "source": [
    "users_to_crawl.head()"
   ]
  },
  {
   "cell_type": "code",
   "execution_count": 295,
   "metadata": {},
   "outputs": [],
   "source": [
    "users_to_crawl.to_csv('../data/convusersec/sample_users_conv.csv', index=False)"
   ]
  },
  {
   "cell_type": "markdown",
   "metadata": {},
   "source": [
    "## generate conversation stats"
   ]
  },
  {
   "cell_type": "markdown",
   "metadata": {},
   "source": [
    "validation about conversations"
   ]
  },
  {
   "cell_type": "code",
   "execution_count": 3,
   "metadata": {},
   "outputs": [
    {
     "data": {
      "text/plain": [
       "8787"
      ]
     },
     "execution_count": 3,
     "metadata": {},
     "output_type": "execute_result"
    }
   ],
   "source": [
    "ds[(ds.num_replies> 1)&(ds.num_users>1) ].conversation_id.nunique()"
   ]
  },
  {
   "cell_type": "markdown",
   "metadata": {},
   "source": [
    "get the number of dialogs generated with different contexts"
   ]
  },
  {
   "cell_type": "code",
   "execution_count": 17,
   "metadata": {},
   "outputs": [
    {
     "name": "stderr",
     "output_type": "stream",
     "text": [
      "520263it [00:52, 9893.58it/s]\n"
     ]
    }
   ],
   "source": [
    "words = {}\n",
    "for i, row in tqdm(ds.iterrows()):\n",
    "    tokens = row['text'].split()\n",
    "    for t in tokens:\n",
    "        words[t] = 1"
   ]
  },
  {
   "cell_type": "code",
   "execution_count": 30,
   "metadata": {},
   "outputs": [],
   "source": [
    "n_conversations = ds.conversation_id.nunique()\n",
    "n_tweets = ds.shape[0]\n",
    "n_words = len(words)\n",
    "n_users = ds.screen_name.nunique()"
   ]
  },
  {
   "cell_type": "code",
   "execution_count": 57,
   "metadata": {},
   "outputs": [
    {
     "name": "stderr",
     "output_type": "stream",
     "text": [
      "reading dialogs: 100%|██████████| 65277/65277 [00:08<00:00, 7781.99it/s]\n"
     ]
    },
    {
     "name": "stdout",
     "output_type": "stream",
     "text": [
      "num dialogs:65274\n",
      "num utterances:65274\n",
      "num turns:65274\n"
     ]
    }
   ],
   "source": [
    "data_dir = '../data/convusersec/dialogs/'\n",
    "num_dialogs = 0\n",
    "utterances = []\n",
    "turns = []\n",
    "fnames = []\n",
    "\n",
    "for f in tqdm( listdir(data_dir) ,'reading dialogs'):\n",
    "\n",
    "    dialog_filename = join(data_dir, f)\n",
    "    \n",
    "    if not isfile(dialog_filename):\n",
    "        continue\n",
    "    if not f.endswith('.tsv'):\n",
    "        continue\n",
    "    \n",
    "    num_dialogs += 1\n",
    "    fnames.append(dialog_filename)    \n",
    "    #print(dialog_filename)\n",
    "    first_turn = True\n",
    "    utterances_dialog = 0\n",
    "    turns_dialog = 0\n",
    "\n",
    "    with open(dialog_filename, 'r') as dialog_file:\n",
    "        dialog_reader = csv.reader(dialog_file, delimiter='\\t', quoting=csv.QUOTE_NONE)\n",
    "\n",
    "        for dialog_line in dialog_reader:\n",
    "            #print(dialog_line)\n",
    "            if first_turn:\n",
    "                last_user = dialog_line[1]\n",
    "                turns_dialog += 1\n",
    "                first_turn = False\n",
    "\n",
    "            if last_user != dialog_line[1]:\n",
    "                # user has changed\n",
    "                turns_dialog += 1\n",
    "\n",
    "            last_user = dialog_line[1]\n",
    "            utterances_dialog += 1\n",
    "\n",
    "        utterances.append(utterances_dialog)\n",
    "        turns.append(turns_dialog)\n",
    "    \n",
    "    #break\n",
    "fnames = np.array(fnames)\n",
    "utterances = np.array(utterances)\n",
    "turns = np.array(turns)    \n",
    "print(f'num dialogs:{num_dialogs}')\n",
    "print(f'num utterances:{len(utterances)}')\n",
    "print(f'num turns:{len(turns)}')"
   ]
  },
  {
   "cell_type": "code",
   "execution_count": 85,
   "metadata": {},
   "outputs": [
    {
     "data": {
      "text/html": [
       "<div>\n",
       "<style scoped>\n",
       "    .dataframe tbody tr th:only-of-type {\n",
       "        vertical-align: middle;\n",
       "    }\n",
       "\n",
       "    .dataframe tbody tr th {\n",
       "        vertical-align: top;\n",
       "    }\n",
       "\n",
       "    .dataframe thead th {\n",
       "        text-align: right;\n",
       "    }\n",
       "</style>\n",
       "<table border=\"1\" class=\"dataframe\">\n",
       "  <thead>\n",
       "    <tr style=\"text-align: right;\">\n",
       "      <th></th>\n",
       "      <th>stat</th>\n",
       "      <th>value</th>\n",
       "    </tr>\n",
       "  </thead>\n",
       "  <tbody>\n",
       "    <tr>\n",
       "      <th>0</th>\n",
       "      <td>pop. users</td>\n",
       "      <td>3.000000</td>\n",
       "    </tr>\n",
       "    <tr>\n",
       "      <th>1</th>\n",
       "      <td>conversations</td>\n",
       "      <td>12909.000000</td>\n",
       "    </tr>\n",
       "    <tr>\n",
       "      <th>2</th>\n",
       "      <td>tweets</td>\n",
       "      <td>520263.000000</td>\n",
       "    </tr>\n",
       "    <tr>\n",
       "      <th>3</th>\n",
       "      <td>words</td>\n",
       "      <td>588039.000000</td>\n",
       "    </tr>\n",
       "    <tr>\n",
       "      <th>4</th>\n",
       "      <td>conv. threads</td>\n",
       "      <td>65274.000000</td>\n",
       "    </tr>\n",
       "    <tr>\n",
       "      <th>5</th>\n",
       "      <td>utterances</td>\n",
       "      <td>345277.000000</td>\n",
       "    </tr>\n",
       "    <tr>\n",
       "      <th>6</th>\n",
       "      <td>turns</td>\n",
       "      <td>331971.000000</td>\n",
       "    </tr>\n",
       "    <tr>\n",
       "      <th>7</th>\n",
       "      <td>min. turns</td>\n",
       "      <td>1.000000</td>\n",
       "    </tr>\n",
       "    <tr>\n",
       "      <th>8</th>\n",
       "      <td>avg. turns</td>\n",
       "      <td>5.085808</td>\n",
       "    </tr>\n",
       "    <tr>\n",
       "      <th>9</th>\n",
       "      <td>max. turns</td>\n",
       "      <td>64.000000</td>\n",
       "    </tr>\n",
       "    <tr>\n",
       "      <th>10</th>\n",
       "      <td>median turns</td>\n",
       "      <td>4.000000</td>\n",
       "    </tr>\n",
       "  </tbody>\n",
       "</table>\n",
       "</div>"
      ],
      "text/plain": [
       "             stat          value\n",
       "0      pop. users       3.000000\n",
       "1   conversations   12909.000000\n",
       "2          tweets  520263.000000\n",
       "3           words  588039.000000\n",
       "4   conv. threads   65274.000000\n",
       "5      utterances  345277.000000\n",
       "6           turns  331971.000000\n",
       "7      min. turns       1.000000\n",
       "8      avg. turns       5.085808\n",
       "9      max. turns      64.000000\n",
       "10   median turns       4.000000"
      ]
     },
     "execution_count": 85,
     "metadata": {},
     "output_type": "execute_result"
    }
   ],
   "source": [
    "stats =[]\n",
    "stats.append( ['pop. users', 3] )\n",
    "stats.append( ['conversations', n_conversations] )\n",
    "stats.append( ['tweets', n_tweets] )\n",
    "stats.append( ['words', n_words] )\n",
    "\n",
    "stats.append( ['conv. threads', num_dialogs] )\n",
    "stats.append( ['utterances', utterances.sum()] )\n",
    "stats.append( ['turns', turns.sum()] )\n",
    "\n",
    "stats.append( ['min. turns', turns.min()] ) # this is manually defined\n",
    "stats.append( ['avg. turns', turns.mean()])\n",
    "stats.append( ['max. turns', turns.max()])\n",
    "stats.append( ['median turns', np.median(turns)])\n",
    "\n",
    "stats_df = pd.DataFrame(stats, columns=['stat', 'value'])\n",
    "stats_df"
   ]
  },
  {
   "cell_type": "markdown",
   "metadata": {},
   "source": [
    "### Why is min turns == 1???"
   ]
  },
  {
   "cell_type": "code",
   "execution_count": 59,
   "metadata": {},
   "outputs": [
    {
     "data": {
      "text/plain": [
       "array(['../data/convusersec/dialogs/914046965150814208.tsv',\n",
       "       '../data/convusersec/dialogs/914045871536435201.tsv',\n",
       "       '../data/convusersec/dialogs/914043246938136578.tsv',\n",
       "       '../data/convusersec/dialogs/914033221574299648.tsv'], dtype='<U50')"
      ]
     },
     "execution_count": 59,
     "metadata": {},
     "output_type": "execute_result"
    }
   ],
   "source": [
    "fnames[turns==1]\n"
   ]
  },
  {
   "cell_type": "code",
   "execution_count": 76,
   "metadata": {},
   "outputs": [
    {
     "name": "stdout",
     "output_type": "stream",
     "text": [
      "2017-09-30 08:36:53\tMashiRafael\tHoy es 30S. Hace siete años, por primera vez en la historia, el pueblo salió espontáneamente a defender a su Gobierno y Revolución.\r\n",
      "2017-09-30 08:38:12\tMashiRafael\tEl costo fue muy alto, pero Ecuador cambió y para siempre. Jamás volveríamos a permitir que el abuso y la fuerza atentaran contra nuestra..\r\n",
      "2017-09-30 08:38:47\tMashiRafael\t...democracia.. Siempre nuestro homenaje a Juan Pablo Bolaños, Froilán Jiménez, Darwin Panchi, Jacinto Cortéz y Edwin Calderón, caídos el...\r\n",
      "2017-09-30 08:39:13\tMashiRafael\t...día en que triunfó la democracia.. ¡Hasta la victoria siempre!\r\n"
     ]
    }
   ],
   "source": [
    "!cat ../data/convusersec/dialogs/914046965150814208.tsv"
   ]
  },
  {
   "cell_type": "markdown",
   "metadata": {},
   "source": [
    "those are related to self replies"
   ]
  },
  {
   "cell_type": "markdown",
   "metadata": {},
   "source": [
    "## choosing the max-content-len"
   ]
  },
  {
   "cell_type": "markdown",
   "metadata": {},
   "source": [
    "- select the path of csv files generated in the preprocessing step\n",
    "- this value defines the hyperparam for extracting content from the tfrecords"
   ]
  },
  {
   "cell_type": "code",
   "execution_count": 61,
   "metadata": {
    "scrolled": true
   },
   "outputs": [
    {
     "name": "stdout",
     "output_type": "stream",
     "text": [
      "<class 'pandas.core.frame.DataFrame'>\n",
      "RangeIndex: 50000 entries, 0 to 49999\n",
      "Data columns (total 3 columns):\n",
      "Context      50000 non-null object\n",
      "Utterance    50000 non-null object\n",
      "Label        50000 non-null int64\n",
      "dtypes: int64(1), object(2)\n",
      "memory usage: 1.1+ MB\n"
     ]
    }
   ],
   "source": [
    "train = pd.read_csv('../data/convusersec/dialogs_csv_v3/train.csv')\n",
    "train.info()"
   ]
  },
  {
   "cell_type": "code",
   "execution_count": 71,
   "metadata": {},
   "outputs": [],
   "source": [
    "train['num_words'] = train.Context.apply(lambda x: len(x.split()))"
   ]
  },
  {
   "cell_type": "code",
   "execution_count": 72,
   "metadata": {},
   "outputs": [
    {
     "data": {
      "image/png": "[encoded data removed]",
      "text/plain": [
       "<Figure size 432x288 with 1 Axes>"
      ]
     },
     "metadata": {},
     "output_type": "display_data"
    }
   ],
   "source": [
    "train.num_words.plot.hist(bins=200)\n",
    "plt.xscale('log')"
   ]
  },
  {
   "cell_type": "markdown",
   "metadata": {},
   "source": [
    "## final stats"
   ]
  },
  {
   "cell_type": "code",
   "execution_count": 91,
   "metadata": {},
   "outputs": [
    {
     "data": {
      "text/html": [
       "<div>\n",
       "<style scoped>\n",
       "    .dataframe tbody tr th:only-of-type {\n",
       "        vertical-align: middle;\n",
       "    }\n",
       "\n",
       "    .dataframe tbody tr th {\n",
       "        vertical-align: top;\n",
       "    }\n",
       "\n",
       "    .dataframe thead th {\n",
       "        text-align: right;\n",
       "    }\n",
       "</style>\n",
       "<table border=\"1\" class=\"dataframe\">\n",
       "  <thead>\n",
       "    <tr style=\"text-align: right;\">\n",
       "      <th></th>\n",
       "      <th>stat</th>\n",
       "      <th>value</th>\n",
       "    </tr>\n",
       "  </thead>\n",
       "  <tbody>\n",
       "    <tr>\n",
       "      <th>0</th>\n",
       "      <td>pop. users</td>\n",
       "      <td>3.000000</td>\n",
       "    </tr>\n",
       "    <tr>\n",
       "      <th>1</th>\n",
       "      <td>conversations</td>\n",
       "      <td>12909.000000</td>\n",
       "    </tr>\n",
       "    <tr>\n",
       "      <th>2</th>\n",
       "      <td>tweets</td>\n",
       "      <td>520263.000000</td>\n",
       "    </tr>\n",
       "    <tr>\n",
       "      <th>3</th>\n",
       "      <td>words</td>\n",
       "      <td>588039.000000</td>\n",
       "    </tr>\n",
       "    <tr>\n",
       "      <th>4</th>\n",
       "      <td>conv. threads</td>\n",
       "      <td>65274.000000</td>\n",
       "    </tr>\n",
       "    <tr>\n",
       "      <th>5</th>\n",
       "      <td>utterances</td>\n",
       "      <td>345277.000000</td>\n",
       "    </tr>\n",
       "    <tr>\n",
       "      <th>6</th>\n",
       "      <td>turns</td>\n",
       "      <td>331971.000000</td>\n",
       "    </tr>\n",
       "    <tr>\n",
       "      <th>7</th>\n",
       "      <td>min. turns</td>\n",
       "      <td>1.000000</td>\n",
       "    </tr>\n",
       "    <tr>\n",
       "      <th>8</th>\n",
       "      <td>avg. turns</td>\n",
       "      <td>5.085808</td>\n",
       "    </tr>\n",
       "    <tr>\n",
       "      <th>9</th>\n",
       "      <td>max. turns</td>\n",
       "      <td>64.000000</td>\n",
       "    </tr>\n",
       "    <tr>\n",
       "      <th>10</th>\n",
       "      <td>median turns</td>\n",
       "      <td>4.000000</td>\n",
       "    </tr>\n",
       "    <tr>\n",
       "      <th>11</th>\n",
       "      <td>min. context words</td>\n",
       "      <td>5.000000</td>\n",
       "    </tr>\n",
       "    <tr>\n",
       "      <th>12</th>\n",
       "      <td>avg. context words</td>\n",
       "      <td>68.228820</td>\n",
       "    </tr>\n",
       "    <tr>\n",
       "      <th>13</th>\n",
       "      <td>max. context words</td>\n",
       "      <td>1720.000000</td>\n",
       "    </tr>\n",
       "    <tr>\n",
       "      <th>14</th>\n",
       "      <td>median context words</td>\n",
       "      <td>57.000000</td>\n",
       "    </tr>\n",
       "  </tbody>\n",
       "</table>\n",
       "</div>"
      ],
      "text/plain": [
       "                    stat          value\n",
       "0             pop. users       3.000000\n",
       "1          conversations   12909.000000\n",
       "2                 tweets  520263.000000\n",
       "3                  words  588039.000000\n",
       "4          conv. threads   65274.000000\n",
       "5             utterances  345277.000000\n",
       "6                  turns  331971.000000\n",
       "7             min. turns       1.000000\n",
       "8             avg. turns       5.085808\n",
       "9             max. turns      64.000000\n",
       "10          median turns       4.000000\n",
       "11    min. context words       5.000000\n",
       "12    avg. context words      68.228820\n",
       "13    max. context words    1720.000000\n",
       "14  median context words      57.000000"
      ]
     },
     "execution_count": 91,
     "metadata": {},
     "output_type": "execute_result"
    }
   ],
   "source": [
    "stats =[]\n",
    "stats.append( ['pop. users', 3] )\n",
    "stats.append( ['conversations', n_conversations] )\n",
    "stats.append( ['tweets', n_tweets] )\n",
    "stats.append( ['words', n_words] )\n",
    "\n",
    "stats.append( ['conv. threads', num_dialogs] )\n",
    "stats.append( ['utterances', utterances.sum()] )\n",
    "stats.append( ['turns', turns.sum()] )\n",
    "\n",
    "stats.append( ['min. turns', turns.min()] ) # this is manually defined\n",
    "stats.append( ['avg. turns', turns.mean()])\n",
    "stats.append( ['max. turns', turns.max()])\n",
    "stats.append( ['median turns', np.median(turns)])\n",
    "\n",
    "stats.append( ['min. context words', np.min(train.num_words)] ) # this is manually defined\n",
    "stats.append( ['avg. context words', np.mean(train.num_words)])\n",
    "stats.append( ['max. context words', np.max(train.num_words)])\n",
    "stats.append( ['median context words', np.median(train.num_words)])\n",
    "\n",
    "\n",
    "stats_df = pd.DataFrame(stats, columns=['stat', 'value'])\n",
    "stats_df"
   ]
  },
  {
   "cell_type": "code",
   "execution_count": 92,
   "metadata": {},
   "outputs": [],
   "source": [
    "stats_df.to_csv('../results/ds_stats_conversations.csv', index=False)"
   ]
  },
  {
   "cell_type": "markdown",
   "metadata": {},
   "source": [
    "## plot distribution for conversations"
   ]
  },
  {
   "cell_type": "code",
   "execution_count": 11,
   "metadata": {},
   "outputs": [
    {
     "data": {
      "text/plain": [
       "0     3\n",
       "11    2\n",
       "14    7\n",
       "21    2\n",
       "25    2\n",
       "Name: num_replies, dtype: int64"
      ]
     },
     "execution_count": 11,
     "metadata": {},
     "output_type": "execute_result"
    }
   ],
   "source": [
    "convdist = ds[(ds.num_replies>1) & (ds.in_reply_to_status_id.isnull())]\n",
    "convdist.num_replies.head()"
   ]
  },
  {
   "cell_type": "code",
   "execution_count": 28,
   "metadata": {},
   "outputs": [
    {
     "data": {
      "image/png": "[encoded data removed]",
      "text/plain": [
       "<Figure size 432x288 with 1 Axes>"
      ]
     },
     "metadata": {},
     "output_type": "display_data"
    }
   ],
   "source": [
    "y, bins = np.histogram(convdist.num_replies, bins=1000)\n",
    "x=bins[:-1]\n",
    "ix = y!=0\n",
    "y_log = np.log(y[ix])\n",
    "x_log = np.log(x[ix])\n",
    "plt.scatter(x_log, y_log, marker='.')\n",
    "plt.xlabel('log conversations length')\n",
    "plt.ylabel('log frequency')\n",
    "plt.savefig('conversations_distribution.eps', format='eps',bbox_inches='tight')"
   ]
  },
  {
   "cell_type": "code",
   "execution_count": 88,
   "metadata": {},
   "outputs": [
    {
     "name": "stdout",
     "output_type": "stream",
     "text": [
      "1.4368275542071471\n",
      "2.0\n",
      "-475.16957769914654 2.598467693989193e-90\n"
     ]
    }
   ],
   "source": [
    "import powerlaw\n",
    "data = convdist.num_replies.values\n",
    "results = powerlaw.Fit(data, discrete=True, xmin=2)\n",
    "print(results.power_law.alpha)\n",
    "print(results.power_law.xmin)\n",
    "R, p = results.distribution_compare('power_law', 'lognormal')\n",
    "print(R,p)"
   ]
  },
  {
   "cell_type": "code",
   "execution_count": 48,
   "metadata": {},
   "outputs": [
    {
     "data": {
      "text/plain": [
       "(500, 8793, 8793)"
      ]
     },
     "execution_count": 48,
     "metadata": {},
     "output_type": "execute_result"
    }
   ],
   "source": [
    "len(np.unique(data)), len(data>1), len(data)"
   ]
  },
  {
   "cell_type": "code",
   "execution_count": 49,
   "metadata": {},
   "outputs": [
    {
     "data": {
      "text/plain": [
       "8793"
      ]
     },
     "execution_count": 49,
     "metadata": {},
     "output_type": "execute_result"
    }
   ],
   "source": [
    "power_law = results.power_law.pdf()\n",
    "len(power_law)"
   ]
  },
  {
   "cell_type": "code",
   "execution_count": 50,
   "metadata": {},
   "outputs": [
    {
     "data": {
      "text/plain": [
       "8793"
      ]
     },
     "execution_count": 50,
     "metadata": {},
     "output_type": "execute_result"
    }
   ],
   "source": [
    "exponential = results.exponential.pdf()\n",
    "len(exponential)"
   ]
  },
  {
   "cell_type": "code",
   "execution_count": 79,
   "metadata": {},
   "outputs": [
    {
     "data": {
      "text/plain": [
       "(501, 500)"
      ]
     },
     "execution_count": 79,
     "metadata": {},
     "output_type": "execute_result"
    }
   ],
   "source": [
    "bins, empirical = results.pdf(bins=500)\n",
    "len(bins), len(empirical)"
   ]
  },
  {
   "cell_type": "code",
   "execution_count": 82,
   "metadata": {},
   "outputs": [
    {
     "data": {
      "text/plain": [
       "<matplotlib.legend.Legend at 0x11d8ac5f8>"
      ]
     },
     "execution_count": 82,
     "metadata": {},
     "output_type": "execute_result"
    },
    {
     "data": {
      "image/png": "[encoded data removed]",
      "text/plain": [
       "<Figure size 432x288 with 1 Axes>"
      ]
     },
     "metadata": {
      "needs_background": "light"
     },
     "output_type": "display_data"
    }
   ],
   "source": [
    "ax= results.power_law.plot_pdf(label='power law')\n",
    "ax2=results.exponential.plot_pdf(label='exponential')\n",
    "ax3=results.plot_pdf(label='empirical')\n",
    "plt.legend(frameon=False)"
   ]
  },
  {
   "cell_type": "code",
   "execution_count": 73,
   "metadata": {},
   "outputs": [
    {
     "data": {
      "text/plain": [
       "(3, (500, 2), (500, 2), (30, 2))"
      ]
     },
     "execution_count": 73,
     "metadata": {},
     "output_type": "execute_result"
    }
   ],
   "source": [
    "len(ax.lines), ax.lines[0].get_xydata().shape,ax.lines[1].get_xydata().shape, ax.lines[2].get_xydata().shape"
   ]
  },
  {
   "cell_type": "code",
   "execution_count": 86,
   "metadata": {},
   "outputs": [
    {
     "data": {
      "text/html": [
       "<div>\n",
       "<style scoped>\n",
       "    .dataframe tbody tr th:only-of-type {\n",
       "        vertical-align: middle;\n",
       "    }\n",
       "\n",
       "    .dataframe tbody tr th {\n",
       "        vertical-align: top;\n",
       "    }\n",
       "\n",
       "    .dataframe thead th {\n",
       "        text-align: right;\n",
       "    }\n",
       "</style>\n",
       "<table border=\"1\" class=\"dataframe\">\n",
       "  <thead>\n",
       "    <tr style=\"text-align: right;\">\n",
       "      <th></th>\n",
       "      <th>bins</th>\n",
       "      <th>pdf</th>\n",
       "      <th>bins</th>\n",
       "      <th>pdf</th>\n",
       "      <th>bins</th>\n",
       "      <th>pdf</th>\n",
       "    </tr>\n",
       "  </thead>\n",
       "  <tbody>\n",
       "    <tr>\n",
       "      <th>0</th>\n",
       "      <td>2.0</td>\n",
       "      <td>0.194686</td>\n",
       "      <td>2.0</td>\n",
       "      <td>0.017330</td>\n",
       "      <td>2.5</td>\n",
       "      <td>0.183669</td>\n",
       "    </tr>\n",
       "    <tr>\n",
       "      <th>1</th>\n",
       "      <td>3.0</td>\n",
       "      <td>0.108723</td>\n",
       "      <td>3.0</td>\n",
       "      <td>0.017029</td>\n",
       "      <td>3.5</td>\n",
       "      <td>0.091778</td>\n",
       "    </tr>\n",
       "    <tr>\n",
       "      <th>2</th>\n",
       "      <td>4.0</td>\n",
       "      <td>0.071913</td>\n",
       "      <td>4.0</td>\n",
       "      <td>0.016734</td>\n",
       "      <td>4.5</td>\n",
       "      <td>0.061754</td>\n",
       "    </tr>\n",
       "    <tr>\n",
       "      <th>3</th>\n",
       "      <td>5.0</td>\n",
       "      <td>0.052187</td>\n",
       "      <td>5.0</td>\n",
       "      <td>0.016444</td>\n",
       "      <td>5.5</td>\n",
       "      <td>0.041055</td>\n",
       "    </tr>\n",
       "    <tr>\n",
       "      <th>4</th>\n",
       "      <td>6.0</td>\n",
       "      <td>0.040160</td>\n",
       "      <td>6.0</td>\n",
       "      <td>0.016159</td>\n",
       "      <td>7.0</td>\n",
       "      <td>0.030081</td>\n",
       "    </tr>\n",
       "  </tbody>\n",
       "</table>\n",
       "</div>"
      ],
      "text/plain": [
       "   bins       pdf  bins       pdf  bins       pdf\n",
       "0   2.0  0.194686   2.0  0.017330   2.5  0.183669\n",
       "1   3.0  0.108723   3.0  0.017029   3.5  0.091778\n",
       "2   4.0  0.071913   4.0  0.016734   4.5  0.061754\n",
       "3   5.0  0.052187   5.0  0.016444   5.5  0.041055\n",
       "4   6.0  0.040160   6.0  0.016159   7.0  0.030081"
      ]
     },
     "execution_count": 86,
     "metadata": {},
     "output_type": "execute_result"
    }
   ],
   "source": [
    "powerlaw = ax.lines[0].get_xydata()\n",
    "exponential= ax.lines[1].get_xydata()\n",
    "empirical = ax.lines[2].get_xydata()\n",
    "\n",
    "powerlaw_ds = pd.DataFrame(powerlaw, columns=['bins', 'pdf'])\n",
    "exponential_ds = pd.DataFrame(exponential, columns=['bins', 'pdf'])\n",
    "empirical_ds = pd.DataFrame(empirical, columns=['bins', 'pdf'])\n",
    "\n",
    "pd.concat([powerlaw_ds.head(), exponential_ds.head(), empirical_ds.head()], axis=1)"
   ]
  },
  {
   "cell_type": "code",
   "execution_count": 87,
   "metadata": {},
   "outputs": [],
   "source": [
    "powerlaw_ds.to_csv('powerlaw_dist.csv', index=False)\n",
    "exponential_ds.to_csv('exponential_dist.csv', index=False)\n",
    "empirical_ds.to_csv('empirical_dist.csv', index=False)"
   ]
  },
  {
   "cell_type": "code",
   "execution_count": 45,
   "metadata": {},
   "outputs": [
    {
     "data": {
      "image/png": "[encoded data removed]",
      "text/plain": [
       "<Figure size 432x288 with 1 Axes>"
      ]
     },
     "metadata": {},
     "output_type": "display_data"
    }
   ],
   "source": [
    "from powerlaw import plot_pdf, Fit, pdf\n",
    "#https://pypi.org/project/powerlaw/\n",
    "#http://nbviewer.jupyter.org/github/jeffalstott/powerlaw/blob/master/manuscript/Manuscript_Code.ipynb\n",
    "#plot_pdf(data, color='b', linewidth=2)\n",
    "#results.power_law.plot_pdf(linestyle=':', color='g')\n",
    "results.power_law.plot_pdf( linestyle='--', color='g', marker='o',markersize=5, linewidth=1,alpha=0.4, label='Power Law')\n",
    "results.exponential.plot_pdf(linestyle='--', color='r', marker='s',markersize=5,linewidth=1,alpha=0.4, label='Exponential')\n",
    "results.plot_pdf(color='b', linewidth=2, label=r'Empirical')\n",
    "plt.legend(frameon=False)\n",
    "plt.xlabel('conversations length')\n",
    "plt.ylabel('p(X)')\n",
    "plt.savefig('../results/conversations_distribution.eps', format='eps',bbox_inches='tight')"
   ]
  },
  {
   "cell_type": "code",
   "execution_count": null,
   "metadata": {},
   "outputs": [],
   "source": []
  },
  {
   "cell_type": "markdown",
   "metadata": {},
   "source": [
    "# trec dataset"
   ]
  },
  {
   "cell_type": "code",
   "execution_count": 2,
   "metadata": {},
   "outputs": [],
   "source": [
    "data_dir = '~/data/twconv/trec/'"
   ]
  },
  {
   "cell_type": "code",
   "execution_count": 4,
   "metadata": {},
   "outputs": [
    {
     "name": "stdout",
     "output_type": "stream",
     "text": [
      "<class 'pandas.core.frame.DataFrame'>\n",
      "RangeIndex: 29568 entries, 0 to 29567\n",
      "Data columns (total 14 columns):\n",
      "id                       29568 non-null object\n",
      "screen_name              29568 non-null object\n",
      "text                     29568 non-null object\n",
      "in_reply_to_status_id    23803 non-null object\n",
      "created_at               29568 non-null object\n",
      "latitude                 70 non-null object\n",
      "longitude                70 non-null object\n",
      "lang                     29568 non-null object\n",
      "timestamp                29555 non-null object\n",
      "conversation_id          29568 non-null object\n",
      "conversation_deep        29568 non-null object\n",
      "num_replies              29568 non-null object\n",
      "num_users                29568 non-null object\n",
      "url                      29568 non-null object\n",
      "dtypes: object(14)\n",
      "memory usage: 3.2+ MB\n"
     ]
    }
   ],
   "source": [
    "path = os.path.join(data_dir, 'tweets_conv.csv')\n",
    "ds = pd.read_csv(path, dtype=object)\n",
    "ds.info()"
   ]
  },
  {
   "cell_type": "markdown",
   "metadata": {},
   "source": [
    "distribution of the users"
   ]
  },
  {
   "cell_type": "code",
   "execution_count": 13,
   "metadata": {},
   "outputs": [
    {
     "data": {
      "text/plain": [
       "ntweets\n",
       "1     3673\n",
       "2     1503\n",
       "3      840\n",
       "4      519\n",
       "5      299\n",
       "6      238\n",
       "7      189\n",
       "8      102\n",
       "9      105\n",
       "10      92\n",
       "dtype: int64"
      ]
     },
     "execution_count": 13,
     "metadata": {},
     "output_type": "execute_result"
    }
   ],
   "source": [
    "stat=ds.groupby('screen_name').size().sort_values().reset_index()\n",
    "stat.columns=['name','ntweets']\n",
    "stat.groupby('ntweets').size().head(10)"
   ]
  },
  {
   "cell_type": "markdown",
   "metadata": {},
   "source": [
    "## determine the value for max_sentence_len in tfbuilder\n",
    "lets analyze the data for training"
   ]
  },
  {
   "cell_type": "code",
   "execution_count": 15,
   "metadata": {},
   "outputs": [],
   "source": [
    "data_dir = '~/data/twconv/trec/dialogs/'"
   ]
  },
  {
   "cell_type": "code",
   "execution_count": 16,
   "metadata": {},
   "outputs": [
    {
     "data": {
      "text/plain": [
       "(35254, 3)"
      ]
     },
     "execution_count": 16,
     "metadata": {},
     "output_type": "execute_result"
    }
   ],
   "source": [
    "\n",
    "path = os.path.join(data_dir, 'train.csv')\n",
    "trainds = pd.read_csv(path)\n",
    "trainds.shape"
   ]
  },
  {
   "cell_type": "code",
   "execution_count": 18,
   "metadata": {},
   "outputs": [],
   "source": [
    "trainds['content_nwords'] = trainds.context.apply(lambda c: len(c.split()))"
   ]
  },
  {
   "cell_type": "code",
   "execution_count": 22,
   "metadata": {},
   "outputs": [
    {
     "data": {
      "text/html": [
       "<div>\n",
       "<style scoped>\n",
       "    .dataframe tbody tr th:only-of-type {\n",
       "        vertical-align: middle;\n",
       "    }\n",
       "\n",
       "    .dataframe tbody tr th {\n",
       "        vertical-align: top;\n",
       "    }\n",
       "\n",
       "    .dataframe thead th {\n",
       "        text-align: right;\n",
       "    }\n",
       "</style>\n",
       "<table border=\"1\" class=\"dataframe\">\n",
       "  <thead>\n",
       "    <tr style=\"text-align: right;\">\n",
       "      <th></th>\n",
       "      <th>context</th>\n",
       "      <th>profile</th>\n",
       "      <th>flag</th>\n",
       "      <th>content_nwords</th>\n",
       "    </tr>\n",
       "  </thead>\n",
       "  <tbody>\n",
       "    <tr>\n",
       "      <th>0</th>\n",
       "      <td>pretty bored. lol. Lol ! You love bored ? &amp;gt;...</td>\n",
       "      <td>pretty bored. lol. @Anaelledu45 noo. i hate.. ...</td>\n",
       "      <td>1</td>\n",
       "      <td>47</td>\n",
       "    </tr>\n",
       "    <tr>\n",
       "      <th>1</th>\n",
       "      <td>pretty bored. lol. Lol ! You love bored ? &amp;gt;...</td>\n",
       "      <td>Fluxus Interruptus - DadaBrats at play: http:/...</td>\n",
       "      <td>0</td>\n",
       "      <td>47</td>\n",
       "    </tr>\n",
       "    <tr>\n",
       "      <th>2</th>\n",
       "      <td>pretty bored. lol. Lol ! You love bored ? &amp;gt;...</td>\n",
       "      <td>Lol ! You love bored ? &amp;gt; &amp;gt; @Simpsonluvie...</td>\n",
       "      <td>1</td>\n",
       "      <td>47</td>\n",
       "    </tr>\n",
       "    <tr>\n",
       "      <th>3</th>\n",
       "      <td>pretty bored. lol. Lol ! You love bored ? &amp;gt;...</td>\n",
       "      <td>@LeahBraemel @Kristen_Howe And yet, figuring o...</td>\n",
       "      <td>0</td>\n",
       "      <td>47</td>\n",
       "    </tr>\n",
       "    <tr>\n",
       "      <th>4</th>\n",
       "      <td>pretty bored. lol. Lol ! You love bored ? &amp;gt;...</td>\n",
       "      <td>pretty bored. lol. @Anaelledu45 noo. i hate.. ...</td>\n",
       "      <td>1</td>\n",
       "      <td>47</td>\n",
       "    </tr>\n",
       "  </tbody>\n",
       "</table>\n",
       "</div>"
      ],
      "text/plain": [
       "                                             context  \\\n",
       "0  pretty bored. lol. Lol ! You love bored ? &gt;...   \n",
       "1  pretty bored. lol. Lol ! You love bored ? &gt;...   \n",
       "2  pretty bored. lol. Lol ! You love bored ? &gt;...   \n",
       "3  pretty bored. lol. Lol ! You love bored ? &gt;...   \n",
       "4  pretty bored. lol. Lol ! You love bored ? &gt;...   \n",
       "\n",
       "                                             profile  flag  content_nwords  \n",
       "0  pretty bored. lol. @Anaelledu45 noo. i hate.. ...     1              47  \n",
       "1  Fluxus Interruptus - DadaBrats at play: http:/...     0              47  \n",
       "2  Lol ! You love bored ? &gt; &gt; @Simpsonluvie...     1              47  \n",
       "3  @LeahBraemel @Kristen_Howe And yet, figuring o...     0              47  \n",
       "4  pretty bored. lol. @Anaelledu45 noo. i hate.. ...     1              47  "
      ]
     },
     "execution_count": 22,
     "metadata": {},
     "output_type": "execute_result"
    }
   ],
   "source": [
    "trainds.head()"
   ]
  },
  {
   "cell_type": "code",
   "execution_count": 26,
   "metadata": {},
   "outputs": [
    {
     "data": {
      "text/plain": [
       "(3409, 2)"
      ]
     },
     "execution_count": 26,
     "metadata": {},
     "output_type": "execute_result"
    }
   ],
   "source": [
    "nwords = trainds.groupby('source').agg({'content_nwords': 'max'}).reset_index()\n",
    "nwords.shape"
   ]
  },
  {
   "cell_type": "code",
   "execution_count": 28,
   "metadata": {},
   "outputs": [
    {
     "data": {
      "image/png": "[encoded data removed]",
      "text/plain": [
       "<Figure size 432x288 with 1 Axes>"
      ]
     },
     "metadata": {
      "needs_background": "light"
     },
     "output_type": "display_data"
    }
   ],
   "source": [
    "nwords.content_nwords.plot.hist(bins=50)\n",
    "plt.yscale('log')"
   ]
  },
  {
   "cell_type": "code",
   "execution_count": 36,
   "metadata": {},
   "outputs": [
    {
     "data": {
      "text/plain": [
       "164.0"
      ]
     },
     "execution_count": 36,
     "metadata": {},
     "output_type": "execute_result"
    }
   ],
   "source": [
    "np.percentile(nwords.content_nwords, 90)"
   ]
  },
  {
   "cell_type": "code",
   "execution_count": 37,
   "metadata": {},
   "outputs": [
    {
     "data": {
      "text/plain": [
       "(4130, 2)"
      ]
     },
     "execution_count": 37,
     "metadata": {},
     "output_type": "execute_result"
    }
   ],
   "source": [
    "nwords = trainds.groupby('profile').agg({'content_nwords': 'max'}).reset_index()\n",
    "nwords.shape"
   ]
  },
  {
   "cell_type": "code",
   "execution_count": 38,
   "metadata": {},
   "outputs": [
    {
     "data": {
      "image/png": "[encoded data removed]",
      "text/plain": [
       "<Figure size 432x288 with 1 Axes>"
      ]
     },
     "metadata": {
      "needs_background": "light"
     },
     "output_type": "display_data"
    }
   ],
   "source": [
    "nwords.content_nwords.plot.hist(bins=50)\n",
    "plt.yscale('log')"
   ]
  },
  {
   "cell_type": "code",
   "execution_count": 40,
   "metadata": {},
   "outputs": [
    {
     "data": {
      "text/plain": [
       "737.0"
      ]
     },
     "execution_count": 40,
     "metadata": {},
     "output_type": "execute_result"
    }
   ],
   "source": [
    "np.percentile(nwords.content_nwords, 75)"
   ]
  },
  {
   "cell_type": "markdown",
   "metadata": {},
   "source": [
    "for the users profiles the lenght of the text is huge , even for 75 percentile, so we need to reduce through topic modeling, the question , a prior step? or jointly trained?\n",
    "\n",
    "the options are:\n",
    "- try using truncated profile to the same length as the context \n",
    "- use topic modeling to compress to fixed lenght\n",
    "- use jointly modeling "
   ]
  },
  {
   "cell_type": "code",
   "execution_count": null,
   "metadata": {},
   "outputs": [],
   "source": []
  }
 ],
 "metadata": {
  "kernelspec": {
   "display_name": "Python 3",
   "language": "python",
   "name": "python3"
  },
  "language_info": {
   "codemirror_mode": {
    "name": "ipython",
    "version": 3
   },
   "file_extension": ".py",
   "mimetype": "text/x-python",
   "name": "python",
   "nbconvert_exporter": "python",
   "pygments_lexer": "ipython3",
   "version": "3.7.3"
  }
 },
 "nbformat": 4,
 "nbformat_minor": 2
}
