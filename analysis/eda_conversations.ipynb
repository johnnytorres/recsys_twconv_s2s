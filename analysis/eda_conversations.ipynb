{
 "cells": [
  {
   "cell_type": "markdown",
   "metadata": {},
   "source": [
    "# Exploratory analysis on conversational tweets\n",
    "\n",
    "In this dataset, we extract all the conversations for three popular users\n",
    "\n",
    "- MashiRafael (politics)\n",
    "- aguschmer (sports)\n",
    "- KarlaMoralesR (activism on humanitarian aid)"
   ]
  },
  {
   "cell_type": "code",
   "execution_count": 16,
   "metadata": {},
   "outputs": [],
   "source": [
    "%matplotlib inline\n",
    "import matplotlib.pyplot as plt\n",
    "import pandas as pd\n",
    "from tqdm import tqdm"
   ]
  },
  {
   "cell_type": "code",
   "execution_count": 7,
   "metadata": {
    "scrolled": true
   },
   "outputs": [
    {
     "name": "stdout",
     "output_type": "stream",
     "text": [
      "<class 'pandas.core.frame.DataFrame'>\n",
      "RangeIndex: 520263 entries, 0 to 520262\n",
      "Data columns (total 12 columns):\n",
      "id                       520263 non-null int64\n",
      "screen_name              520263 non-null object\n",
      "latitude                 4063 non-null float64\n",
      "longitude                4063 non-null float64\n",
      "in_reply_to_status_id    507354 non-null float64\n",
      "text                     520263 non-null object\n",
      "timestamp                520247 non-null datetime64[ns]\n",
      "conversation_id          520263 non-null int64\n",
      "conversation_deep        520263 non-null int64\n",
      "num_replies              520263 non-null int64\n",
      "num_users                520263 non-null int64\n",
      "url                      520263 non-null object\n",
      "dtypes: datetime64[ns](1), float64(3), int64(5), object(3)\n",
      "memory usage: 47.6+ MB\n"
     ]
    }
   ],
   "source": [
    "ds = pd.read_csv('../data/convusersec/conversations.csv', parse_dates=['timestamp'])\n",
    "ds.info()"
   ]
  },
  {
   "cell_type": "markdown",
   "metadata": {},
   "source": [
    "520K tweets in the dataset, including: those popular users' tweets and all the replies.\n",
    "\n",
    "## temporal distribution\n",
    "\n",
    "Let's analyze the temporal distribution of the tweets"
   ]
  },
  {
   "cell_type": "code",
   "execution_count": 10,
   "metadata": {},
   "outputs": [
    {
     "data": {
      "text/plain": [
       "<matplotlib.axes._subplots.AxesSubplot at 0x12a37b278>"
      ]
     },
     "execution_count": 10,
     "metadata": {},
     "output_type": "execute_result"
    },
    {
     "data": {
      "image/png": "[encoded data removed]",
      "text/plain": [
       "<Figure size 432x288 with 1 Axes>"
      ]
     },
     "metadata": {},
     "output_type": "display_data"
    }
   ],
   "source": [
    "ds.groupby(ds['timestamp'].dt.date).size().plot()"
   ]
  },
  {
   "cell_type": "markdown",
   "metadata": {},
   "source": [
    "the tweets begin in 2010, then steadily increase through the years with a huge spike in 2018 probably the referendum in february"
   ]
  },
  {
   "cell_type": "markdown",
   "metadata": {},
   "source": [
    "## most active users"
   ]
  },
  {
   "cell_type": "code",
   "execution_count": 4,
   "metadata": {},
   "outputs": [
    {
     "data": {
      "text/plain": [
       "screen_name\n",
       "MashiRafael      6212\n",
       "aguschmer        6140\n",
       "KarlaMoralesR    2575\n",
       "marceloht40      1617\n",
       "sejusto2015       834\n",
       "dtype: int64"
      ]
     },
     "execution_count": 4,
     "metadata": {},
     "output_type": "execute_result"
    }
   ],
   "source": [
    "ds.groupby('screen_name').size().sort_values(ascending=False).head()"
   ]
  },
  {
   "cell_type": "markdown",
   "metadata": {},
   "source": [
    "## number of tweets that start conversations"
   ]
  },
  {
   "cell_type": "code",
   "execution_count": 5,
   "metadata": {},
   "outputs": [
    {
     "data": {
      "text/plain": [
       "screen_name\n",
       "aguschmer        5257\n",
       "MashiRafael      5060\n",
       "KarlaMoralesR    1768\n",
       "adeljar            11\n",
       "la_abogada_        11\n",
       "dtype: int64"
      ]
     },
     "execution_count": 5,
     "metadata": {},
     "output_type": "execute_result"
    }
   ],
   "source": [
    "conv_users = ds[ds.in_reply_to_status_id.isnull()].groupby('screen_name')\n",
    "conv_users.size().sort_values(ascending=False).head()"
   ]
  },
  {
   "cell_type": "code",
   "execution_count": 6,
   "metadata": {},
   "outputs": [
    {
     "name": "stdout",
     "output_type": "stream",
     "text": [
      "652\n"
     ]
    }
   ],
   "source": [
    "print(conv_users.size().shape[0])"
   ]
  },
  {
   "cell_type": "markdown",
   "metadata": {},
   "source": [
    "## number of participants by conversation starter"
   ]
  },
  {
   "cell_type": "code",
   "execution_count": 49,
   "metadata": {},
   "outputs": [
    {
     "data": {
      "text/html": [
       "<div>\n",
       "<style scoped>\n",
       "    .dataframe tbody tr th:only-of-type {\n",
       "        vertical-align: middle;\n",
       "    }\n",
       "\n",
       "    .dataframe tbody tr th {\n",
       "        vertical-align: top;\n",
       "    }\n",
       "\n",
       "    .dataframe thead th {\n",
       "        text-align: right;\n",
       "    }\n",
       "</style>\n",
       "<table border=\"1\" class=\"dataframe\">\n",
       "  <thead>\n",
       "    <tr style=\"text-align: right;\">\n",
       "      <th></th>\n",
       "      <th>screen_name</th>\n",
       "      <th>num_replies</th>\n",
       "      <th>num_participants</th>\n",
       "    </tr>\n",
       "  </thead>\n",
       "  <tbody>\n",
       "    <tr>\n",
       "      <th>208</th>\n",
       "      <td>MashiRafael</td>\n",
       "      <td>413805</td>\n",
       "      <td>97682</td>\n",
       "    </tr>\n",
       "    <tr>\n",
       "      <th>326</th>\n",
       "      <td>aguschmer</td>\n",
       "      <td>79425</td>\n",
       "      <td>24219</td>\n",
       "    </tr>\n",
       "    <tr>\n",
       "      <th>173</th>\n",
       "      <td>KarlaMoralesR</td>\n",
       "      <td>12355</td>\n",
       "      <td>5290</td>\n",
       "    </tr>\n",
       "    <tr>\n",
       "      <th>36</th>\n",
       "      <td>BatichicaRC</td>\n",
       "      <td>489</td>\n",
       "      <td>207</td>\n",
       "    </tr>\n",
       "    <tr>\n",
       "      <th>579</th>\n",
       "      <td>pametroya</td>\n",
       "      <td>393</td>\n",
       "      <td>157</td>\n",
       "    </tr>\n",
       "  </tbody>\n",
       "</table>\n",
       "</div>"
      ],
      "text/plain": [
       "       screen_name  num_replies  num_participants\n",
       "208    MashiRafael       413805             97682\n",
       "326      aguschmer        79425             24219\n",
       "173  KarlaMoralesR        12355              5290\n",
       "36     BatichicaRC          489               207\n",
       "579      pametroya          393               157"
      ]
     },
     "execution_count": 49,
     "metadata": {},
     "output_type": "execute_result"
    }
   ],
   "source": [
    "participants_by_conv_starter = []\n",
    "pcs = {}\n",
    "\n",
    "for name, group in conv_users:\n",
    "    conv_ids = group.id.values\n",
    "    #conv_ids = ds[ds.screen_name==name].head().groupby('conversation_id').size().index.values\n",
    "    conv_tweets = ds[ds.conversation_id.isin(conv_ids)]\n",
    "    #print(name, conv_tweets.shape[0], conv_tweets.screen_name.nunique())\n",
    "    participants_by_conv_starter.append((name, conv_tweets.shape[0], conv_tweets.screen_name.nunique()))\n",
    "    pcs[name] = set(conv_tweets.screen_name.unique())\n",
    "    #break\n",
    "\n",
    "ds_participants = pd.DataFrame(participants_by_conv_starter, columns=['screen_name','num_replies','num_participants'])\n",
    "ds_participants.sort_values(by='num_replies', ascending=False).head()"
   ]
  },
  {
   "cell_type": "markdown",
   "metadata": {},
   "source": [
    "## users participating on conversations in different domains?"
   ]
  },
  {
   "cell_type": "code",
   "execution_count": 234,
   "metadata": {},
   "outputs": [
    {
     "name": "stdout",
     "output_type": "stream",
     "text": [
      "7699\n",
      "2138\n",
      "1945\n"
     ]
    }
   ],
   "source": [
    "intersect = pcs['MashiRafael'].intersection(pcs['aguschmer'])\n",
    "intersect2 = pcs['MashiRafael'].intersection(pcs['KarlaMoralesR'])\n",
    "intersect3 = pcs['aguschmer'].intersection(pcs['KarlaMoralesR'])\n",
    "print(len(intersect))\n",
    "print(len(intersect2))\n",
    "print(len(intersect3))"
   ]
  },
  {
   "cell_type": "code",
   "execution_count": 90,
   "metadata": {},
   "outputs": [
    {
     "data": {
      "text/plain": [
       "0.09953451436584974"
      ]
     },
     "execution_count": 90,
     "metadata": {},
     "output_type": "execute_result"
    }
   ],
   "source": [
    "(7699+2138+1945) / ds.screen_name.nunique()"
   ]
  },
  {
   "cell_type": "markdown",
   "metadata": {},
   "source": [
    "less than 10% of the total of the users"
   ]
  },
  {
   "cell_type": "code",
   "execution_count": 127,
   "metadata": {},
   "outputs": [],
   "source": [
    "import networkx as nx\n",
    "import numpy as np"
   ]
  },
  {
   "cell_type": "code",
   "execution_count": 235,
   "metadata": {},
   "outputs": [],
   "source": [
    "#G.add_nodes_from(ds_participants.screen_name.values)\n",
    "\n",
    "name_list=['MashiRafael','KarlaMoralesR','aguschmer']\n",
    "color_list=['green', 'red', 'blue']\n",
    "nodes_color = []\n",
    "i = 0\n",
    "G = nx.DiGraph()\n",
    "\n",
    "for name, color in zip(name_list, color_list):\n",
    "    nodes = list(pcs[name])\n",
    "    sample_nodes=np.random.choice(nodes, int(len(nodes)*0.02),replace=False)\n",
    "    for e in sample_nodes:\n",
    "        G.add_edge(e, name)\n",
    "        \n",
    "name_list= []\n",
    "name_list.append(('MashiRafael','aguschmer'))\n",
    "name_list.append(('MashiRafael','KarlaMoralesR'))\n",
    "name_list.append(('aguschmer','KarlaMoralesR'))\n",
    "\n",
    "node_list = []\n",
    "node_list.append(intersect)\n",
    "node_list.append(intersect2)\n",
    "node_list.append(intersect3)\n",
    "intergroup = []\n",
    "\n",
    "for names, nodes_ in zip(name_list, node_list):\n",
    "    nodes = list(nodes_)\n",
    "    sample_nodes = np.random.choice(nodes, int(len(nodes)*0.05), replace=False)\n",
    "\n",
    "    for e in sample_nodes:\n",
    "        G.add_edge(e, names[0])\n",
    "        G.add_edge(e, names[1])\n",
    "        intergroup.append(e)"
   ]
  },
  {
   "cell_type": "code",
   "execution_count": 307,
   "metadata": {
    "scrolled": false
   },
   "outputs": [
    {
     "data": {
      "text/plain": [
       "{'MashiRafael': Text(-0.0698278,0.452496,'MashiRafael'),\n",
       " 'KarlaMoralesR': Text(-0.577164,-0.59597,'KarlaMoralesR'),\n",
       " 'aguschmer': Text(0.208664,-0.876724,'aguschmer')}"
      ]
     },
     "execution_count": 307,
     "metadata": {},
     "output_type": "execute_result"
    },
    {
     "data": {
      "image/png": "[encoded data removed]",
      "text/plain": [
       "<Figure size 504x504 with 1 Axes>"
      ]
     },
     "metadata": {},
     "output_type": "display_data"
    }
   ],
   "source": [
    "plt.figure\n",
    "fig, ax = plt.subplots(figsize=(7,7))\n",
    "ax.axis('off')\n",
    "pos = nx.spring_layout(G,k=0.10,iterations=50)\n",
    "group = list(G.predecessors('MashiRafael'))\n",
    "nx.draw_networkx_nodes(G,pos=pos, with_labels=False,node_size=1, ax=ax, nodelist=group, node_color='green', node_shape='o')\n",
    "group = list(G.predecessors('aguschmer'))\n",
    "nx.draw_networkx_nodes(G,pos=pos, with_labels=False,node_size=1, ax=ax, nodelist=group, node_color='blue', node_shape='o')\n",
    "group = list(G.predecessors('KarlaMoralesR'))\n",
    "nx.draw_networkx_nodes(G,pos=pos, with_labels=False,node_size=1, ax=ax, nodelist=group, node_color='red', node_shape='o')\n",
    "nx.draw_networkx_nodes(G,pos=pos, with_labels=False,node_size=1, ax=ax, nodelist=intergroup, node_color='grey', node_shape='x')\n",
    "group=['MashiRafael','KarlaMoralesR','aguschmer']\n",
    "labels = {name:name for name in group}\n",
    "nx.draw_networkx_labels(G,pos,labels,font_size=16,font_color='black')"
   ]
  },
  {
   "cell_type": "markdown",
   "metadata": {},
   "source": [
    "## sample conversations "
   ]
  },
  {
   "cell_type": "code",
   "execution_count": 292,
   "metadata": {},
   "outputs": [
    {
     "name": "stdout",
     "output_type": "stream",
     "text": [
      "KarlaMoralesR 10 6\n",
      "MashiRafael 159 117\n",
      "aguschmer 34 30\n"
     ]
    }
   ],
   "source": [
    "name_list=['MashiRafael','KarlaMoralesR','aguschmer']\n",
    "conv_users = ds[ds.in_reply_to_status_id.isnull()]\n",
    "conv_users = conv_users[conv_users.screen_name.isin(name_list)].groupby('screen_name')\n",
    "users = {}\n",
    "tweets  =[]\n",
    "\n",
    "for name, group in conv_users:\n",
    "    conv_ids= group.sample(5, random_state=1).conversation_id.values\n",
    "    conv_tweets = ds[ds.conversation_id.isin(conv_ids)]\n",
    "    conv_parts = conv_tweets.screen_name.nunique()    \n",
    "    users[name] = set(conv_tweets.screen_name.unique())\n",
    "    t=conv_tweets.groupby('screen_name').agg({'id': 'max'}).reset_index()\n",
    "    tweets.extend(list(zip(t['screen_name'].values,t['id'].values)))\n",
    "    print(name, conv_tweets.shape[0], conv_parts)"
   ]
  },
  {
   "cell_type": "code",
   "execution_count": 259,
   "metadata": {},
   "outputs": [
    {
     "name": "stdout",
     "output_type": "stream",
     "text": [
      "KarlaMoralesR MashiRafael 0\n",
      "KarlaMoralesR aguschmer 0\n",
      "MashiRafael KarlaMoralesR 0\n",
      "MashiRafael aguschmer 0\n",
      "aguschmer KarlaMoralesR 0\n",
      "aguschmer MashiRafael 0\n"
     ]
    }
   ],
   "source": [
    "user_list =[]\n",
    "for key,value in users.items():\n",
    "    user_list.extend(list(value))\n",
    "    for key2,value2 in users.items():\n",
    "        if key==key2:\n",
    "            continue\n",
    "        print(key,key2, len(list(value.intersection(value2))))"
   ]
  },
  {
   "cell_type": "markdown",
   "metadata": {},
   "source": [
    "not intersection between users! we can use this sample as small dataset prediction or discussion analysis"
   ]
  },
  {
   "cell_type": "code",
   "execution_count": 293,
   "metadata": {},
   "outputs": [
    {
     "data": {
      "text/plain": [
       "(153, 2)"
      ]
     },
     "execution_count": 293,
     "metadata": {},
     "output_type": "execute_result"
    }
   ],
   "source": [
    "users_to_crawl = pd.DataFrame(data=tweets, columns=['name', 'tweet_id'])\n",
    "users_to_crawl.shape"
   ]
  },
  {
   "cell_type": "code",
   "execution_count": 294,
   "metadata": {
    "scrolled": true
   },
   "outputs": [
    {
     "data": {
      "text/html": [
       "<div>\n",
       "<style scoped>\n",
       "    .dataframe tbody tr th:only-of-type {\n",
       "        vertical-align: middle;\n",
       "    }\n",
       "\n",
       "    .dataframe tbody tr th {\n",
       "        vertical-align: top;\n",
       "    }\n",
       "\n",
       "    .dataframe thead th {\n",
       "        text-align: right;\n",
       "    }\n",
       "</style>\n",
       "<table border=\"1\" class=\"dataframe\">\n",
       "  <thead>\n",
       "    <tr style=\"text-align: right;\">\n",
       "      <th></th>\n",
       "      <th>name</th>\n",
       "      <th>tweet_id</th>\n",
       "    </tr>\n",
       "  </thead>\n",
       "  <tbody>\n",
       "    <tr>\n",
       "      <th>0</th>\n",
       "      <td>KarlaMoralesR</td>\n",
       "      <td>864679238045249545</td>\n",
       "    </tr>\n",
       "    <tr>\n",
       "      <th>1</th>\n",
       "      <td>TitoTacitus</td>\n",
       "      <td>746192692460191744</td>\n",
       "    </tr>\n",
       "    <tr>\n",
       "      <th>2</th>\n",
       "      <td>WilsonMerinoR</td>\n",
       "      <td>852353945007685632</td>\n",
       "    </tr>\n",
       "    <tr>\n",
       "      <th>3</th>\n",
       "      <td>andresgaraym</td>\n",
       "      <td>864680292191272963</td>\n",
       "    </tr>\n",
       "    <tr>\n",
       "      <th>4</th>\n",
       "      <td>ernestoColon20</td>\n",
       "      <td>753038888420147200</td>\n",
       "    </tr>\n",
       "  </tbody>\n",
       "</table>\n",
       "</div>"
      ],
      "text/plain": [
       "             name            tweet_id\n",
       "0   KarlaMoralesR  864679238045249545\n",
       "1     TitoTacitus  746192692460191744\n",
       "2   WilsonMerinoR  852353945007685632\n",
       "3    andresgaraym  864680292191272963\n",
       "4  ernestoColon20  753038888420147200"
      ]
     },
     "execution_count": 294,
     "metadata": {},
     "output_type": "execute_result"
    }
   ],
   "source": [
    "users_to_crawl.head()"
   ]
  },
  {
   "cell_type": "code",
   "execution_count": 295,
   "metadata": {},
   "outputs": [],
   "source": [
    "users_to_crawl.to_csv('../data/convusersec/sample_users_conv.csv', index=False)"
   ]
  },
  {
   "cell_type": "markdown",
   "metadata": {},
   "source": [
    "## generate conversation stats"
   ]
  },
  {
   "cell_type": "markdown",
   "metadata": {},
   "source": [
    "validation about conversations"
   ]
  },
  {
   "cell_type": "code",
   "execution_count": 14,
   "metadata": {},
   "outputs": [
    {
     "data": {
      "text/plain": [
       "8787"
      ]
     },
     "execution_count": 14,
     "metadata": {},
     "output_type": "execute_result"
    }
   ],
   "source": [
    "ds[(ds.num_replies> 1)&(ds.num_users>1) ].conversation_id.nunique()"
   ]
  },
  {
   "cell_type": "markdown",
   "metadata": {},
   "source": [
    "get the number of dialogs generated with different contexts"
   ]
  },
  {
   "cell_type": "code",
   "execution_count": 17,
   "metadata": {},
   "outputs": [
    {
     "name": "stderr",
     "output_type": "stream",
     "text": [
      "520263it [00:52, 9893.58it/s]\n"
     ]
    }
   ],
   "source": [
    "words = {}\n",
    "for i, row in tqdm(ds.iterrows()):\n",
    "    tokens = row['text'].split()\n",
    "    for t in tokens:\n",
    "        words[t] = 1"
   ]
  },
  {
   "cell_type": "code",
   "execution_count": 30,
   "metadata": {},
   "outputs": [],
   "source": [
    "n_conversations = ds.conversation_id.nunique()\n",
    "n_tweets = ds.shape[0]\n",
    "n_words = len(words)\n",
    "n_users = ds.screen_name.nunique()"
   ]
  },
  {
   "cell_type": "code",
   "execution_count": 46,
   "metadata": {},
   "outputs": [],
   "source": [
    "from os import listdir\n",
    "from os.path import isfile, join\n",
    "import csv\n",
    "import numpy as np"
   ]
  },
  {
   "cell_type": "code",
   "execution_count": 57,
   "metadata": {},
   "outputs": [
    {
     "name": "stderr",
     "output_type": "stream",
     "text": [
      "reading dialogs: 100%|██████████| 65277/65277 [00:08<00:00, 7781.99it/s]\n"
     ]
    },
    {
     "name": "stdout",
     "output_type": "stream",
     "text": [
      "num dialogs:65274\n",
      "num utterances:65274\n",
      "num turns:65274\n"
     ]
    }
   ],
   "source": [
    "data_dir = '../data/convusersec/dialogs/'\n",
    "num_dialogs = 0\n",
    "utterances = []\n",
    "turns = []\n",
    "fnames = []\n",
    "\n",
    "for f in tqdm( listdir(data_dir) ,'reading dialogs'):\n",
    "\n",
    "    dialog_filename = join(data_dir, f)\n",
    "    \n",
    "    if not isfile(dialog_filename):\n",
    "        continue\n",
    "    if not f.endswith('.tsv'):\n",
    "        continue\n",
    "    \n",
    "    num_dialogs += 1\n",
    "    fnames.append(dialog_filename)    \n",
    "    #print(dialog_filename)\n",
    "    first_turn = True\n",
    "    utterances_dialog = 0\n",
    "    turns_dialog = 0\n",
    "\n",
    "    with open(dialog_filename, 'r') as dialog_file:\n",
    "        dialog_reader = csv.reader(dialog_file, delimiter='\\t', quoting=csv.QUOTE_NONE)\n",
    "\n",
    "        for dialog_line in dialog_reader:\n",
    "            #print(dialog_line)\n",
    "            if first_turn:\n",
    "                last_user = dialog_line[1]\n",
    "                turns_dialog += 1\n",
    "                first_turn = False\n",
    "\n",
    "            if last_user != dialog_line[1]:\n",
    "                # user has changed\n",
    "                turns_dialog += 1\n",
    "\n",
    "            last_user = dialog_line[1]\n",
    "            utterances_dialog += 1\n",
    "\n",
    "        utterances.append(utterances_dialog)\n",
    "        turns.append(turns_dialog)\n",
    "    \n",
    "    #break\n",
    "fnames = np.array(fnames)\n",
    "utterances = np.array(utterances)\n",
    "turns = np.array(turns)    \n",
    "print(f'num dialogs:{num_dialogs}')\n",
    "print(f'num utterances:{len(utterances)}')\n",
    "print(f'num turns:{len(turns)}')"
   ]
  },
  {
   "cell_type": "code",
   "execution_count": 85,
   "metadata": {},
   "outputs": [
    {
     "data": {
      "text/html": [
       "<div>\n",
       "<style scoped>\n",
       "    .dataframe tbody tr th:only-of-type {\n",
       "        vertical-align: middle;\n",
       "    }\n",
       "\n",
       "    .dataframe tbody tr th {\n",
       "        vertical-align: top;\n",
       "    }\n",
       "\n",
       "    .dataframe thead th {\n",
       "        text-align: right;\n",
       "    }\n",
       "</style>\n",
       "<table border=\"1\" class=\"dataframe\">\n",
       "  <thead>\n",
       "    <tr style=\"text-align: right;\">\n",
       "      <th></th>\n",
       "      <th>stat</th>\n",
       "      <th>value</th>\n",
       "    </tr>\n",
       "  </thead>\n",
       "  <tbody>\n",
       "    <tr>\n",
       "      <th>0</th>\n",
       "      <td>pop. users</td>\n",
       "      <td>3.000000</td>\n",
       "    </tr>\n",
       "    <tr>\n",
       "      <th>1</th>\n",
       "      <td>conversations</td>\n",
       "      <td>12909.000000</td>\n",
       "    </tr>\n",
       "    <tr>\n",
       "      <th>2</th>\n",
       "      <td>tweets</td>\n",
       "      <td>520263.000000</td>\n",
       "    </tr>\n",
       "    <tr>\n",
       "      <th>3</th>\n",
       "      <td>words</td>\n",
       "      <td>588039.000000</td>\n",
       "    </tr>\n",
       "    <tr>\n",
       "      <th>4</th>\n",
       "      <td>conv. threads</td>\n",
       "      <td>65274.000000</td>\n",
       "    </tr>\n",
       "    <tr>\n",
       "      <th>5</th>\n",
       "      <td>utterances</td>\n",
       "      <td>345277.000000</td>\n",
       "    </tr>\n",
       "    <tr>\n",
       "      <th>6</th>\n",
       "      <td>turns</td>\n",
       "      <td>331971.000000</td>\n",
       "    </tr>\n",
       "    <tr>\n",
       "      <th>7</th>\n",
       "      <td>min. turns</td>\n",
       "      <td>1.000000</td>\n",
       "    </tr>\n",
       "    <tr>\n",
       "      <th>8</th>\n",
       "      <td>avg. turns</td>\n",
       "      <td>5.085808</td>\n",
       "    </tr>\n",
       "    <tr>\n",
       "      <th>9</th>\n",
       "      <td>max. turns</td>\n",
       "      <td>64.000000</td>\n",
       "    </tr>\n",
       "    <tr>\n",
       "      <th>10</th>\n",
       "      <td>median turns</td>\n",
       "      <td>4.000000</td>\n",
       "    </tr>\n",
       "  </tbody>\n",
       "</table>\n",
       "</div>"
      ],
      "text/plain": [
       "             stat          value\n",
       "0      pop. users       3.000000\n",
       "1   conversations   12909.000000\n",
       "2          tweets  520263.000000\n",
       "3           words  588039.000000\n",
       "4   conv. threads   65274.000000\n",
       "5      utterances  345277.000000\n",
       "6           turns  331971.000000\n",
       "7      min. turns       1.000000\n",
       "8      avg. turns       5.085808\n",
       "9      max. turns      64.000000\n",
       "10   median turns       4.000000"
      ]
     },
     "execution_count": 85,
     "metadata": {},
     "output_type": "execute_result"
    }
   ],
   "source": [
    "stats =[]\n",
    "stats.append( ['pop. users', 3] )\n",
    "stats.append( ['conversations', n_conversations] )\n",
    "stats.append( ['tweets', n_tweets] )\n",
    "stats.append( ['words', n_words] )\n",
    "\n",
    "stats.append( ['conv. threads', num_dialogs] )\n",
    "stats.append( ['utterances', utterances.sum()] )\n",
    "stats.append( ['turns', turns.sum()] )\n",
    "\n",
    "stats.append( ['min. turns', turns.min()] ) # this is manually defined\n",
    "stats.append( ['avg. turns', turns.mean()])\n",
    "stats.append( ['max. turns', turns.max()])\n",
    "stats.append( ['median turns', np.median(turns)])\n",
    "\n",
    "stats_df = pd.DataFrame(stats, columns=['stat', 'value'])\n",
    "stats_df"
   ]
  },
  {
   "cell_type": "markdown",
   "metadata": {},
   "source": [
    "### Why is min turns == 1???"
   ]
  },
  {
   "cell_type": "code",
   "execution_count": 59,
   "metadata": {},
   "outputs": [
    {
     "data": {
      "text/plain": [
       "array(['../data/convusersec/dialogs/914046965150814208.tsv',\n",
       "       '../data/convusersec/dialogs/914045871536435201.tsv',\n",
       "       '../data/convusersec/dialogs/914043246938136578.tsv',\n",
       "       '../data/convusersec/dialogs/914033221574299648.tsv'], dtype='<U50')"
      ]
     },
     "execution_count": 59,
     "metadata": {},
     "output_type": "execute_result"
    }
   ],
   "source": [
    "fnames[turns==1]\n"
   ]
  },
  {
   "cell_type": "code",
   "execution_count": 76,
   "metadata": {},
   "outputs": [
    {
     "name": "stdout",
     "output_type": "stream",
     "text": [
      "2017-09-30 08:36:53\tMashiRafael\tHoy es 30S. Hace siete años, por primera vez en la historia, el pueblo salió espontáneamente a defender a su Gobierno y Revolución.\r\n",
      "2017-09-30 08:38:12\tMashiRafael\tEl costo fue muy alto, pero Ecuador cambió y para siempre. Jamás volveríamos a permitir que el abuso y la fuerza atentaran contra nuestra..\r\n",
      "2017-09-30 08:38:47\tMashiRafael\t...democracia.. Siempre nuestro homenaje a Juan Pablo Bolaños, Froilán Jiménez, Darwin Panchi, Jacinto Cortéz y Edwin Calderón, caídos el...\r\n",
      "2017-09-30 08:39:13\tMashiRafael\t...día en que triunfó la democracia.. ¡Hasta la victoria siempre!\r\n"
     ]
    }
   ],
   "source": [
    "!cat ../data/convusersec/dialogs/914046965150814208.tsv"
   ]
  },
  {
   "cell_type": "markdown",
   "metadata": {},
   "source": [
    "those are related to self replies"
   ]
  },
  {
   "cell_type": "markdown",
   "metadata": {},
   "source": [
    "## choosing the max-content-len"
   ]
  },
  {
   "cell_type": "markdown",
   "metadata": {},
   "source": [
    "- select the path of csv files generated in the preprocessing step\n",
    "- this value defines the hyperparam for extracting content from the tfrecords"
   ]
  },
  {
   "cell_type": "code",
   "execution_count": 61,
   "metadata": {
    "scrolled": true
   },
   "outputs": [
    {
     "name": "stdout",
     "output_type": "stream",
     "text": [
      "<class 'pandas.core.frame.DataFrame'>\n",
      "RangeIndex: 50000 entries, 0 to 49999\n",
      "Data columns (total 3 columns):\n",
      "Context      50000 non-null object\n",
      "Utterance    50000 non-null object\n",
      "Label        50000 non-null int64\n",
      "dtypes: int64(1), object(2)\n",
      "memory usage: 1.1+ MB\n"
     ]
    }
   ],
   "source": [
    "train = pd.read_csv('../data/convusersec/dialogs_csv_v3/train.csv')\n",
    "train.info()"
   ]
  },
  {
   "cell_type": "code",
   "execution_count": 71,
   "metadata": {},
   "outputs": [],
   "source": [
    "train['num_words'] = train.Context.apply(lambda x: len(x.split()))"
   ]
  },
  {
   "cell_type": "code",
   "execution_count": 72,
   "metadata": {},
   "outputs": [
    {
     "data": {
      "image/png": "[encoded data removed]",
      "text/plain": [
       "<Figure size 432x288 with 1 Axes>"
      ]
     },
     "metadata": {},
     "output_type": "display_data"
    }
   ],
   "source": [
    "train.num_words.plot.hist(bins=200)\n",
    "plt.xscale('log')"
   ]
  },
  {
   "cell_type": "markdown",
   "metadata": {},
   "source": [
    "## final stats"
   ]
  },
  {
   "cell_type": "code",
   "execution_count": 91,
   "metadata": {},
   "outputs": [
    {
     "data": {
      "text/html": [
       "<div>\n",
       "<style scoped>\n",
       "    .dataframe tbody tr th:only-of-type {\n",
       "        vertical-align: middle;\n",
       "    }\n",
       "\n",
       "    .dataframe tbody tr th {\n",
       "        vertical-align: top;\n",
       "    }\n",
       "\n",
       "    .dataframe thead th {\n",
       "        text-align: right;\n",
       "    }\n",
       "</style>\n",
       "<table border=\"1\" class=\"dataframe\">\n",
       "  <thead>\n",
       "    <tr style=\"text-align: right;\">\n",
       "      <th></th>\n",
       "      <th>stat</th>\n",
       "      <th>value</th>\n",
       "    </tr>\n",
       "  </thead>\n",
       "  <tbody>\n",
       "    <tr>\n",
       "      <th>0</th>\n",
       "      <td>pop. users</td>\n",
       "      <td>3.000000</td>\n",
       "    </tr>\n",
       "    <tr>\n",
       "      <th>1</th>\n",
       "      <td>conversations</td>\n",
       "      <td>12909.000000</td>\n",
       "    </tr>\n",
       "    <tr>\n",
       "      <th>2</th>\n",
       "      <td>tweets</td>\n",
       "      <td>520263.000000</td>\n",
       "    </tr>\n",
       "    <tr>\n",
       "      <th>3</th>\n",
       "      <td>words</td>\n",
       "      <td>588039.000000</td>\n",
       "    </tr>\n",
       "    <tr>\n",
       "      <th>4</th>\n",
       "      <td>conv. threads</td>\n",
       "      <td>65274.000000</td>\n",
       "    </tr>\n",
       "    <tr>\n",
       "      <th>5</th>\n",
       "      <td>utterances</td>\n",
       "      <td>345277.000000</td>\n",
       "    </tr>\n",
       "    <tr>\n",
       "      <th>6</th>\n",
       "      <td>turns</td>\n",
       "      <td>331971.000000</td>\n",
       "    </tr>\n",
       "    <tr>\n",
       "      <th>7</th>\n",
       "      <td>min. turns</td>\n",
       "      <td>1.000000</td>\n",
       "    </tr>\n",
       "    <tr>\n",
       "      <th>8</th>\n",
       "      <td>avg. turns</td>\n",
       "      <td>5.085808</td>\n",
       "    </tr>\n",
       "    <tr>\n",
       "      <th>9</th>\n",
       "      <td>max. turns</td>\n",
       "      <td>64.000000</td>\n",
       "    </tr>\n",
       "    <tr>\n",
       "      <th>10</th>\n",
       "      <td>median turns</td>\n",
       "      <td>4.000000</td>\n",
       "    </tr>\n",
       "    <tr>\n",
       "      <th>11</th>\n",
       "      <td>min. context words</td>\n",
       "      <td>5.000000</td>\n",
       "    </tr>\n",
       "    <tr>\n",
       "      <th>12</th>\n",
       "      <td>avg. context words</td>\n",
       "      <td>68.228820</td>\n",
       "    </tr>\n",
       "    <tr>\n",
       "      <th>13</th>\n",
       "      <td>max. context words</td>\n",
       "      <td>1720.000000</td>\n",
       "    </tr>\n",
       "    <tr>\n",
       "      <th>14</th>\n",
       "      <td>median context words</td>\n",
       "      <td>57.000000</td>\n",
       "    </tr>\n",
       "  </tbody>\n",
       "</table>\n",
       "</div>"
      ],
      "text/plain": [
       "                    stat          value\n",
       "0             pop. users       3.000000\n",
       "1          conversations   12909.000000\n",
       "2                 tweets  520263.000000\n",
       "3                  words  588039.000000\n",
       "4          conv. threads   65274.000000\n",
       "5             utterances  345277.000000\n",
       "6                  turns  331971.000000\n",
       "7             min. turns       1.000000\n",
       "8             avg. turns       5.085808\n",
       "9             max. turns      64.000000\n",
       "10          median turns       4.000000\n",
       "11    min. context words       5.000000\n",
       "12    avg. context words      68.228820\n",
       "13    max. context words    1720.000000\n",
       "14  median context words      57.000000"
      ]
     },
     "execution_count": 91,
     "metadata": {},
     "output_type": "execute_result"
    }
   ],
   "source": [
    "stats =[]\n",
    "stats.append( ['pop. users', 3] )\n",
    "stats.append( ['conversations', n_conversations] )\n",
    "stats.append( ['tweets', n_tweets] )\n",
    "stats.append( ['words', n_words] )\n",
    "\n",
    "stats.append( ['conv. threads', num_dialogs] )\n",
    "stats.append( ['utterances', utterances.sum()] )\n",
    "stats.append( ['turns', turns.sum()] )\n",
    "\n",
    "stats.append( ['min. turns', turns.min()] ) # this is manually defined\n",
    "stats.append( ['avg. turns', turns.mean()])\n",
    "stats.append( ['max. turns', turns.max()])\n",
    "stats.append( ['median turns', np.median(turns)])\n",
    "\n",
    "stats.append( ['min. context words', np.min(train.num_words)] ) # this is manually defined\n",
    "stats.append( ['avg. context words', np.mean(train.num_words)])\n",
    "stats.append( ['max. context words', np.max(train.num_words)])\n",
    "stats.append( ['median context words', np.median(train.num_words)])\n",
    "\n",
    "\n",
    "stats_df = pd.DataFrame(stats, columns=['stat', 'value'])\n",
    "stats_df"
   ]
  },
  {
   "cell_type": "code",
   "execution_count": 92,
   "metadata": {},
   "outputs": [],
   "source": [
    "stats_df.to_csv('../results/ds_stats_conversations.csv', index=False)"
   ]
  },
  {
   "cell_type": "markdown",
   "metadata": {},
   "source": [
    "## plot distribution for conversations"
   ]
  },
  {
   "cell_type": "code",
   "execution_count": 96,
   "metadata": {},
   "outputs": [
    {
     "data": {
      "image/png": "[encoded data removed]",
      "text/plain": [
       "<Figure size 432x288 with 1 Axes>"
      ]
     },
     "metadata": {},
     "output_type": "display_data"
    }
   ],
   "source": [
    "convdist = ds[(ds.num_replies>1) & (ds.in_reply_to_status_id.isnull())]\n",
    "y, bins = np.histogram(convdist.num_replies, bins=1000)\n",
    "x=bins[:-1]\n",
    "ix = y!=0\n",
    "y_log = np.log(y[ix])\n",
    "x_log = np.log(x[ix])\n",
    "plt.scatter(x_log, y_log, marker='.')\n",
    "plt.xlabel('log conversations length')\n",
    "plt.ylabel('log frequency')\n",
    "plt.savefig('../results/conversations_distribution.eps', format='eps',bbox_inches='tight')"
   ]
  },
  {
   "cell_type": "code",
   "execution_count": null,
   "metadata": {},
   "outputs": [],
   "source": []
  }
 ],
 "metadata": {
  "kernelspec": {
   "display_name": "Python 3",
   "language": "python",
   "name": "python3"
  },
  "language_info": {
   "codemirror_mode": {
    "name": "ipython",
    "version": 3
   },
   "file_extension": ".py",
   "mimetype": "text/x-python",
   "name": "python",
   "nbconvert_exporter": "python",
   "pygments_lexer": "ipython3",
   "version": "3.6.5"
  }
 },
 "nbformat": 4,
 "nbformat_minor": 2
}
