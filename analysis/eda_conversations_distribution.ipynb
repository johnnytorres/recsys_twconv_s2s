{
 "cells": [
  {
   "cell_type": "code",
   "execution_count": 1,
   "metadata": {},
   "outputs": [],
   "source": [
    "%matplotlib inline\n",
    "import matplotlib.pyplot as plt\n",
    "import pandas as pd\n",
    "from tqdm import tqdm\n",
    "from os import listdir\n",
    "from os.path import isfile, join\n",
    "import os\n",
    "import csv\n",
    "import numpy as np"
   ]
  },
  {
   "cell_type": "code",
   "execution_count": 2,
   "metadata": {
    "scrolled": false
   },
   "outputs": [
    {
     "name": "stdout",
     "output_type": "stream",
     "text": [
      "<class 'pandas.core.frame.DataFrame'>\n",
      "RangeIndex: 520263 entries, 0 to 520262\n",
      "Data columns (total 14 columns):\n",
      "id                       520263 non-null int64\n",
      "screen_name              520263 non-null object\n",
      "latitude                 4063 non-null float64\n",
      "longitude                4063 non-null float64\n",
      "lang                     520263 non-null object\n",
      "in_reply_to_status_id    507354 non-null float64\n",
      "created_at               520263 non-null object\n",
      "text                     520263 non-null object\n",
      "timestamp                520247 non-null datetime64[ns]\n",
      "conversation_id          520263 non-null int64\n",
      "conversation_deep        520263 non-null int64\n",
      "num_replies              520263 non-null int64\n",
      "num_users                520263 non-null int64\n",
      "url                      520263 non-null object\n",
      "dtypes: datetime64[ns](1), float64(3), int64(5), object(5)\n",
      "memory usage: 55.6+ MB\n"
     ]
    }
   ],
   "source": [
    "data_dir='~/data/twconv/twconv_2016_usersec'\n",
    "data_dir=os.path.expanduser(data_dir)\n",
    "fpath = os.path.join(data_dir, 'conversations_large.csv')\n",
    "ds = pd.read_csv(fpath, parse_dates=['timestamp'])\n",
    "ds.info()"
   ]
  },
  {
   "cell_type": "code",
   "execution_count": 11,
   "metadata": {},
   "outputs": [
    {
     "data": {
      "text/plain": [
       "0     3\n",
       "11    2\n",
       "14    7\n",
       "21    2\n",
       "25    2\n",
       "Name: num_replies, dtype: int64"
      ]
     },
     "execution_count": 11,
     "metadata": {},
     "output_type": "execute_result"
    }
   ],
   "source": [
    "convdist = ds[(ds.num_replies>1) & (ds.in_reply_to_status_id.isnull())]\n",
    "convdist.num_replies.head()"
   ]
  },
  {
   "cell_type": "code",
   "execution_count": 28,
   "metadata": {},
   "outputs": [
    {
     "data": {
      "image/png": "[encoded data removed]",
      "text/plain": [
       "<Figure size 432x288 with 1 Axes>"
      ]
     },
     "metadata": {},
     "output_type": "display_data"
    }
   ],
   "source": [
    "y, bins = np.histogram(convdist.num_replies, bins=1000)\n",
    "x=bins[:-1]\n",
    "ix = y!=0\n",
    "y_log = np.log(y[ix])\n",
    "x_log = np.log(x[ix])\n",
    "plt.scatter(x_log, y_log, marker='.')\n",
    "plt.xlabel('log conversations length')\n",
    "plt.ylabel('log frequency')\n",
    "#plt.savefig('conversations_distribution.eps', format='eps',bbox_inches='tight')"
   ]
  },
  {
   "cell_type": "code",
   "execution_count": 88,
   "metadata": {},
   "outputs": [
    {
     "name": "stdout",
     "output_type": "stream",
     "text": [
      "1.4368275542071471\n",
      "2.0\n",
      "-475.16957769914654 2.598467693989193e-90\n"
     ]
    }
   ],
   "source": [
    "import powerlaw\n",
    "data = convdist.num_replies.values\n",
    "results = powerlaw.Fit(data, discrete=True, xmin=2)\n",
    "print(results.power_law.alpha)\n",
    "print(results.power_law.xmin)\n",
    "R, p = results.distribution_compare('power_law', 'lognormal')\n",
    "print(R,p)"
   ]
  },
  {
   "cell_type": "code",
   "execution_count": 48,
   "metadata": {},
   "outputs": [
    {
     "data": {
      "text/plain": [
       "(500, 8793, 8793)"
      ]
     },
     "execution_count": 48,
     "metadata": {},
     "output_type": "execute_result"
    }
   ],
   "source": [
    "len(np.unique(data)), len(data>1), len(data)"
   ]
  },
  {
   "cell_type": "code",
   "execution_count": 49,
   "metadata": {},
   "outputs": [
    {
     "data": {
      "text/plain": [
       "8793"
      ]
     },
     "execution_count": 49,
     "metadata": {},
     "output_type": "execute_result"
    }
   ],
   "source": [
    "power_law = results.power_law.pdf()\n",
    "len(power_law)"
   ]
  },
  {
   "cell_type": "code",
   "execution_count": 50,
   "metadata": {},
   "outputs": [
    {
     "data": {
      "text/plain": [
       "8793"
      ]
     },
     "execution_count": 50,
     "metadata": {},
     "output_type": "execute_result"
    }
   ],
   "source": [
    "exponential = results.exponential.pdf()\n",
    "len(exponential)"
   ]
  },
  {
   "cell_type": "code",
   "execution_count": 79,
   "metadata": {},
   "outputs": [
    {
     "data": {
      "text/plain": [
       "(501, 500)"
      ]
     },
     "execution_count": 79,
     "metadata": {},
     "output_type": "execute_result"
    }
   ],
   "source": [
    "bins, empirical = results.pdf(bins=500)\n",
    "len(bins), len(empirical)"
   ]
  },
  {
   "cell_type": "code",
   "execution_count": 82,
   "metadata": {},
   "outputs": [
    {
     "data": {
      "text/plain": [
       "<matplotlib.legend.Legend at 0x11d8ac5f8>"
      ]
     },
     "execution_count": 82,
     "metadata": {},
     "output_type": "execute_result"
    },
    {
     "data": {
      "image/png": "[encoded data removed]",
      "text/plain": [
       "<Figure size 432x288 with 1 Axes>"
      ]
     },
     "metadata": {
      "needs_background": "light"
     },
     "output_type": "display_data"
    }
   ],
   "source": [
    "ax= results.power_law.plot_pdf(label='power law')\n",
    "ax2=results.exponential.plot_pdf(label='exponential')\n",
    "ax3=results.plot_pdf(label='empirical')\n",
    "plt.legend(frameon=False)"
   ]
  },
  {
   "cell_type": "code",
   "execution_count": 73,
   "metadata": {},
   "outputs": [
    {
     "data": {
      "text/plain": [
       "(3, (500, 2), (500, 2), (30, 2))"
      ]
     },
     "execution_count": 73,
     "metadata": {},
     "output_type": "execute_result"
    }
   ],
   "source": [
    "len(ax.lines), ax.lines[0].get_xydata().shape,ax.lines[1].get_xydata().shape, ax.lines[2].get_xydata().shape"
   ]
  },
  {
   "cell_type": "code",
   "execution_count": 86,
   "metadata": {},
   "outputs": [
    {
     "data": {
      "text/html": [
       "<div>\n",
       "<style scoped>\n",
       "    .dataframe tbody tr th:only-of-type {\n",
       "        vertical-align: middle;\n",
       "    }\n",
       "\n",
       "    .dataframe tbody tr th {\n",
       "        vertical-align: top;\n",
       "    }\n",
       "\n",
       "    .dataframe thead th {\n",
       "        text-align: right;\n",
       "    }\n",
       "</style>\n",
       "<table border=\"1\" class=\"dataframe\">\n",
       "  <thead>\n",
       "    <tr style=\"text-align: right;\">\n",
       "      <th></th>\n",
       "      <th>bins</th>\n",
       "      <th>pdf</th>\n",
       "      <th>bins</th>\n",
       "      <th>pdf</th>\n",
       "      <th>bins</th>\n",
       "      <th>pdf</th>\n",
       "    </tr>\n",
       "  </thead>\n",
       "  <tbody>\n",
       "    <tr>\n",
       "      <th>0</th>\n",
       "      <td>2.0</td>\n",
       "      <td>0.194686</td>\n",
       "      <td>2.0</td>\n",
       "      <td>0.017330</td>\n",
       "      <td>2.5</td>\n",
       "      <td>0.183669</td>\n",
       "    </tr>\n",
       "    <tr>\n",
       "      <th>1</th>\n",
       "      <td>3.0</td>\n",
       "      <td>0.108723</td>\n",
       "      <td>3.0</td>\n",
       "      <td>0.017029</td>\n",
       "      <td>3.5</td>\n",
       "      <td>0.091778</td>\n",
       "    </tr>\n",
       "    <tr>\n",
       "      <th>2</th>\n",
       "      <td>4.0</td>\n",
       "      <td>0.071913</td>\n",
       "      <td>4.0</td>\n",
       "      <td>0.016734</td>\n",
       "      <td>4.5</td>\n",
       "      <td>0.061754</td>\n",
       "    </tr>\n",
       "    <tr>\n",
       "      <th>3</th>\n",
       "      <td>5.0</td>\n",
       "      <td>0.052187</td>\n",
       "      <td>5.0</td>\n",
       "      <td>0.016444</td>\n",
       "      <td>5.5</td>\n",
       "      <td>0.041055</td>\n",
       "    </tr>\n",
       "    <tr>\n",
       "      <th>4</th>\n",
       "      <td>6.0</td>\n",
       "      <td>0.040160</td>\n",
       "      <td>6.0</td>\n",
       "      <td>0.016159</td>\n",
       "      <td>7.0</td>\n",
       "      <td>0.030081</td>\n",
       "    </tr>\n",
       "  </tbody>\n",
       "</table>\n",
       "</div>"
      ],
      "text/plain": [
       "   bins       pdf  bins       pdf  bins       pdf\n",
       "0   2.0  0.194686   2.0  0.017330   2.5  0.183669\n",
       "1   3.0  0.108723   3.0  0.017029   3.5  0.091778\n",
       "2   4.0  0.071913   4.0  0.016734   4.5  0.061754\n",
       "3   5.0  0.052187   5.0  0.016444   5.5  0.041055\n",
       "4   6.0  0.040160   6.0  0.016159   7.0  0.030081"
      ]
     },
     "execution_count": 86,
     "metadata": {},
     "output_type": "execute_result"
    }
   ],
   "source": [
    "powerlaw = ax.lines[0].get_xydata()\n",
    "exponential= ax.lines[1].get_xydata()\n",
    "empirical = ax.lines[2].get_xydata()\n",
    "\n",
    "powerlaw_ds = pd.DataFrame(powerlaw, columns=['bins', 'pdf'])\n",
    "exponential_ds = pd.DataFrame(exponential, columns=['bins', 'pdf'])\n",
    "empirical_ds = pd.DataFrame(empirical, columns=['bins', 'pdf'])\n",
    "\n",
    "pd.concat([powerlaw_ds.head(), exponential_ds.head(), empirical_ds.head()], axis=1)"
   ]
  },
  {
   "cell_type": "code",
   "execution_count": 87,
   "metadata": {},
   "outputs": [],
   "source": [
    "powerlaw_ds.to_csv('powerlaw_dist.csv', index=False)\n",
    "exponential_ds.to_csv('exponential_dist.csv', index=False)\n",
    "empirical_ds.to_csv('empirical_dist.csv', index=False)"
   ]
  },
  {
   "cell_type": "code",
   "execution_count": 45,
   "metadata": {},
   "outputs": [
    {
     "data": {
      "image/png": "[encoded data removed]",
      "text/plain": [
       "<Figure size 432x288 with 1 Axes>"
      ]
     },
     "metadata": {},
     "output_type": "display_data"
    }
   ],
   "source": [
    "from powerlaw import plot_pdf, Fit, pdf\n",
    "#https://pypi.org/project/powerlaw/\n",
    "#http://nbviewer.jupyter.org/github/jeffalstott/powerlaw/blob/master/manuscript/Manuscript_Code.ipynb\n",
    "#plot_pdf(data, color='b', linewidth=2)\n",
    "#results.power_law.plot_pdf(linestyle=':', color='g')\n",
    "results.power_law.plot_pdf( linestyle='--', color='g', marker='o',markersize=5, linewidth=1,alpha=0.4, label='Power Law')\n",
    "results.exponential.plot_pdf(linestyle='--', color='r', marker='s',markersize=5,linewidth=1,alpha=0.4, label='Exponential')\n",
    "results.plot_pdf(color='b', linewidth=2, label=r'Empirical')\n",
    "plt.legend(frameon=False)\n",
    "plt.xlabel('conversations length')\n",
    "plt.ylabel('p(X)')\n",
    "#plt.savefig('../results/conversations_distribution.eps', format='eps',bbox_inches='tight')"
   ]
  }
 ],
 "metadata": {
  "kernelspec": {
   "display_name": "Python 3",
   "language": "python",
   "name": "python3"
  },
  "language_info": {
   "codemirror_mode": {
    "name": "ipython",
    "version": 3
   },
   "file_extension": ".py",
   "mimetype": "text/x-python",
   "name": "python",
   "nbconvert_exporter": "python",
   "pygments_lexer": "ipython3",
   "version": "3.7.3"
  }
 },
 "nbformat": 4,
 "nbformat_minor": 2
}
