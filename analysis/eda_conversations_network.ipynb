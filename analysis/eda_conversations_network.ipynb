{
 "cells": [
  {
   "cell_type": "markdown",
   "metadata": {},
   "source": [
    "# Exploratory analysis on conversational tweets\n",
    "\n",
    "In this dataset, we extract all the conversations for three popular users\n",
    "\n",
    "- MashiRafael (politics)\n",
    "- aguschmer (sports)\n",
    "\n",
    "- KarlaMoralesR (activism on humanitarian aid)"
   ]
  },
  {
   "cell_type": "code",
   "execution_count": 69,
   "metadata": {},
   "outputs": [],
   "source": [
    "%matplotlib inline\n",
    "import matplotlib.pyplot as plt\n",
    "import pandas as pd\n",
    "from tqdm import tqdm\n",
    "from os import listdir\n",
    "from os.path import isfile, join\n",
    "import os\n",
    "import csv\n",
    "import numpy as np\n",
    "import networkx as nx\n",
    "import numpy as np\n",
    "import json"
   ]
  },
  {
   "cell_type": "code",
   "execution_count": 12,
   "metadata": {
    "scrolled": false
   },
   "outputs": [
    {
     "name": "stdout",
     "output_type": "stream",
     "text": [
      "<class 'pandas.core.frame.DataFrame'>\n",
      "RangeIndex: 520263 entries, 0 to 520262\n",
      "Data columns (total 14 columns):\n",
      "id                       520263 non-null int64\n",
      "screen_name              520263 non-null object\n",
      "latitude                 4063 non-null float64\n",
      "longitude                4063 non-null float64\n",
      "lang                     520263 non-null object\n",
      "in_reply_to_status_id    507354 non-null float64\n",
      "created_at               520263 non-null object\n",
      "text                     520263 non-null object\n",
      "timestamp                520247 non-null datetime64[ns]\n",
      "conversation_id          520263 non-null int64\n",
      "conversation_deep        520263 non-null int64\n",
      "num_replies              520263 non-null int64\n",
      "num_users                520263 non-null int64\n",
      "url                      520263 non-null object\n",
      "dtypes: datetime64[ns](1), float64(3), int64(5), object(5)\n",
      "memory usage: 55.6+ MB\n"
     ]
    }
   ],
   "source": [
    "data_dir='~/data/twconv/twconv_2016_usersec'\n",
    "data_dir=os.path.expanduser(data_dir)\n",
    "fpath = os.path.join(data_dir, 'conversations_large.csv')\n",
    "ds = pd.read_csv(fpath, parse_dates=['timestamp'])\n",
    "ds.info()"
   ]
  },
  {
   "cell_type": "code",
   "execution_count": 13,
   "metadata": {},
   "outputs": [
    {
     "data": {
      "text/plain": [
       "screen_name\n",
       "aguschmer        5257\n",
       "MashiRafael      5060\n",
       "KarlaMoralesR    1768\n",
       "adeljar            11\n",
       "la_abogada_        11\n",
       "dtype: int64"
      ]
     },
     "execution_count": 13,
     "metadata": {},
     "output_type": "execute_result"
    }
   ],
   "source": [
    "conv_users = ds[ds.in_reply_to_status_id.isnull()].groupby('screen_name')\n",
    "conv_users.size().sort_values(ascending=False).head()"
   ]
  },
  {
   "cell_type": "code",
   "execution_count": 14,
   "metadata": {
    "scrolled": true
   },
   "outputs": [
    {
     "name": "stdout",
     "output_type": "stream",
     "text": [
      "652\n"
     ]
    }
   ],
   "source": [
    "print(conv_users.size().shape[0])"
   ]
  },
  {
   "cell_type": "code",
   "execution_count": 15,
   "metadata": {},
   "outputs": [
    {
     "data": {
      "text/html": [
       "<div>\n",
       "<style scoped>\n",
       "    .dataframe tbody tr th:only-of-type {\n",
       "        vertical-align: middle;\n",
       "    }\n",
       "\n",
       "    .dataframe tbody tr th {\n",
       "        vertical-align: top;\n",
       "    }\n",
       "\n",
       "    .dataframe thead th {\n",
       "        text-align: right;\n",
       "    }\n",
       "</style>\n",
       "<table border=\"1\" class=\"dataframe\">\n",
       "  <thead>\n",
       "    <tr style=\"text-align: right;\">\n",
       "      <th></th>\n",
       "      <th>screen_name</th>\n",
       "      <th>num_replies</th>\n",
       "      <th>num_participants</th>\n",
       "    </tr>\n",
       "  </thead>\n",
       "  <tbody>\n",
       "    <tr>\n",
       "      <th>208</th>\n",
       "      <td>MashiRafael</td>\n",
       "      <td>413805</td>\n",
       "      <td>97682</td>\n",
       "    </tr>\n",
       "    <tr>\n",
       "      <th>326</th>\n",
       "      <td>aguschmer</td>\n",
       "      <td>79425</td>\n",
       "      <td>24219</td>\n",
       "    </tr>\n",
       "    <tr>\n",
       "      <th>173</th>\n",
       "      <td>KarlaMoralesR</td>\n",
       "      <td>12355</td>\n",
       "      <td>5290</td>\n",
       "    </tr>\n",
       "    <tr>\n",
       "      <th>36</th>\n",
       "      <td>BatichicaRC</td>\n",
       "      <td>489</td>\n",
       "      <td>207</td>\n",
       "    </tr>\n",
       "    <tr>\n",
       "      <th>579</th>\n",
       "      <td>pametroya</td>\n",
       "      <td>393</td>\n",
       "      <td>157</td>\n",
       "    </tr>\n",
       "  </tbody>\n",
       "</table>\n",
       "</div>"
      ],
      "text/plain": [
       "       screen_name  num_replies  num_participants\n",
       "208    MashiRafael       413805             97682\n",
       "326      aguschmer        79425             24219\n",
       "173  KarlaMoralesR        12355              5290\n",
       "36     BatichicaRC          489               207\n",
       "579      pametroya          393               157"
      ]
     },
     "execution_count": 15,
     "metadata": {},
     "output_type": "execute_result"
    }
   ],
   "source": [
    "participants_by_conv_starter = []\n",
    "pcs = {}\n",
    "\n",
    "for name, group in conv_users:\n",
    "    conv_ids = group.id.values\n",
    "    conv_tweets = ds[ds.conversation_id.isin(conv_ids)]\n",
    "    participants_by_conv_starter.append((name, conv_tweets.shape[0], conv_tweets.screen_name.nunique()))\n",
    "    pcs[name] = set(conv_tweets.screen_name.unique())\n",
    "\n",
    "ds_participants = pd.DataFrame(participants_by_conv_starter, columns=['screen_name','num_replies','num_participants'])\n",
    "ds_participants.sort_values(by='num_replies', ascending=False).head()"
   ]
  },
  {
   "cell_type": "markdown",
   "metadata": {},
   "source": [
    "## users participating on conversations in different domains?"
   ]
  },
  {
   "cell_type": "code",
   "execution_count": 16,
   "metadata": {},
   "outputs": [
    {
     "name": "stdout",
     "output_type": "stream",
     "text": [
      "7699\n",
      "2138\n",
      "1945\n"
     ]
    }
   ],
   "source": [
    "intersect = pcs['MashiRafael'].intersection(pcs['aguschmer'])\n",
    "intersect2 = pcs['MashiRafael'].intersection(pcs['KarlaMoralesR'])\n",
    "intersect3 = pcs['aguschmer'].intersection(pcs['KarlaMoralesR'])\n",
    "print(len(intersect))\n",
    "print(len(intersect2))\n",
    "print(len(intersect3))"
   ]
  },
  {
   "cell_type": "code",
   "execution_count": 17,
   "metadata": {},
   "outputs": [
    {
     "data": {
      "text/plain": [
       "0.09953451436584974"
      ]
     },
     "execution_count": 17,
     "metadata": {},
     "output_type": "execute_result"
    }
   ],
   "source": [
    "(7699+2138+1945) / ds.screen_name.nunique()"
   ]
  },
  {
   "cell_type": "markdown",
   "metadata": {},
   "source": [
    "less than 10% of the total of the users"
   ]
  },
  {
   "cell_type": "code",
   "execution_count": 64,
   "metadata": {},
   "outputs": [],
   "source": [
    "name_list=['MashiRafael','KarlaMoralesR','aguschmer']\n",
    "color_list=['green', 'red', 'blue']\n",
    "nodes_color = []\n",
    "i = 0\n",
    "G = nx.DiGraph()\n",
    "\n",
    "group_id=0\n",
    "for name, color in zip(name_list, color_list):\n",
    "    nodes = list(pcs[name])\n",
    "    sample_nodes=np.random.choice(nodes, int(len(nodes)*0.01),replace=False)\n",
    "    G.add_node(name, group=group_id, text=name, r=8)\n",
    "    for e in sample_nodes:\n",
    "        G.add_node(e, group=group_id, text='', r=3)\n",
    "        G.add_edge(e, name)\n",
    "    group_id+=1\n",
    "        \n",
    "        \n",
    "name_list= []\n",
    "name_list.append(('MashiRafael','aguschmer'))\n",
    "name_list.append(('MashiRafael','KarlaMoralesR'))\n",
    "name_list.append(('aguschmer','KarlaMoralesR'))\n",
    "\n",
    "node_list = []\n",
    "node_list.append(intersect)\n",
    "node_list.append(intersect2)\n",
    "node_list.append(intersect3)\n",
    "intergroup = []\n",
    "\n",
    "for names, nodes_ in zip(name_list, node_list):\n",
    "    nodes = list(nodes_)\n",
    "    sample_nodes = np.random.choice(nodes, int(len(nodes)*0.05), replace=False)\n",
    "\n",
    "    for e in sample_nodes:\n",
    "        G.add_node(e, group=group_id, text='', r=3)\n",
    "        G.add_edge(e, names[0])\n",
    "        G.add_edge(e, names[1])\n",
    "        intergroup.append(e)\n",
    "        \n",
    "for name in ['MashiRafael','KarlaMoralesR','aguschmer']:\n",
    "    G.nodes[name]['r'] = 8"
   ]
  },
  {
   "cell_type": "code",
   "execution_count": 67,
   "metadata": {},
   "outputs": [],
   "source": [
    "nodes = [{'id': k, 'group':att['group'], 'text':att['text'], 'r':att['r']} for k,att in G.nodes(data=True)]\n",
    "links = []\n",
    "for source, target in  G.edges:\n",
    "    links.append({'source':source, 'target':target, 'value':1})\n",
    "rep = {'nodes': nodes, 'links': links}\n",
    "\n",
    "with open('usernetwork.json', 'w') as f:\n",
    "    json.dump(rep, f)    "
   ]
  },
  {
   "cell_type": "code",
   "execution_count": 68,
   "metadata": {},
   "outputs": [
    {
     "data": {
      "text/plain": [
       "{'MashiRafael': 1459, 'aguschmer': 720, 'KarlaMoralesR': 251}"
      ]
     },
     "execution_count": 68,
     "metadata": {},
     "output_type": "execute_result"
    }
   ],
   "source": [
    "ucount={}\n",
    "for source, target in  G.edges:\n",
    "    ucount[target] = 1 if target not in ucount else ucount[target]+1\n",
    "ucount"
   ]
  },
  {
   "cell_type": "code",
   "execution_count": 44,
   "metadata": {},
   "outputs": [
    {
     "data": {
      "text/plain": [
       "{'MashiRafael': Text(-0.4379064738750458, -0.14499527215957642, 'MashiRafael'),\n",
       " 'KarlaMoralesR': Text(-0.14877204596996307, 0.7309276461601257, 'KarlaMoralesR'),\n",
       " 'aguschmer': Text(0.9550588726997375, 0.013561973348259926, 'aguschmer')}"
      ]
     },
     "execution_count": 44,
     "metadata": {},
     "output_type": "execute_result"
    },
    {
     "data": {
      "image/png": "[encoded data removed]",
      "text/plain": [
       "<Figure size 504x504 with 1 Axes>"
      ]
     },
     "metadata": {},
     "output_type": "display_data"
    }
   ],
   "source": [
    "plt.figure\n",
    "fig, ax = plt.subplots(figsize=(7,7))\n",
    "ax.axis('off')\n",
    "pos = nx.spring_layout(G,k=0.10 , iterations=50)  #so^>v<dph8 ,k=0.10,iterations=50\n",
    "group = list(G.predecessors('MashiRafael'))\n",
    "nx.draw_networkx_nodes(G,pos=pos, with_labels=False,node_size=5, ax=ax, nodelist=group, node_color='green', node_shape='^')\n",
    "group = list(G.predecessors('aguschmer'))\n",
    "nx.draw_networkx_nodes(G,pos=pos, with_labels=False,node_size=5, ax=ax, nodelist=group, node_color='blue', node_shape='s')\n",
    "group = list(G.predecessors('KarlaMoralesR'))\n",
    "nx.draw_networkx_nodes(G,pos=pos, with_labels=False,node_size=5, ax=ax, nodelist=group, node_color='red', node_shape='o')\n",
    "\n",
    "nx.draw_networkx_nodes(G,pos=pos, with_labels=False,node_size=5, ax=ax, nodelist=intergroup, node_color='grey', node_shape='8')\n",
    "\n",
    "group=['MashiRafael','KarlaMoralesR','aguschmer']\n",
    "labels = {name:name for name in group}\n",
    "nx.draw_networkx_labels(G,pos,labels,font_size=14,font_color='black')"
   ]
  }
 ],
 "metadata": {
  "kernelspec": {
   "display_name": "Python 3",
   "language": "python",
   "name": "python3"
  },
  "language_info": {
   "codemirror_mode": {
    "name": "ipython",
    "version": 3
   },
   "file_extension": ".py",
   "mimetype": "text/x-python",
   "name": "python",
   "nbconvert_exporter": "python",
   "pygments_lexer": "ipython3",
   "version": "3.7.3"
  }
 },
 "nbformat": 4,
 "nbformat_minor": 2
}
