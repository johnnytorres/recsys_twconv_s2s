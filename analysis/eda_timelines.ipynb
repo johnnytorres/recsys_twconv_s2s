{
 "cells": [
  {
   "cell_type": "markdown",
   "metadata": {},
   "source": [
    "# # Exploratory analysis on timelines tweets\n",
    "\n",
    "In this dataset, we extract the timelines (last 200 tweets) for all users interacting with the three popular users\n",
    "\n",
    "- MashiRafael (politics)\n",
    "- aguschmer (sports)\n",
    "- KarlaMoralesR (activism on humanitarian aid)"
   ]
  },
  {
   "cell_type": "code",
   "execution_count": 8,
   "metadata": {},
   "outputs": [],
   "source": [
    "%matplotlib inline\n",
    "import matplotlib.pyplot as plt\n",
    "import pandas as pd\n",
    "import numpy as np\n",
    "import csv\n",
    "from tqdm import tqdm"
   ]
  },
  {
   "cell_type": "code",
   "execution_count": 24,
   "metadata": {},
   "outputs": [
    {
     "name": "stderr",
     "output_type": "stream",
     "text": [
      "100%|█████████▉| 14860508/14860509 [08:49<00:00, 28053.28it/s]\n"
     ]
    }
   ],
   "source": [
    "pusers = {}\n",
    "pwords = {}\n",
    "timelines = {}\n",
    "\n",
    "n_tweets = 0\n",
    "descriptions = {}\n",
    "\n",
    "with open('../data/convusersec/timelines_raw.csv', 'r') as f:\n",
    "    reader = csv.DictReader(f)\n",
    "    next(reader)\n",
    "    prior_screen_name = ''\n",
    "    description = ''\n",
    "    tweets = []\n",
    "    \n",
    "    for i, row in tqdm(enumerate(reader), total=profiles.shape[0]):\n",
    "        \n",
    "        username = row['screen_name']\n",
    "        pusers[username] = 1 if username not in pusers else pusers[username] + 1\n",
    "        \n",
    "        if prior_screen_name != username:\n",
    "            timeline = ' '.join(tweets)\n",
    "            wlist = timeline.split()\n",
    "            \n",
    "            for t in wlist:\n",
    "                pwords[t] = 1\n",
    "            \n",
    "            timelines[prior_screen_name] = len(wlist)\n",
    "            prior_screen_name = username\n",
    "            tweets =[]\n",
    "\n",
    "            if len(description) > 0:\n",
    "                descriptions[prior_screen_name] = len(description.split())\n",
    "        \n",
    "        tweet = row['text']          \n",
    "        description = row['description']\n",
    "        tweets.append(tweet)\n",
    "        \n",
    "        \n",
    "n_tweets = i + 1"
   ]
  },
  {
   "cell_type": "code",
   "execution_count": 42,
   "metadata": {},
   "outputs": [],
   "source": [
    "del timelines['']\n",
    "tl_words = np.array(list(timelines.values()))\n",
    "tl_tweets = np.array(list(pusers.values()))"
   ]
  },
  {
   "cell_type": "code",
   "execution_count": 46,
   "metadata": {},
   "outputs": [
    {
     "data": {
      "text/html": [
       "<div>\n",
       "<style scoped>\n",
       "    .dataframe tbody tr th:only-of-type {\n",
       "        vertical-align: middle;\n",
       "    }\n",
       "\n",
       "    .dataframe tbody tr th {\n",
       "        vertical-align: top;\n",
       "    }\n",
       "\n",
       "    .dataframe thead th {\n",
       "        text-align: right;\n",
       "    }\n",
       "</style>\n",
       "<table border=\"1\" class=\"dataframe\">\n",
       "  <thead>\n",
       "    <tr style=\"text-align: right;\">\n",
       "      <th></th>\n",
       "      <th>stat</th>\n",
       "      <th>value</th>\n",
       "    </tr>\n",
       "  </thead>\n",
       "  <tbody>\n",
       "    <tr>\n",
       "      <th>0</th>\n",
       "      <td>users</td>\n",
       "      <td>120220</td>\n",
       "    </tr>\n",
       "    <tr>\n",
       "      <th>1</th>\n",
       "      <td>desc</td>\n",
       "      <td>71142</td>\n",
       "    </tr>\n",
       "    <tr>\n",
       "      <th>2</th>\n",
       "      <td>tweets</td>\n",
       "      <td>14860508</td>\n",
       "    </tr>\n",
       "    <tr>\n",
       "      <th>3</th>\n",
       "      <td>words</td>\n",
       "      <td>13607961</td>\n",
       "    </tr>\n",
       "    <tr>\n",
       "      <th>4</th>\n",
       "      <td>min tweets</td>\n",
       "      <td>1</td>\n",
       "    </tr>\n",
       "    <tr>\n",
       "      <th>5</th>\n",
       "      <td>avg tweets</td>\n",
       "      <td>123.611</td>\n",
       "    </tr>\n",
       "    <tr>\n",
       "      <th>6</th>\n",
       "      <td>max tweets</td>\n",
       "      <td>39436</td>\n",
       "    </tr>\n",
       "    <tr>\n",
       "      <th>7</th>\n",
       "      <td>median tweet</td>\n",
       "      <td>74</td>\n",
       "    </tr>\n",
       "    <tr>\n",
       "      <th>8</th>\n",
       "      <td>min words</td>\n",
       "      <td>1</td>\n",
       "    </tr>\n",
       "    <tr>\n",
       "      <th>9</th>\n",
       "      <td>avg words</td>\n",
       "      <td>1571.77</td>\n",
       "    </tr>\n",
       "    <tr>\n",
       "      <th>10</th>\n",
       "      <td>max words</td>\n",
       "      <td>652282</td>\n",
       "    </tr>\n",
       "    <tr>\n",
       "      <th>11</th>\n",
       "      <td>median words</td>\n",
       "      <td>834</td>\n",
       "    </tr>\n",
       "  </tbody>\n",
       "</table>\n",
       "</div>"
      ],
      "text/plain": [
       "            stat     value\n",
       "0          users    120220\n",
       "1           desc     71142\n",
       "2         tweets  14860508\n",
       "3          words  13607961\n",
       "4     min tweets         1\n",
       "5     avg tweets   123.611\n",
       "6     max tweets     39436\n",
       "7   median tweet        74\n",
       "8      min words         1\n",
       "9      avg words   1571.77\n",
       "10     max words    652282\n",
       "11  median words       834"
      ]
     },
     "execution_count": 46,
     "metadata": {},
     "output_type": "execute_result"
    }
   ],
   "source": [
    "stats =[]\n",
    "stats.append( ['users', len(pusers)] )\n",
    "stats.append( ['desc', len(descriptions)] )\n",
    "stats.append( ['tweets', n_tweets] )\n",
    "stats.append( ['words', len(pwords)] )\n",
    "\n",
    "stats.append( ['min tweets', tl_tweets.min()] )\n",
    "stats.append( ['avg tweets', tl_tweets.mean()] )\n",
    "stats.append( ['max tweets', tl_tweets.max()] )\n",
    "stats.append( ['median tweet', np.median(tl_tweets)] )\n",
    "\n",
    "\n",
    "stats.append( ['min words', tl_words.min()] )\n",
    "stats.append( ['avg words', tl_words.mean()] )\n",
    "stats.append( ['max words', tl_words.max()] )\n",
    "stats.append( ['median words', np.median(tl_words)] )\n",
    "\n",
    "stats_df = pd.DataFrame(stats, columns=['stat', 'value'], dtype=object)\n",
    "stats_df"
   ]
  },
  {
   "cell_type": "code",
   "execution_count": 47,
   "metadata": {},
   "outputs": [],
   "source": [
    "stats_df.to_csv('../results/ds_stats_timelines.csv', index=False)"
   ]
  },
  {
   "cell_type": "markdown",
   "metadata": {},
   "source": [
    "## who are those outliers??"
   ]
  },
  {
   "cell_type": "code",
   "execution_count": 44,
   "metadata": {},
   "outputs": [
    {
     "name": "stdout",
     "output_type": "stream",
     "text": [
      "eluniversocom 31637\n",
      "trendinaliaEC 39436\n"
     ]
    }
   ],
   "source": [
    "for k,v in pusers.items():\n",
    "    if v > 30000:\n",
    "        print(k, v)"
   ]
  },
  {
   "cell_type": "code",
   "execution_count": null,
   "metadata": {},
   "outputs": [],
   "source": []
  }
 ],
 "metadata": {
  "kernelspec": {
   "display_name": "Python 3",
   "language": "python",
   "name": "python3"
  },
  "language_info": {
   "codemirror_mode": {
    "name": "ipython",
    "version": 3
   },
   "file_extension": ".py",
   "mimetype": "text/x-python",
   "name": "python",
   "nbconvert_exporter": "python",
   "pygments_lexer": "ipython3",
   "version": "3.6.5"
  }
 },
 "nbformat": 4,
 "nbformat_minor": 2
}
