{
 "cells": [
  {
   "cell_type": "code",
   "execution_count": 1,
   "metadata": {},
   "outputs": [],
   "source": [
    "%matplotlib inline\n",
    "import matplotlib.pyplot as plt\n",
    "#import seaborn as sns\n",
    "import pandas as pd\n",
    "import numpy as np\n",
    "import os"
   ]
  },
  {
   "cell_type": "markdown",
   "metadata": {},
   "source": [
    "# original dataset"
   ]
  },
  {
   "cell_type": "code",
   "execution_count": 11,
   "metadata": {},
   "outputs": [],
   "source": [
    "data_dir= '~/data/twconv/twconv_2011_trec'\n",
    "data_dir=os.path.expanduser(data_dir)"
   ]
  },
  {
   "cell_type": "code",
   "execution_count": 13,
   "metadata": {
    "scrolled": true
   },
   "outputs": [
    {
     "data": {
      "text/plain": [
       "(40490, 6)"
      ]
     },
     "execution_count": 13,
     "metadata": {},
     "output_type": "execute_result"
    }
   ],
   "source": [
    "cols = ['conv_id' , 'id', 'reply_to_id', 'raw_text','text','user_id']\n",
    "path = os.path.join(data_dir, 'twconv_2011_trec.data')\n",
    "ds = pd.read_csv(path, sep='\\t', header=None, names=cols, dtype=object)\n",
    "ds.shape"
   ]
  },
  {
   "cell_type": "markdown",
   "metadata": {},
   "source": [
    "lets check the number of tweets"
   ]
  },
  {
   "cell_type": "code",
   "execution_count": 14,
   "metadata": {},
   "outputs": [
    {
     "data": {
      "text/plain": [
       "(38999, 7811, 10123)"
      ]
     },
     "execution_count": 14,
     "metadata": {},
     "output_type": "execute_result"
    }
   ],
   "source": [
    "ds.id.nunique(), ds.conv_id.nunique(), ds.user_id.nunique()"
   ]
  },
  {
   "cell_type": "markdown",
   "metadata": {},
   "source": [
    "# preprocessing"
   ]
  },
  {
   "cell_type": "code",
   "execution_count": 7,
   "metadata": {},
   "outputs": [
    {
     "data": {
      "text/plain": [
       "(22062, 8)"
      ]
     },
     "execution_count": 7,
     "metadata": {},
     "output_type": "execute_result"
    }
   ],
   "source": [
    "path = os.path.join(data_dir, 'conversations.csv')\n",
    "ds = pd.read_csv(path, dtype=object)\n",
    "ds.shape"
   ]
  },
  {
   "cell_type": "markdown",
   "metadata": {},
   "source": [
    "number of conversations after filtering missing tweets, some tweets have been deleted or not available due the user goes protected"
   ]
  },
  {
   "cell_type": "code",
   "execution_count": 8,
   "metadata": {},
   "outputs": [
    {
     "data": {
      "text/plain": [
       "2012"
      ]
     },
     "execution_count": 8,
     "metadata": {},
     "output_type": "execute_result"
    }
   ],
   "source": [
    "ds.conversation_id.nunique()"
   ]
  },
  {
   "cell_type": "code",
   "execution_count": 9,
   "metadata": {},
   "outputs": [
    {
     "data": {
      "image/png": "[encoded data removed]",
      "text/plain": [
       "<Figure size 432x288 with 1 Axes>"
      ]
     },
     "metadata": {
      "needs_background": "light"
     },
     "output_type": "display_data"
    }
   ],
   "source": [
    "ds.groupby('conversation_id').size().plot.hist(bins=50)\n",
    "plt.yscale('log')"
   ]
  },
  {
   "cell_type": "markdown",
   "metadata": {},
   "source": [
    "also it's important to know the period in which the tweets were posted to know if there is a bias to certain users/events"
   ]
  },
  {
   "cell_type": "code",
   "execution_count": 10,
   "metadata": {},
   "outputs": [
    {
     "data": {
      "image/png": "[encoded data removed]",
      "text/plain": [
       "<Figure size 432x288 with 1 Axes>"
      ]
     },
     "metadata": {
      "needs_background": "light"
     },
     "output_type": "display_data"
    }
   ],
   "source": [
    "ds.groupby('user_id').size().plot.hist(bins=50)\n",
    "plt.yscale('log')"
   ]
  },
  {
   "cell_type": "markdown",
   "metadata": {},
   "source": [
    "# stagging\n",
    "\n",
    "the evaluation must be focus on users with more than one tweets, so we have at least one tweet that indicates its  preferences\n",
    "\n",
    "next, we need to define the hyperparams for the length of the context and the profiles, this is based on the number of words.  we should base on the tokenized splits"
   ]
  },
  {
   "cell_type": "code",
   "execution_count": 4,
   "metadata": {},
   "outputs": [],
   "source": [
    "data_dir= '~/data/twconv/trec/staggingdata'"
   ]
  },
  {
   "cell_type": "code",
   "execution_count": 5,
   "metadata": {},
   "outputs": [
    {
     "data": {
      "text/plain": [
       "(14574, 3)"
      ]
     },
     "execution_count": 5,
     "metadata": {},
     "output_type": "execute_result"
    }
   ],
   "source": [
    "path = os.path.join(data_dir, 'train.csv')\n",
    "ds = pd.read_csv(path, dtype=object)\n",
    "ds.shape"
   ]
  },
  {
   "cell_type": "code",
   "execution_count": 6,
   "metadata": {},
   "outputs": [],
   "source": [
    "ds['context_nw'] = ds.context.apply(lambda x: len(x.split()))"
   ]
  },
  {
   "cell_type": "code",
   "execution_count": 7,
   "metadata": {},
   "outputs": [
    {
     "data": {
      "text/plain": [
       "Text(0, 0.5, 'log')"
      ]
     },
     "execution_count": 7,
     "metadata": {},
     "output_type": "execute_result"
    },
    {
     "data": {
      "image/png": "[encoded data removed]",
      "text/plain": [
       "<Figure size 432x288 with 1 Axes>"
      ]
     },
     "metadata": {
      "needs_background": "light"
     },
     "output_type": "display_data"
    }
   ],
   "source": [
    "ds.context_nw.plot.hist(bins=50)\n",
    "plt.ylabel('log')"
   ]
  },
  {
   "cell_type": "markdown",
   "metadata": {},
   "source": [
    "since there are some very long context (outliers) we need to take a percentil"
   ]
  },
  {
   "cell_type": "code",
   "execution_count": 8,
   "metadata": {},
   "outputs": [
    {
     "data": {
      "text/plain": [
       "187.0"
      ]
     },
     "execution_count": 8,
     "metadata": {},
     "output_type": "execute_result"
    }
   ],
   "source": [
    "np.percentile(ds.context_nw, 70)"
   ]
  },
  {
   "cell_type": "markdown",
   "metadata": {},
   "source": [
    "it seems for context the length could be 75% ~ 194\n",
    "\n",
    "lets check for profiles"
   ]
  },
  {
   "cell_type": "code",
   "execution_count": 9,
   "metadata": {},
   "outputs": [],
   "source": [
    "ds['profile_nw'] = ds.profile.apply(lambda x: len(x.split()))"
   ]
  },
  {
   "cell_type": "code",
   "execution_count": 10,
   "metadata": {},
   "outputs": [
    {
     "data": {
      "text/plain": [
       "<matplotlib.axes._subplots.AxesSubplot at 0x1297bceb8>"
      ]
     },
     "execution_count": 10,
     "metadata": {},
     "output_type": "execute_result"
    },
    {
     "data": {
      "image/png": "[encoded data removed]",
      "text/plain": [
       "<Figure size 432x288 with 1 Axes>"
      ]
     },
     "metadata": {
      "needs_background": "light"
     },
     "output_type": "display_data"
    }
   ],
   "source": [
    "# Plot a kernel density estimate and rug plot\n",
    "sns.despine(left=True)\n",
    "sns.distplot(ds[ds.flag=='0'].profile_nw, hist=False, kde_kws={\"shade\": True} , color=\"r\")\n",
    "sns.distplot(ds[ds.flag=='1'].profile_nw, hist=False, kde_kws={\"shade\": True} , color=\"g\")\n",
    "#plt.yscale('log')"
   ]
  },
  {
   "cell_type": "code",
   "execution_count": 11,
   "metadata": {},
   "outputs": [
    {
     "data": {
      "image/png": "[encoded data removed]",
      "text/plain": [
       "<Figure size 432x288 with 1 Axes>"
      ]
     },
     "metadata": {
      "needs_background": "light"
     },
     "output_type": "display_data"
    }
   ],
   "source": [
    "#ds.profile_nw.plot.hist(bins=50, alpha=0.3, color='b')\n",
    "ds[ds.flag=='0'].profile_nw.plot.hist(bins=50, alpha=0.3, color='g', )\n",
    "ds[ds.flag=='1'].profile_nw.plot.hist(bins=50, alpha=0.8, color='r', histtype='step')\n",
    "plt.yscale('log')"
   ]
  },
  {
   "cell_type": "markdown",
   "metadata": {},
   "source": [
    "# the same: since there are some very long profiles (outliers) we need to take a percentil"
   ]
  },
  {
   "cell_type": "code",
   "execution_count": 12,
   "metadata": {},
   "outputs": [
    {
     "data": {
      "text/plain": [
       "67.0"
      ]
     },
     "execution_count": 12,
     "metadata": {},
     "output_type": "execute_result"
    }
   ],
   "source": [
    "np.percentile(ds.profile_nw, 70)"
   ]
  },
  {
   "cell_type": "code",
   "execution_count": 13,
   "metadata": {},
   "outputs": [
    {
     "data": {
      "text/plain": [
       "127.0"
      ]
     },
     "execution_count": 13,
     "metadata": {},
     "output_type": "execute_result"
    }
   ],
   "source": [
    "(np.percentile(ds.context_nw, 70) + np.percentile(ds.profile_nw, 70)) / 2"
   ]
  },
  {
   "cell_type": "markdown",
   "metadata": {},
   "source": [
    "lets look at the distribution of distractors"
   ]
  },
  {
   "cell_type": "code",
   "execution_count": 14,
   "metadata": {},
   "outputs": [
    {
     "data": {
      "text/plain": [
       "(1334, 11)"
      ]
     },
     "execution_count": 14,
     "metadata": {},
     "output_type": "execute_result"
    }
   ],
   "source": [
    "path = os.path.join(data_dir, 'valid.csv')\n",
    "ds = pd.read_csv(path, dtype=object)\n",
    "ds.shape"
   ]
  },
  {
   "cell_type": "code",
   "execution_count": 15,
   "metadata": {},
   "outputs": [],
   "source": [
    "ds.fillna('', inplace=True)"
   ]
  },
  {
   "cell_type": "code",
   "execution_count": 16,
   "metadata": {},
   "outputs": [],
   "source": [
    "ds[f'profile_nw'] = ds['profile'].apply(lambda x: len(x.split()))"
   ]
  },
  {
   "cell_type": "code",
   "execution_count": 17,
   "metadata": {},
   "outputs": [
    {
     "name": "stdout",
     "output_type": "stream",
     "text": [
      "distractor0\n",
      "distractor1\n",
      "distractor2\n",
      "distractor3\n",
      "distractor4\n",
      "distractor5\n",
      "distractor6\n",
      "distractor7\n",
      "distractor8\n"
     ]
    }
   ],
   "source": [
    "for i in range(9):\n",
    "    ds[f'distractor_nw{i}'] = ds[f'distractor{i}'].apply(lambda x: len(x.split()))\n",
    "    print(f'distractor{i}')"
   ]
  },
  {
   "cell_type": "code",
   "execution_count": 18,
   "metadata": {
    "scrolled": true
   },
   "outputs": [
    {
     "data": {
      "image/png": "[encoded data removed]",
      "text/plain": [
       "<Figure size 432x288 with 1 Axes>"
      ]
     },
     "metadata": {
      "needs_background": "light"
     },
     "output_type": "display_data"
    }
   ],
   "source": [
    "ds.profile_nw.plot.hist(bins=50, alpha=0.3, color='g' )\n",
    "for i in range(9):\n",
    "    ds[f'distractor_nw{i}'].plot.hist(bins=50, alpha=0.8, histtype='step')\n",
    "plt.yscale('log')"
   ]
  },
  {
   "cell_type": "markdown",
   "metadata": {},
   "source": [
    "# dataset complete"
   ]
  },
  {
   "cell_type": "code",
   "execution_count": 1,
   "metadata": {},
   "outputs": [
    {
     "name": "stdout",
     "output_type": "stream",
     "text": [
      "0\t5621079719\tnull\ti stink at math! ughhh.\ti stink at math ! ughhh .\t27260086\r\n",
      "0\t34089140559544320\t5621079719\t@justinbieber don't worry we all do :) follow me\tMENTION don't worry we all do EMOTICON :) follow me\t25768156\r\n",
      "1\t5911874749\tnull\tOmg Vampire Diaries this week!?!? Who saw it???? SO hott!!!!!!!!!! I'm watching the makeout scene over and over!!!!\tomg vampire diaries this week !?!? who saw it ???? so hott !!!!!!!!!! i'm watching the makeout scene over and over !!!!\t50515656\r\n",
      "1\t31744611152039936\t5911874749\t@msleamichele haha I luv tht show....addicting\tMENTION haha i luv tht show .... addicting\t239214198\r\n",
      "2\t6496465397\tnull\tHi guys we are finally on Twitter how are you all? We just want to thank everyone for all the amazing support we have received during XF\thi guys we are finally on twitter how are you all ? we just want to thank everyone for all the amazing support we have received during xf\t95461802\r\n",
      "2\t31777629853974528\t6496465397\t@planetjedward LOVE YOU GUYS DM ME GO ON U NO U WANT TO :) XXX\tMENTION love you guys dm me go on u no u want to EMOTICON :) EMOTICON xxx\t193241270\r\n",
      "3\t7135277765\tnull\t#itsabieberthing when you have the greatest fans in the world...  thank u\tHASHTAG when you have the greatest fans in the world ... thank u\t27260086\r\n",
      "3\t30411942304681984\t7135277765\t@justinbieber #itsabelieberthing when u have the most amazing idol:))\tMENTION HASHTAG when u have the most amazing idol EMOTICON :))\t171632788\r\n",
      "4\t7846373124\tnull\tapplied for xfactor,hope it all wrks out\tapplied for xfactor , hope it all wrks out\t105119490\r\n",
      "4\t33601875081170944\t7846373124\t@NiallOfficial hey follow me\tMENTION hey follow me\t84466156\r\n"
     ]
    }
   ],
   "source": [
    "!head ~/data/microblog_conversation/tweets_TREC.data\n"
   ]
  },
  {
   "cell_type": "code",
   "execution_count": 28,
   "metadata": {},
   "outputs": [
    {
     "data": {
      "text/plain": [
       "(38999, 6)"
      ]
     },
     "execution_count": 28,
     "metadata": {},
     "output_type": "execute_result"
    }
   ],
   "source": [
    "cols = ['conversation_id' , 'id', 'in_reply_to_status_id', 'rawtext', 'text', 'user_id']\n",
    "path = os.path.join(data_dir, 'tweets_TREC.data')\n",
    "ds = pd.read_csv(path, sep='\\t', header=None, names=cols, dtype=object)\n",
    "ds.shape"
   ]
  },
  {
   "cell_type": "code",
   "execution_count": 29,
   "metadata": {},
   "outputs": [
    {
     "data": {
      "text/html": [
       "<div>\n",
       "<style scoped>\n",
       "    .dataframe tbody tr th:only-of-type {\n",
       "        vertical-align: middle;\n",
       "    }\n",
       "\n",
       "    .dataframe tbody tr th {\n",
       "        vertical-align: top;\n",
       "    }\n",
       "\n",
       "    .dataframe thead th {\n",
       "        text-align: right;\n",
       "    }\n",
       "</style>\n",
       "<table border=\"1\" class=\"dataframe\">\n",
       "  <thead>\n",
       "    <tr style=\"text-align: right;\">\n",
       "      <th></th>\n",
       "      <th>conversation_id</th>\n",
       "      <th>id</th>\n",
       "      <th>in_reply_to_status_id</th>\n",
       "      <th>rawtext</th>\n",
       "      <th>text</th>\n",
       "      <th>user_id</th>\n",
       "    </tr>\n",
       "  </thead>\n",
       "  <tbody>\n",
       "    <tr>\n",
       "      <th>0</th>\n",
       "      <td>0</td>\n",
       "      <td>5621079719</td>\n",
       "      <td>NaN</td>\n",
       "      <td>i stink at math! ughhh.</td>\n",
       "      <td>i stink at math ! ughhh .</td>\n",
       "      <td>27260086</td>\n",
       "    </tr>\n",
       "    <tr>\n",
       "      <th>1</th>\n",
       "      <td>0</td>\n",
       "      <td>34089140559544320</td>\n",
       "      <td>5621079719</td>\n",
       "      <td>@justinbieber don't worry we all do :) follow me</td>\n",
       "      <td>MENTION don't worry we all do EMOTICON :) foll...</td>\n",
       "      <td>25768156</td>\n",
       "    </tr>\n",
       "    <tr>\n",
       "      <th>2</th>\n",
       "      <td>1</td>\n",
       "      <td>5911874749</td>\n",
       "      <td>NaN</td>\n",
       "      <td>Omg Vampire Diaries this week!?!? Who saw it??...</td>\n",
       "      <td>omg vampire diaries this week !?!? who saw it ...</td>\n",
       "      <td>50515656</td>\n",
       "    </tr>\n",
       "    <tr>\n",
       "      <th>3</th>\n",
       "      <td>1</td>\n",
       "      <td>31744611152039936</td>\n",
       "      <td>5911874749</td>\n",
       "      <td>@msleamichele haha I luv tht show....addicting</td>\n",
       "      <td>MENTION haha i luv tht show .... addicting</td>\n",
       "      <td>239214198</td>\n",
       "    </tr>\n",
       "    <tr>\n",
       "      <th>4</th>\n",
       "      <td>2</td>\n",
       "      <td>6496465397</td>\n",
       "      <td>NaN</td>\n",
       "      <td>Hi guys we are finally on Twitter how are you ...</td>\n",
       "      <td>hi guys we are finally on twitter how are you ...</td>\n",
       "      <td>95461802</td>\n",
       "    </tr>\n",
       "  </tbody>\n",
       "</table>\n",
       "</div>"
      ],
      "text/plain": [
       "  conversation_id                 id in_reply_to_status_id  \\\n",
       "0               0         5621079719                   NaN   \n",
       "1               0  34089140559544320            5621079719   \n",
       "2               1         5911874749                   NaN   \n",
       "3               1  31744611152039936            5911874749   \n",
       "4               2         6496465397                   NaN   \n",
       "\n",
       "                                             rawtext  \\\n",
       "0                            i stink at math! ughhh.   \n",
       "1   @justinbieber don't worry we all do :) follow me   \n",
       "2  Omg Vampire Diaries this week!?!? Who saw it??...   \n",
       "3     @msleamichele haha I luv tht show....addicting   \n",
       "4  Hi guys we are finally on Twitter how are you ...   \n",
       "\n",
       "                                                text    user_id  \n",
       "0                          i stink at math ! ughhh .   27260086  \n",
       "1  MENTION don't worry we all do EMOTICON :) foll...   25768156  \n",
       "2  omg vampire diaries this week !?!? who saw it ...   50515656  \n",
       "3         MENTION haha i luv tht show .... addicting  239214198  \n",
       "4  hi guys we are finally on twitter how are you ...   95461802  "
      ]
     },
     "execution_count": 29,
     "metadata": {},
     "output_type": "execute_result"
    }
   ],
   "source": [
    "ds.head()\n"
   ]
  },
  {
   "cell_type": "code",
   "execution_count": 30,
   "metadata": {},
   "outputs": [
    {
     "data": {
      "text/plain": [
       "7500"
      ]
     },
     "execution_count": 30,
     "metadata": {},
     "output_type": "execute_result"
    }
   ],
   "source": [
    "ds.conversation_id.nunique()"
   ]
  },
  {
   "cell_type": "code",
   "execution_count": 54,
   "metadata": {},
   "outputs": [
    {
     "data": {
      "text/plain": [
       "(38999, 8)"
      ]
     },
     "execution_count": 54,
     "metadata": {},
     "output_type": "execute_result"
    }
   ],
   "source": [
    "data_dir= '~/data/microblog_conversation/trec'\n",
    "path = os.path.join(data_dir, 'conversations.csv')\n",
    "ds = pd.read_csv(path,dtype=object)\n",
    "ds.shape"
   ]
  },
  {
   "cell_type": "code",
   "execution_count": 55,
   "metadata": {},
   "outputs": [
    {
     "data": {
      "text/plain": [
       "7500"
      ]
     },
     "execution_count": 55,
     "metadata": {},
     "output_type": "execute_result"
    }
   ],
   "source": [
    "ds.conversation_id.nunique()\n"
   ]
  },
  {
   "cell_type": "code",
   "execution_count": 57,
   "metadata": {},
   "outputs": [
    {
     "data": {
      "text/plain": [
       "(40490, 10)"
      ]
     },
     "execution_count": 57,
     "metadata": {},
     "output_type": "execute_result"
    }
   ],
   "source": [
    "path = os.path.join(data_dir, 'dialogs.csv')\n",
    "ds = pd.read_csv(path, dtype=object)\n",
    "ds.shape"
   ]
  },
  {
   "cell_type": "code",
   "execution_count": 59,
   "metadata": {},
   "outputs": [
    {
     "data": {
      "text/html": [
       "<div>\n",
       "<style scoped>\n",
       "    .dataframe tbody tr th:only-of-type {\n",
       "        vertical-align: middle;\n",
       "    }\n",
       "\n",
       "    .dataframe tbody tr th {\n",
       "        vertical-align: top;\n",
       "    }\n",
       "\n",
       "    .dataframe thead th {\n",
       "        text-align: right;\n",
       "    }\n",
       "</style>\n",
       "<table border=\"1\" class=\"dataframe\">\n",
       "  <thead>\n",
       "    <tr style=\"text-align: right;\">\n",
       "      <th></th>\n",
       "      <th>id</th>\n",
       "      <th>in_reply_to_status_id</th>\n",
       "      <th>text</th>\n",
       "      <th>user_id</th>\n",
       "      <th>conversation_id</th>\n",
       "      <th>conversation_deep</th>\n",
       "      <th>num_replies</th>\n",
       "      <th>num_users</th>\n",
       "      <th>dialog_id</th>\n",
       "      <th>turns</th>\n",
       "    </tr>\n",
       "  </thead>\n",
       "  <tbody>\n",
       "    <tr>\n",
       "      <th>0</th>\n",
       "      <td>10093975476</td>\n",
       "      <td>NaN</td>\n",
       "      <td>first line correction : moon shine on the bayo...</td>\n",
       "      <td>46576295</td>\n",
       "      <td>10093975476</td>\n",
       "      <td>1</td>\n",
       "      <td>2</td>\n",
       "      <td>2</td>\n",
       "      <td>31753376664522752</td>\n",
       "      <td>2</td>\n",
       "    </tr>\n",
       "    <tr>\n",
       "      <th>1</th>\n",
       "      <td>31753376664522752</td>\n",
       "      <td>10093975476</td>\n",
       "      <td>MENTION was ur bday as special as it seemed to...</td>\n",
       "      <td>51765231</td>\n",
       "      <td>10093975476</td>\n",
       "      <td>2</td>\n",
       "      <td>2</td>\n",
       "      <td>2</td>\n",
       "      <td>31753376664522752</td>\n",
       "      <td>2</td>\n",
       "    </tr>\n",
       "    <tr>\n",
       "      <th>2</th>\n",
       "      <td>10180145361</td>\n",
       "      <td>NaN</td>\n",
       "      <td>i used to get nightmares watching scooby doo ....</td>\n",
       "      <td>27260086</td>\n",
       "      <td>10180145361</td>\n",
       "      <td>1</td>\n",
       "      <td>2</td>\n",
       "      <td>2</td>\n",
       "      <td>30115565162995712</td>\n",
       "      <td>2</td>\n",
       "    </tr>\n",
       "    <tr>\n",
       "      <th>3</th>\n",
       "      <td>30115565162995712</td>\n",
       "      <td>10180145361</td>\n",
       "      <td>MENTION thiss was tweeted on maah b-day EMOTIC...</td>\n",
       "      <td>211996193</td>\n",
       "      <td>10180145361</td>\n",
       "      <td>2</td>\n",
       "      <td>2</td>\n",
       "      <td>2</td>\n",
       "      <td>30115565162995712</td>\n",
       "      <td>2</td>\n",
       "    </tr>\n",
       "    <tr>\n",
       "      <th>4</th>\n",
       "      <td>10329367913701377</td>\n",
       "      <td>NaN</td>\n",
       "      <td>stuck on a plane at manc airport ... going no ...</td>\n",
       "      <td>90896009</td>\n",
       "      <td>10329367913701377</td>\n",
       "      <td>1</td>\n",
       "      <td>2</td>\n",
       "      <td>2</td>\n",
       "      <td>31521342494871552</td>\n",
       "      <td>2</td>\n",
       "    </tr>\n",
       "  </tbody>\n",
       "</table>\n",
       "</div>"
      ],
      "text/plain": [
       "                  id in_reply_to_status_id  \\\n",
       "0        10093975476                   NaN   \n",
       "1  31753376664522752           10093975476   \n",
       "2        10180145361                   NaN   \n",
       "3  30115565162995712           10180145361   \n",
       "4  10329367913701377                   NaN   \n",
       "\n",
       "                                                text    user_id  \\\n",
       "0  first line correction : moon shine on the bayo...   46576295   \n",
       "1  MENTION was ur bday as special as it seemed to...   51765231   \n",
       "2  i used to get nightmares watching scooby doo ....   27260086   \n",
       "3  MENTION thiss was tweeted on maah b-day EMOTIC...  211996193   \n",
       "4  stuck on a plane at manc airport ... going no ...   90896009   \n",
       "\n",
       "     conversation_id conversation_deep num_replies num_users  \\\n",
       "0        10093975476                 1           2         2   \n",
       "1        10093975476                 2           2         2   \n",
       "2        10180145361                 1           2         2   \n",
       "3        10180145361                 2           2         2   \n",
       "4  10329367913701377                 1           2         2   \n",
       "\n",
       "           dialog_id turns  \n",
       "0  31753376664522752     2  \n",
       "1  31753376664522752     2  \n",
       "2  30115565162995712     2  \n",
       "3  30115565162995712     2  \n",
       "4  31521342494871552     2  "
      ]
     },
     "execution_count": 59,
     "metadata": {},
     "output_type": "execute_result"
    }
   ],
   "source": [
    "ds.head()"
   ]
  },
  {
   "cell_type": "code",
   "execution_count": 40,
   "metadata": {},
   "outputs": [
    {
     "data": {
      "text/plain": [
       "(1994, 11)"
      ]
     },
     "execution_count": 40,
     "metadata": {},
     "output_type": "execute_result"
    }
   ],
   "source": [
    "path = os.path.join(data_dir, 'trec', 'test.csv')\n",
    "ds = pd.read_csv(path, dtype=object)\n",
    "ds.shape"
   ]
  },
  {
   "cell_type": "markdown",
   "metadata": {},
   "source": [
    "# training text length distribution"
   ]
  },
  {
   "cell_type": "code",
   "execution_count": 6,
   "metadata": {},
   "outputs": [
    {
     "name": "stdout",
     "output_type": "stream",
     "text": [
      "<class 'pandas.core.frame.DataFrame'>\n",
      "RangeIndex: 122960 entries, 0 to 122959\n",
      "Data columns (total 3 columns):\n",
      "source    122960 non-null object\n",
      "target    122960 non-null object\n",
      "flag      122960 non-null int64\n",
      "dtypes: int64(1), object(2)\n",
      "memory usage: 2.8+ MB\n"
     ]
    }
   ],
   "source": [
    "data_dir= '~/data/twconv/twconv_2011_trec'\n",
    "data_dir= os.path.expanduser(data_dir)\n",
    "path = os.path.join(data_dir, 'alldata', 'train.csv')\n",
    "ds = pd.read_csv(path)\n",
    "ds.info()"
   ]
  },
  {
   "cell_type": "code",
   "execution_count": 7,
   "metadata": {},
   "outputs": [
    {
     "data": {
      "text/plain": [
       "flag\n",
       "0    110664\n",
       "1     12296\n",
       "dtype: int64"
      ]
     },
     "execution_count": 7,
     "metadata": {},
     "output_type": "execute_result"
    }
   ],
   "source": [
    "ds.groupby('flag').size()"
   ]
  },
  {
   "cell_type": "code",
   "execution_count": 11,
   "metadata": {},
   "outputs": [],
   "source": [
    "ds['source_num_words'] = ds.source.apply(lambda x: len(x.split(' ')))\n",
    "ds['target_num_words'] = ds.target.apply(lambda x: len(x.split(' ')))"
   ]
  },
  {
   "cell_type": "code",
   "execution_count": 19,
   "metadata": {},
   "outputs": [
    {
     "data": {
      "image/png": "[encoded data removed]",
      "text/plain": [
       "<Figure size 432x288 with 1 Axes>"
      ]
     },
     "metadata": {
      "needs_background": "light"
     },
     "output_type": "display_data"
    }
   ],
   "source": [
    "#plt.figure(figsize=(10,4))\n",
    "#plt.subplot(121)\n",
    "ds.source_num_words.plot.hist(bins=50, alpha=0.5)\n",
    "plt.yscale('log')\n",
    "#plt.subplot(122)\n",
    "ds.target_num_words.plot.hist(bins=50, alpha=0.5)\n",
    "plt.yscale('log')"
   ]
  },
  {
   "cell_type": "code",
   "execution_count": 20,
   "metadata": {},
   "outputs": [
    {
     "name": "stdout",
     "output_type": "stream",
     "text": [
      "<class 'pandas.core.frame.DataFrame'>\n",
      "RangeIndex: 122960 entries, 0 to 122959\n",
      "Data columns (total 3 columns):\n",
      "source    122960 non-null object\n",
      "target    122960 non-null object\n",
      "flag      122960 non-null int64\n",
      "dtypes: int64(1), object(2)\n",
      "memory usage: 2.8+ MB\n"
     ]
    }
   ],
   "source": [
    "data_dir= '~/data/twconv/twconv_2011_trec'\n",
    "data_dir= os.path.expanduser(data_dir)\n",
    "path = os.path.join(data_dir, 'alldata', 'train.csvrecords')\n",
    "ds = pd.read_csv(path)\n",
    "ds.info()"
   ]
  },
  {
   "cell_type": "code",
   "execution_count": 21,
   "metadata": {},
   "outputs": [
    {
     "data": {
      "text/plain": [
       "flag\n",
       "0    110664\n",
       "1     12296\n",
       "dtype: int64"
      ]
     },
     "execution_count": 21,
     "metadata": {},
     "output_type": "execute_result"
    }
   ],
   "source": [
    "ds.groupby('flag').size()"
   ]
  },
  {
   "cell_type": "code",
   "execution_count": 22,
   "metadata": {},
   "outputs": [],
   "source": [
    "ds['source_num_words'] = ds.source.apply(lambda x: len(x.split(' ')))\n",
    "ds['target_num_words'] = ds.target.apply(lambda x: len(x.split(' ')))"
   ]
  },
  {
   "cell_type": "code",
   "execution_count": 23,
   "metadata": {},
   "outputs": [
    {
     "data": {
      "image/png": "[encoded data removed]",
      "text/plain": [
       "<Figure size 432x288 with 1 Axes>"
      ]
     },
     "metadata": {
      "needs_background": "light"
     },
     "output_type": "display_data"
    }
   ],
   "source": [
    "#plt.figure(figsize=(10,4))\n",
    "#plt.subplot(121)\n",
    "ds.source_num_words.plot.hist(bins=50, alpha=0.5)\n",
    "plt.yscale('log')\n",
    "#plt.subplot(122)\n",
    "ds.target_num_words.plot.hist(bins=50, alpha=0.5)\n",
    "plt.yscale('log')"
   ]
  },
  {
   "cell_type": "code",
   "execution_count": 24,
   "metadata": {},
   "outputs": [
    {
     "name": "stdout",
     "output_type": "stream",
     "text": [
      "<class 'pandas.core.frame.DataFrame'>\n",
      "RangeIndex: 122960 entries, 0 to 122959\n",
      "Data columns (total 3 columns):\n",
      "source    122960 non-null int64\n",
      "target    122960 non-null int64\n",
      "flag      122960 non-null int64\n",
      "dtypes: int64(3)\n",
      "memory usage: 2.8 MB\n"
     ]
    }
   ],
   "source": [
    "data_dir= '~/data/twconv/twconv_2011_trec'\n",
    "data_dir= os.path.expanduser(data_dir)\n",
    "path = os.path.join(data_dir, 'alldata', 'train_ids.csv')\n",
    "ds = pd.read_csv(path)\n",
    "ds.info()"
   ]
  }
 ],
 "metadata": {
  "kernelspec": {
   "display_name": "recsys_deepconv",
   "language": "python",
   "name": "recsys_deepconv"
  },
  "language_info": {
   "codemirror_mode": {
    "name": "ipython",
    "version": 3
   },
   "file_extension": ".py",
   "mimetype": "text/x-python",
   "name": "python",
   "nbconvert_exporter": "python",
   "pygments_lexer": "ipython3",
   "version": "3.7.3"
  }
 },
 "nbformat": 4,
 "nbformat_minor": 2
}
