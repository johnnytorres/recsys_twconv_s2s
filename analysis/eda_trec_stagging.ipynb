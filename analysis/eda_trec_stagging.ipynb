{
 "cells": [
  {
   "cell_type": "code",
   "execution_count": 1,
   "metadata": {},
   "outputs": [],
   "source": [
    "%matplotlib inline\n",
    "import pandas as pd\n",
    "import numpy as np\n",
    "import os"
   ]
  },
  {
   "cell_type": "code",
   "execution_count": 2,
   "metadata": {},
   "outputs": [
    {
     "data": {
      "text/plain": [
       "'/Users/johnnytorres/data/twconv/2011_trec'"
      ]
     },
     "execution_count": 2,
     "metadata": {},
     "output_type": "execute_result"
    }
   ],
   "source": [
    "data_dir='~/data/twconv/2011_trec'\n",
    "data_dir=os.path.expanduser(data_dir)\n",
    "data_dir"
   ]
  },
  {
   "cell_type": "code",
   "execution_count": 3,
   "metadata": {},
   "outputs": [],
   "source": [
    "fpath = os.path.join(data_dir, 'sampledata', 'dialogs_sample.csv')\n",
    "sampleds = pd.read_csv(fpath)\n",
    "\n",
    "fpath = os.path.join(data_dir, 'sampledata', 'dialogs_train.csv')\n",
    "trainds = pd.read_csv(fpath)\n",
    "\n",
    "fpath = os.path.join(data_dir, 'sampledata', 'dialogs_valid.csv')\n",
    "validds = pd.read_csv(fpath)\n",
    "\n",
    "fpath = os.path.join(data_dir, 'sampledata', 'dialogs_test.csv')\n",
    "testds = pd.read_csv(fpath)"
   ]
  },
  {
   "cell_type": "code",
   "execution_count": 4,
   "metadata": {},
   "outputs": [
    {
     "data": {
      "text/plain": [
       "(488, 488, 488, 298)"
      ]
     },
     "execution_count": 4,
     "metadata": {},
     "output_type": "execute_result"
    }
   ],
   "source": [
    "sampleds.dialog_id.nunique(), trainds.dialog_id.nunique(), validds.dialog_id.nunique(), testds.dialog_id.nunique()"
   ]
  },
  {
   "cell_type": "code",
   "execution_count": 52,
   "metadata": {},
   "outputs": [
    {
     "data": {
      "text/html": [
       "<div>\n",
       "<style scoped>\n",
       "    .dataframe tbody tr th:only-of-type {\n",
       "        vertical-align: middle;\n",
       "    }\n",
       "\n",
       "    .dataframe tbody tr th {\n",
       "        vertical-align: top;\n",
       "    }\n",
       "\n",
       "    .dataframe thead th {\n",
       "        text-align: right;\n",
       "    }\n",
       "</style>\n",
       "<table border=\"1\" class=\"dataframe\">\n",
       "  <thead>\n",
       "    <tr style=\"text-align: right;\">\n",
       "      <th></th>\n",
       "      <th>id</th>\n",
       "      <th>dialog_id</th>\n",
       "      <th>num_replies</th>\n",
       "    </tr>\n",
       "  </thead>\n",
       "  <tbody>\n",
       "    <tr>\n",
       "      <th>0</th>\n",
       "      <td>16264108667</td>\n",
       "      <td>33698147599388672</td>\n",
       "      <td>2</td>\n",
       "    </tr>\n",
       "    <tr>\n",
       "      <th>2</th>\n",
       "      <td>16427949431459840</td>\n",
       "      <td>31897847494348801</td>\n",
       "      <td>2</td>\n",
       "    </tr>\n",
       "    <tr>\n",
       "      <th>4</th>\n",
       "      <td>21989840392290305</td>\n",
       "      <td>30983632147451904</td>\n",
       "      <td>4</td>\n",
       "    </tr>\n",
       "    <tr>\n",
       "      <th>8</th>\n",
       "      <td>27053999236587520</td>\n",
       "      <td>29328229584076800</td>\n",
       "      <td>3</td>\n",
       "    </tr>\n",
       "    <tr>\n",
       "      <th>11</th>\n",
       "      <td>27114069655822336</td>\n",
       "      <td>30179555964624896</td>\n",
       "      <td>2</td>\n",
       "    </tr>\n",
       "  </tbody>\n",
       "</table>\n",
       "</div>"
      ],
      "text/plain": [
       "                   id          dialog_id  num_replies\n",
       "0         16264108667  33698147599388672            2\n",
       "2   16427949431459840  31897847494348801            2\n",
       "4   21989840392290305  30983632147451904            4\n",
       "8   27053999236587520  29328229584076800            3\n",
       "11  27114069655822336  30179555964624896            2"
      ]
     },
     "execution_count": 52,
     "metadata": {},
     "output_type": "execute_result"
    }
   ],
   "source": [
    "sampleds[sampleds.in_reply_to_status_id.isnull()][['id','dialog_id','num_replies']].head()"
   ]
  },
  {
   "cell_type": "code",
   "execution_count": 54,
   "metadata": {},
   "outputs": [
    {
     "data": {
      "text/html": [
       "<div>\n",
       "<style scoped>\n",
       "    .dataframe tbody tr th:only-of-type {\n",
       "        vertical-align: middle;\n",
       "    }\n",
       "\n",
       "    .dataframe tbody tr th {\n",
       "        vertical-align: top;\n",
       "    }\n",
       "\n",
       "    .dataframe thead th {\n",
       "        text-align: right;\n",
       "    }\n",
       "</style>\n",
       "<table border=\"1\" class=\"dataframe\">\n",
       "  <thead>\n",
       "    <tr style=\"text-align: right;\">\n",
       "      <th></th>\n",
       "      <th>user_id</th>\n",
       "      <th>id</th>\n",
       "      <th>in_reply_to_status_id</th>\n",
       "      <th>text</th>\n",
       "    </tr>\n",
       "  </thead>\n",
       "  <tbody>\n",
       "    <tr>\n",
       "      <th>1115</th>\n",
       "      <td>198539374</td>\n",
       "      <td>21989840392290305</td>\n",
       "      <td>NaN</td>\n",
       "      <td>MENTION what's the line on aus 1st inns now ? ...</td>\n",
       "    </tr>\n",
       "    <tr>\n",
       "      <th>1116</th>\n",
       "      <td>194256226</td>\n",
       "      <td>21995186640916480</td>\n",
       "      <td>2.198984e+16</td>\n",
       "      <td>MENTION 300 i think</td>\n",
       "    </tr>\n",
       "  </tbody>\n",
       "</table>\n",
       "</div>"
      ],
      "text/plain": [
       "        user_id                 id  in_reply_to_status_id  \\\n",
       "1115  198539374  21989840392290305                    NaN   \n",
       "1116  194256226  21995186640916480           2.198984e+16   \n",
       "\n",
       "                                                   text  \n",
       "1115  MENTION what's the line on aus 1st inns now ? ...  \n",
       "1116                                MENTION 300 i think  "
      ]
     },
     "execution_count": 54,
     "metadata": {},
     "output_type": "execute_result"
    }
   ],
   "source": [
    "trainds[trainds.dialog_id==30983632147451904][['user_id','id','in_reply_to_status_id','text']]"
   ]
  },
  {
   "cell_type": "code",
   "execution_count": 55,
   "metadata": {},
   "outputs": [
    {
     "data": {
      "text/html": [
       "<div>\n",
       "<style scoped>\n",
       "    .dataframe tbody tr th:only-of-type {\n",
       "        vertical-align: middle;\n",
       "    }\n",
       "\n",
       "    .dataframe tbody tr th {\n",
       "        vertical-align: top;\n",
       "    }\n",
       "\n",
       "    .dataframe thead th {\n",
       "        text-align: right;\n",
       "    }\n",
       "</style>\n",
       "<table border=\"1\" class=\"dataframe\">\n",
       "  <thead>\n",
       "    <tr style=\"text-align: right;\">\n",
       "      <th></th>\n",
       "      <th>user_id</th>\n",
       "      <th>id</th>\n",
       "      <th>in_reply_to_status_id</th>\n",
       "      <th>text</th>\n",
       "    </tr>\n",
       "  </thead>\n",
       "  <tbody>\n",
       "    <tr>\n",
       "      <th>418</th>\n",
       "      <td>198539374</td>\n",
       "      <td>30983053211860993</td>\n",
       "      <td>21995186640916480</td>\n",
       "      <td>MENTION just read yesterday's col . bruce , to...</td>\n",
       "    </tr>\n",
       "  </tbody>\n",
       "</table>\n",
       "</div>"
      ],
      "text/plain": [
       "       user_id                 id  in_reply_to_status_id  \\\n",
       "418  198539374  30983053211860993      21995186640916480   \n",
       "\n",
       "                                                  text  \n",
       "418  MENTION just read yesterday's col . bruce , to...  "
      ]
     },
     "execution_count": 55,
     "metadata": {},
     "output_type": "execute_result"
    }
   ],
   "source": [
    "validds[validds.dialog_id==30983632147451904][['user_id','id','in_reply_to_status_id','text']]"
   ]
  },
  {
   "cell_type": "code",
   "execution_count": 41,
   "metadata": {},
   "outputs": [
    {
     "data": {
      "text/html": [
       "<div>\n",
       "<style scoped>\n",
       "    .dataframe tbody tr th:only-of-type {\n",
       "        vertical-align: middle;\n",
       "    }\n",
       "\n",
       "    .dataframe tbody tr th {\n",
       "        vertical-align: top;\n",
       "    }\n",
       "\n",
       "    .dataframe thead th {\n",
       "        text-align: right;\n",
       "    }\n",
       "</style>\n",
       "<table border=\"1\" class=\"dataframe\">\n",
       "  <thead>\n",
       "    <tr style=\"text-align: right;\">\n",
       "      <th></th>\n",
       "      <th>id</th>\n",
       "      <th>in_reply_to_status_id</th>\n",
       "      <th>text</th>\n",
       "      <th>user_id</th>\n",
       "      <th>conversation_id</th>\n",
       "      <th>conversation_deep</th>\n",
       "      <th>num_replies</th>\n",
       "      <th>num_users</th>\n",
       "      <th>dialog_id</th>\n",
       "      <th>turns</th>\n",
       "    </tr>\n",
       "  </thead>\n",
       "  <tbody>\n",
       "  </tbody>\n",
       "</table>\n",
       "</div>"
      ],
      "text/plain": [
       "Empty DataFrame\n",
       "Columns: [id, in_reply_to_status_id, text, user_id, conversation_id, conversation_deep, num_replies, num_users, dialog_id, turns]\n",
       "Index: []"
      ]
     },
     "execution_count": 41,
     "metadata": {},
     "output_type": "execute_result"
    }
   ],
   "source": [
    "testds[testds.dialog_id==29354833559425024]"
   ]
  },
  {
   "cell_type": "code",
   "execution_count": 14,
   "metadata": {},
   "outputs": [],
   "source": [
    "fpath = os.path.join(data_dir, 'sampledata', 'train.csv')\n",
    "trainds = pd.read_csv(fpath)\n",
    "\n",
    "fpath = os.path.join(data_dir, 'sampledata', 'valid.csv')\n",
    "validds = pd.read_csv(fpath)\n",
    "\n",
    "fpath = os.path.join(data_dir, 'sampledata', 'valid_ids.csv')\n",
    "validds_ids = pd.read_csv(fpath)\n",
    "\n",
    "\n",
    "fpath = os.path.join(data_dir, 'sampledata', 'test.csv')\n",
    "testds = pd.read_csv(fpath)"
   ]
  },
  {
   "cell_type": "code",
   "execution_count": 15,
   "metadata": {},
   "outputs": [
    {
     "data": {
      "text/plain": [
       "((218, 3), (18, 8), (14, 8), (18, 7))"
      ]
     },
     "execution_count": 15,
     "metadata": {},
     "output_type": "execute_result"
    }
   ],
   "source": [
    "trainds.shape, validds.shape, testds.shape, validds_ids.shape"
   ]
  },
  {
   "cell_type": "code",
   "execution_count": 6,
   "metadata": {},
   "outputs": [
    {
     "data": {
      "text/html": [
       "<div>\n",
       "<style scoped>\n",
       "    .dataframe tbody tr th:only-of-type {\n",
       "        vertical-align: middle;\n",
       "    }\n",
       "\n",
       "    .dataframe tbody tr th {\n",
       "        vertical-align: top;\n",
       "    }\n",
       "\n",
       "    .dataframe thead th {\n",
       "        text-align: right;\n",
       "    }\n",
       "</style>\n",
       "<table border=\"1\" class=\"dataframe\">\n",
       "  <thead>\n",
       "    <tr style=\"text-align: right;\">\n",
       "      <th></th>\n",
       "      <th>profile</th>\n",
       "      <th>context</th>\n",
       "      <th>flag</th>\n",
       "    </tr>\n",
       "  </thead>\n",
       "  <tbody>\n",
       "    <tr>\n",
       "      <th>0</th>\n",
       "      <td>where my bestfriend MENTION aat ?</td>\n",
       "      <td>lmao rt MENTION : lmfao kyra forever saying \" ...</td>\n",
       "      <td>1</td>\n",
       "    </tr>\n",
       "    <tr>\n",
       "      <th>1</th>\n",
       "      <td>where my bestfriend MENTION aat ?</td>\n",
       "      <td>i may be slow to respond today , working on a ...</td>\n",
       "      <td>0</td>\n",
       "    </tr>\n",
       "    <tr>\n",
       "      <th>2</th>\n",
       "      <td>where my bestfriend MENTION aat ?</td>\n",
       "      <td>lmao rt MENTION : lmfao kyra forever saying \" ...</td>\n",
       "      <td>1</td>\n",
       "    </tr>\n",
       "    <tr>\n",
       "      <th>3</th>\n",
       "      <td>where my bestfriend MENTION aat ?</td>\n",
       "      <td>schiavone gets the break - will be coming out ...</td>\n",
       "      <td>0</td>\n",
       "    </tr>\n",
       "    <tr>\n",
       "      <th>4</th>\n",
       "      <td>where my bestfriend MENTION aat ?</td>\n",
       "      <td>lmao rt MENTION : lmfao kyra forever saying \" ...</td>\n",
       "      <td>1</td>\n",
       "    </tr>\n",
       "  </tbody>\n",
       "</table>\n",
       "</div>"
      ],
      "text/plain": [
       "                             profile  \\\n",
       "0  where my bestfriend MENTION aat ?   \n",
       "1  where my bestfriend MENTION aat ?   \n",
       "2  where my bestfriend MENTION aat ?   \n",
       "3  where my bestfriend MENTION aat ?   \n",
       "4  where my bestfriend MENTION aat ?   \n",
       "\n",
       "                                             context  flag  \n",
       "0  lmao rt MENTION : lmfao kyra forever saying \" ...     1  \n",
       "1  i may be slow to respond today , working on a ...     0  \n",
       "2  lmao rt MENTION : lmfao kyra forever saying \" ...     1  \n",
       "3  schiavone gets the break - will be coming out ...     0  \n",
       "4  lmao rt MENTION : lmfao kyra forever saying \" ...     1  "
      ]
     },
     "execution_count": 6,
     "metadata": {},
     "output_type": "execute_result"
    }
   ],
   "source": [
    "trainds.head()"
   ]
  },
  {
   "cell_type": "code",
   "execution_count": 8,
   "metadata": {},
   "outputs": [
    {
     "data": {
      "text/plain": [
       "<matplotlib.axes._subplots.AxesSubplot at 0x11dba4a90>"
      ]
     },
     "execution_count": 8,
     "metadata": {},
     "output_type": "execute_result"
    },
    {
     "data": {
      "image/png": "[encoded data removed]",
      "text/plain": [
       "<Figure size 432x288 with 1 Axes>"
      ]
     },
     "metadata": {
      "needs_background": "light"
     },
     "output_type": "display_data"
    }
   ],
   "source": [
    "validds.gtix.plot.hist()"
   ]
  },
  {
   "cell_type": "code",
   "execution_count": 28,
   "metadata": {},
   "outputs": [],
   "source": [
    "from random import sample"
   ]
  },
  {
   "cell_type": "code",
   "execution_count": 29,
   "metadata": {},
   "outputs": [
    {
     "data": {
      "text/plain": [
       "array([\"it's feeling surreal to have come so . so close ... MENTION i thought i was going to have a heart attack ! MENTION MENTION i feel the same !! i guess it is different when its the national team\",\n",
       "       5,\n",
       "       \"to all true alex fans !! cali . this summer . who's in ? EMOTICON ;) MENTION i'd love to but i gotta see what my financial situation is lookin like ! haha EMOTICON :/ MENTION it's gonna be summer , like june or so ... start saving & you can go ! come on girl ! MENTION i'm gonna try , but it would have to be end of june for me cuz that's when school let's out here in ny !\",\n",
       "       'MENTION MENTION MENTION MENTION ... found it .. see mm .. over skirt as well ( nov\\'90 ) URL MENTION gorgeous ! i love the line of the dress , and the pretty lady wearing it ! MENTION MENTION MENTION MENTION ty ! .. i still think the dress is pretty after all these yrs .. * sighs * MENTION MENTION MENTION MENTION MENTION MENTION MENTION hubs thought our d should\\'ve married in my 80\\'s dress . it was tooo funny . he thinks it was great MENTION fashion changes so much .. and me having boys .. ! MENTION MENTION MENTION MENTION MENTION MENTION MENTION if my future daught-in-law is 5\\'10 \" , she is welcome to the dress . MENTION do u have a pic of your wedding ? haven\\'t seen u ! MENTION MENTION MENTION MENTION no one has ever seen me . i\\'ve twitpic\\'d my teens , and my yard , but not me . MENTION MENTION MENTION MENTION so i\\'ll have to wait until september to see you ? lol . MENTION MENTION MENTION MENTION unless i can sneak to chicago in june . MENTION MENTION MENTION MENTION MENTION MENTION MENTION can we get a toronto trip together ??!! MENTION MENTION MENTION MENTION i\\'d love to go there . one of the gals i beta for lives there . MENTION MENTION MENTION MENTION i\\'m down for it ... if we can swing it . i have lots of hotel connections EMOTICON :) MENTION MENTION MENTION MENTION next chapter ... epic .. i see it coming ... MENTION MENTION MENTION MENTION yes , next update = epic . she\\'s really set it up . weaved so many players together . MENTION MENTION MENTION MENTION did everyone read the tat update ?? MENTION MENTION MENTION MENTION me . i read tat .. MENTION <-- bondward\\'s mistress * bows to u * MENTION MENTION MENTION MENTION MENTION MENTION MENTION i had them doing something in the previous chapter but the beta\\'s said it was too early . darn . MENTION MENTION MENTION MENTION def too early ... bella isn\\'t ready imo ... great chap kel ! MENTION MENTION MENTION MENTION lol thx . i have never even heard of that one . deets ? MENTION and they made the contract on a napkin .. which he still keeps after 11 yrs MENTION MENTION MENTION MENTION that just moved way up the tbr list ! MENTION MENTION MENTION MENTION MENTION MENTION MENTION me , too . i love the idea . and angst/ust sl00r that i am . * grabs tissues * MENTION me too ! MENTION MENTION MENTION hubs thinks i\\'m crazy .. but i might convince him .. w/ a bit of time .. lol ... MENTION MENTION MENTION MENTION same here . i took several trips last yr . twi/with hubs/wedding i have to be good . no purses . lol MENTION MENTION MENTION MENTION ... especially since it\\'s an international trip for me ..! .. no shoes for me ! HASHTAG MENTION MENTION MENTION MENTION international for us too ! lol ... MENTION .. hehe .. but have to cross the whole us ! i love toronto ! MENTION MENTION MENTION MENTION i\\'ve never been , so it would be so exciting for me ! MENTION MENTION MENTION MENTION MENTION MENTION MENTION toronto is a world class city . and MENTION lives there ! MENTION MENTION MENTION MENTION MENTION been to montreal/quebec city , but heard that toronto is wonderful MENTION montreal is beautiful . modern but with european feel to it MENTION MENTION MENTION MENTION MENTION love montreal , horse drawn sleighs , incredible restaurants , winter fest . MENTION MENTION MENTION MENTION',\n",
       "       'MENTION merle ? i hear him daily ... johnny too ... love em both . and willie nelson , waylon jennings , charlie daniels ... MENTION -love charlie daniels , the others not since was a kid w certain family members',\n",
       "       'seesmic .. hmm .. too clunky . me no likey . MENTION think i saw you at the start , was busy running around after MENTION & kenny \" van \" haswell , couldnt see you later to speak MENTION no worries . i just hung around the start finish line watching the stripes destroy the entire field . EMOTICON :d MENTION he does make it look easy',\n",
       "       'new blog post : clark kent or superman ? why you should blog URL HASHTAG HASHTAG MENTION great post ... i am trying EMOTICON :) URL',\n",
       "       \"MENTION MENTION i'm sure someone tweeted he was a coward for backing out and then MENTION replied that he was ! MENTION MENTION yes , trent definitely attending the #melbfanforum . MENTION confirmed it yesterday . MENTION MENTION victory and nt held talks last night , nt are confident . MENTION MENTION well that's a start , but i think mv also need to eventually address all members . did nt confirm it ? MENTION MENTION yeh , tunna posted on facebook . it's a start ... but the issue runs far deeper .\"],\n",
       "      dtype=object)"
      ]
     },
     "execution_count": 29,
     "metadata": {},
     "output_type": "execute_result"
    }
   ],
   "source": [
    "ix = list(range(validds.shape[0]))\n",
    "ix = sample(ix, 1)[0]\n",
    "validds.iloc[ix, :].values"
   ]
  },
  {
   "cell_type": "code",
   "execution_count": 31,
   "metadata": {},
   "outputs": [
    {
     "data": {
      "text/plain": [
       "profile        31540785178480640\n",
       "context        34457440195973120\n",
       "distractor0    29066161538736128\n",
       "distractor1    29381307230330880\n",
       "distractor2    29215624731303936\n",
       "distractor3    29567975992328192\n",
       "distractor4    34774124479909888\n",
       "Name: 17, dtype: int64"
      ]
     },
     "execution_count": 31,
     "metadata": {},
     "output_type": "execute_result"
    }
   ],
   "source": [
    "validds_ids.iloc[ix,:]"
   ]
  },
  {
   "cell_type": "code",
   "execution_count": 33,
   "metadata": {},
   "outputs": [
    {
     "data": {
      "text/html": [
       "<div>\n",
       "<style scoped>\n",
       "    .dataframe tbody tr th:only-of-type {\n",
       "        vertical-align: middle;\n",
       "    }\n",
       "\n",
       "    .dataframe tbody tr th {\n",
       "        vertical-align: top;\n",
       "    }\n",
       "\n",
       "    .dataframe thead th {\n",
       "        text-align: right;\n",
       "    }\n",
       "</style>\n",
       "<table border=\"1\" class=\"dataframe\">\n",
       "  <thead>\n",
       "    <tr style=\"text-align: right;\">\n",
       "      <th></th>\n",
       "      <th>id</th>\n",
       "      <th>in_reply_to_status_id</th>\n",
       "      <th>text</th>\n",
       "      <th>user_id</th>\n",
       "      <th>conversation_id</th>\n",
       "      <th>conversation_deep</th>\n",
       "      <th>num_replies</th>\n",
       "      <th>num_users</th>\n",
       "      <th>dialog_id</th>\n",
       "      <th>turns</th>\n",
       "    </tr>\n",
       "  </thead>\n",
       "  <tbody>\n",
       "    <tr>\n",
       "      <th>2493</th>\n",
       "      <td>34623386667720704</td>\n",
       "      <td>NaN</td>\n",
       "      <td>MENTION MENTION i'm sure someone tweeted he wa...</td>\n",
       "      <td>37886962</td>\n",
       "      <td>34623386667720704</td>\n",
       "      <td>1</td>\n",
       "      <td>7</td>\n",
       "      <td>3</td>\n",
       "      <td>34774124479909888</td>\n",
       "      <td>7</td>\n",
       "    </tr>\n",
       "    <tr>\n",
       "      <th>2494</th>\n",
       "      <td>34716697424445440</td>\n",
       "      <td>3.462339e+16</td>\n",
       "      <td>MENTION MENTION yes , trent definitely attendi...</td>\n",
       "      <td>56365421</td>\n",
       "      <td>34623386667720704</td>\n",
       "      <td>2</td>\n",
       "      <td>7</td>\n",
       "      <td>3</td>\n",
       "      <td>34774124479909888</td>\n",
       "      <td>7</td>\n",
       "    </tr>\n",
       "    <tr>\n",
       "      <th>2495</th>\n",
       "      <td>34770974142500864</td>\n",
       "      <td>3.471670e+16</td>\n",
       "      <td>MENTION MENTION victory and nt held talks last...</td>\n",
       "      <td>28062001</td>\n",
       "      <td>34623386667720704</td>\n",
       "      <td>3</td>\n",
       "      <td>7</td>\n",
       "      <td>3</td>\n",
       "      <td>34774124479909888</td>\n",
       "      <td>7</td>\n",
       "    </tr>\n",
       "    <tr>\n",
       "      <th>2496</th>\n",
       "      <td>34771483687391232</td>\n",
       "      <td>3.477097e+16</td>\n",
       "      <td>MENTION MENTION well that's a start , but i th...</td>\n",
       "      <td>37886962</td>\n",
       "      <td>34623386667720704</td>\n",
       "      <td>4</td>\n",
       "      <td>7</td>\n",
       "      <td>3</td>\n",
       "      <td>34774124479909888</td>\n",
       "      <td>7</td>\n",
       "    </tr>\n",
       "    <tr>\n",
       "      <th>2497</th>\n",
       "      <td>34772487321423872</td>\n",
       "      <td>3.477148e+16</td>\n",
       "      <td>MENTION MENTION yeh , tunna posted on facebook...</td>\n",
       "      <td>28062001</td>\n",
       "      <td>34623386667720704</td>\n",
       "      <td>5</td>\n",
       "      <td>7</td>\n",
       "      <td>3</td>\n",
       "      <td>34774124479909888</td>\n",
       "      <td>7</td>\n",
       "    </tr>\n",
       "    <tr>\n",
       "      <th>2498</th>\n",
       "      <td>34773309589561345</td>\n",
       "      <td>3.477249e+16</td>\n",
       "      <td>MENTION MENTION yeh , just read it .. it does ...</td>\n",
       "      <td>37886962</td>\n",
       "      <td>34623386667720704</td>\n",
       "      <td>6</td>\n",
       "      <td>7</td>\n",
       "      <td>3</td>\n",
       "      <td>34774124479909888</td>\n",
       "      <td>7</td>\n",
       "    </tr>\n",
       "    <tr>\n",
       "      <th>2499</th>\n",
       "      <td>34774124479909888</td>\n",
       "      <td>3.477331e+16</td>\n",
       "      <td>MENTION MENTION i think it fantastic they had ...</td>\n",
       "      <td>28062001</td>\n",
       "      <td>34623386667720704</td>\n",
       "      <td>7</td>\n",
       "      <td>7</td>\n",
       "      <td>3</td>\n",
       "      <td>34774124479909888</td>\n",
       "      <td>7</td>\n",
       "    </tr>\n",
       "  </tbody>\n",
       "</table>\n",
       "</div>"
      ],
      "text/plain": [
       "                     id  in_reply_to_status_id  \\\n",
       "2493  34623386667720704                    NaN   \n",
       "2494  34716697424445440           3.462339e+16   \n",
       "2495  34770974142500864           3.471670e+16   \n",
       "2496  34771483687391232           3.477097e+16   \n",
       "2497  34772487321423872           3.477148e+16   \n",
       "2498  34773309589561345           3.477249e+16   \n",
       "2499  34774124479909888           3.477331e+16   \n",
       "\n",
       "                                                   text   user_id  \\\n",
       "2493  MENTION MENTION i'm sure someone tweeted he wa...  37886962   \n",
       "2494  MENTION MENTION yes , trent definitely attendi...  56365421   \n",
       "2495  MENTION MENTION victory and nt held talks last...  28062001   \n",
       "2496  MENTION MENTION well that's a start , but i th...  37886962   \n",
       "2497  MENTION MENTION yeh , tunna posted on facebook...  28062001   \n",
       "2498  MENTION MENTION yeh , just read it .. it does ...  37886962   \n",
       "2499  MENTION MENTION i think it fantastic they had ...  28062001   \n",
       "\n",
       "        conversation_id  conversation_deep  num_replies  num_users  \\\n",
       "2493  34623386667720704                  1            7          3   \n",
       "2494  34623386667720704                  2            7          3   \n",
       "2495  34623386667720704                  3            7          3   \n",
       "2496  34623386667720704                  4            7          3   \n",
       "2497  34623386667720704                  5            7          3   \n",
       "2498  34623386667720704                  6            7          3   \n",
       "2499  34623386667720704                  7            7          3   \n",
       "\n",
       "              dialog_id  turns  \n",
       "2493  34774124479909888      7  \n",
       "2494  34774124479909888      7  \n",
       "2495  34774124479909888      7  \n",
       "2496  34774124479909888      7  \n",
       "2497  34774124479909888      7  \n",
       "2498  34774124479909888      7  \n",
       "2499  34774124479909888      7  "
      ]
     },
     "execution_count": 33,
     "metadata": {},
     "output_type": "execute_result"
    }
   ],
   "source": [
    "sampleds[sampleds.dialog_id==34774124479909888]"
   ]
  },
  {
   "cell_type": "code",
   "execution_count": 34,
   "metadata": {},
   "outputs": [
    {
     "data": {
      "text/html": [
       "<div>\n",
       "<style scoped>\n",
       "    .dataframe tbody tr th:only-of-type {\n",
       "        vertical-align: middle;\n",
       "    }\n",
       "\n",
       "    .dataframe tbody tr th {\n",
       "        vertical-align: top;\n",
       "    }\n",
       "\n",
       "    .dataframe thead th {\n",
       "        text-align: right;\n",
       "    }\n",
       "</style>\n",
       "<table border=\"1\" class=\"dataframe\">\n",
       "  <thead>\n",
       "    <tr style=\"text-align: right;\">\n",
       "      <th></th>\n",
       "      <th>profile</th>\n",
       "      <th>gtix</th>\n",
       "      <th>context</th>\n",
       "      <th>distractor0</th>\n",
       "      <th>distractor1</th>\n",
       "      <th>distractor2</th>\n",
       "      <th>distractor3</th>\n",
       "      <th>distractor4</th>\n",
       "    </tr>\n",
       "  </thead>\n",
       "  <tbody>\n",
       "    <tr>\n",
       "      <th>0</th>\n",
       "      <td>i miss my childhood movies !! my favorites wer...</td>\n",
       "      <td>2</td>\n",
       "      <td>had b.j. raji on #jrib last week . loved the c...</td>\n",
       "      <td>great play calling . pack td !! MENTION great ...</td>\n",
       "      <td>i wish my name was hailey joe ratliff EMOTICON...</td>\n",
       "      <td>to all true alex fans !! cali . this summer . ...</td>\n",
       "      <td>one of my followers is mad underrated MENTION ...</td>\n",
       "      <td>well last night i slept soundly from 11 until ...</td>\n",
       "    </tr>\n",
       "    <tr>\n",
       "      <th>1</th>\n",
       "      <td>MENTION that's boring ... MENTION the idea is ...</td>\n",
       "      <td>1</td>\n",
       "      <td>is having a pretty great night with matthew , ...</td>\n",
       "      <td>MENTION she doesn't talk , sir ... MENTION giv...</td>\n",
       "      <td>* ignores the jim cornelison hate all over my ...</td>\n",
       "      <td>MENTION MENTION MENTION ok , if i add spiderma...</td>\n",
       "      <td>MENTION r u nervous hun ??? MENTION yeah , onl...</td>\n",
       "      <td>can y'all tell me what oprah's secret is when ...</td>\n",
       "    </tr>\n",
       "    <tr>\n",
       "      <th>2</th>\n",
       "      <td>MENTION why's she taking you backstage ? EMOTI...</td>\n",
       "      <td>3</td>\n",
       "      <td>23/31 - pure recovery URL MENTION swap legends...</td>\n",
       "      <td>MENTION well trained dog . their's are all ter...</td>\n",
       "      <td>i'm up this morning and i chose to overcome ev...</td>\n",
       "      <td>MENTION are you okay ? EMOTICON xx MENTION no ...</td>\n",
       "      <td>sadness . MENTION haven't tweeted since 14 dec...</td>\n",
       "      <td>i would u stream yall right now but my eyelash...</td>\n",
       "    </tr>\n",
       "    <tr>\n",
       "      <th>3</th>\n",
       "      <td>MENTION (( alrighty ! enjoy yourself EMOTICON ...</td>\n",
       "      <td>5</td>\n",
       "      <td>* tapping at the letters , scowling at the dev...</td>\n",
       "      <td>rt MENTION : personally , i think \" being taug...</td>\n",
       "      <td>sam sparro EMOTICON :3 rt MENTION : yaknow tha...</td>\n",
       "      <td>copying over old files from a folder i had lab...</td>\n",
       "      <td>MENTION MENTION yeah numb and gettin use to it...</td>\n",
       "      <td>it's cold as ass outside and i've no one to cu...</td>\n",
       "    </tr>\n",
       "    <tr>\n",
       "      <th>4</th>\n",
       "      <td>MENTION ayyeee i knw yuh !</td>\n",
       "      <td>3</td>\n",
       "      <td>MENTION : fxck shiz . as if it's all over the...</td>\n",
       "      <td>now that was some gooood sex . we fucked for a...</td>\n",
       "      <td>MENTION did ... did u just tweet yourself in a...</td>\n",
       "      <td>MENTION &lt;-- is she really this cold ? MENTION ...</td>\n",
       "      <td>in studyhall bored someone talk to me ! MENTIO...</td>\n",
       "      <td>ohhh god how i hate MENTION and the fiflth she...</td>\n",
       "    </tr>\n",
       "  </tbody>\n",
       "</table>\n",
       "</div>"
      ],
      "text/plain": [
       "                                             profile  gtix  \\\n",
       "0  i miss my childhood movies !! my favorites wer...     2   \n",
       "1  MENTION that's boring ... MENTION the idea is ...     1   \n",
       "2  MENTION why's she taking you backstage ? EMOTI...     3   \n",
       "3  MENTION (( alrighty ! enjoy yourself EMOTICON ...     5   \n",
       "4                         MENTION ayyeee i knw yuh !     3   \n",
       "\n",
       "                                             context  \\\n",
       "0  had b.j. raji on #jrib last week . loved the c...   \n",
       "1  is having a pretty great night with matthew , ...   \n",
       "2  23/31 - pure recovery URL MENTION swap legends...   \n",
       "3  * tapping at the letters , scowling at the dev...   \n",
       "4   MENTION : fxck shiz . as if it's all over the...   \n",
       "\n",
       "                                         distractor0  \\\n",
       "0  great play calling . pack td !! MENTION great ...   \n",
       "1  MENTION she doesn't talk , sir ... MENTION giv...   \n",
       "2  MENTION well trained dog . their's are all ter...   \n",
       "3  rt MENTION : personally , i think \" being taug...   \n",
       "4  now that was some gooood sex . we fucked for a...   \n",
       "\n",
       "                                         distractor1  \\\n",
       "0  i wish my name was hailey joe ratliff EMOTICON...   \n",
       "1  * ignores the jim cornelison hate all over my ...   \n",
       "2  i'm up this morning and i chose to overcome ev...   \n",
       "3  sam sparro EMOTICON :3 rt MENTION : yaknow tha...   \n",
       "4  MENTION did ... did u just tweet yourself in a...   \n",
       "\n",
       "                                         distractor2  \\\n",
       "0  to all true alex fans !! cali . this summer . ...   \n",
       "1  MENTION MENTION MENTION ok , if i add spiderma...   \n",
       "2  MENTION are you okay ? EMOTICON xx MENTION no ...   \n",
       "3  copying over old files from a folder i had lab...   \n",
       "4  MENTION <-- is she really this cold ? MENTION ...   \n",
       "\n",
       "                                         distractor3  \\\n",
       "0  one of my followers is mad underrated MENTION ...   \n",
       "1  MENTION r u nervous hun ??? MENTION yeah , onl...   \n",
       "2  sadness . MENTION haven't tweeted since 14 dec...   \n",
       "3  MENTION MENTION yeah numb and gettin use to it...   \n",
       "4  in studyhall bored someone talk to me ! MENTIO...   \n",
       "\n",
       "                                         distractor4  \n",
       "0  well last night i slept soundly from 11 until ...  \n",
       "1  can y'all tell me what oprah's secret is when ...  \n",
       "2  i would u stream yall right now but my eyelash...  \n",
       "3  it's cold as ass outside and i've no one to cu...  \n",
       "4  ohhh god how i hate MENTION and the fiflth she...  "
      ]
     },
     "execution_count": 34,
     "metadata": {},
     "output_type": "execute_result"
    }
   ],
   "source": [
    "testds.head()"
   ]
  },
  {
   "cell_type": "code",
   "execution_count": 10,
   "metadata": {},
   "outputs": [
    {
     "data": {
      "text/plain": [
       "<matplotlib.axes._subplots.AxesSubplot at 0x11d32e908>"
      ]
     },
     "execution_count": 10,
     "metadata": {},
     "output_type": "execute_result"
    },
    {
     "data": {
      "image/png": "[encoded data removed]",
      "text/plain": [
       "<Figure size 432x288 with 1 Axes>"
      ]
     },
     "metadata": {
      "needs_background": "light"
     },
     "output_type": "display_data"
    }
   ],
   "source": [
    "testds.gtix.plot.hist()"
   ]
  },
  {
   "cell_type": "code",
   "execution_count": null,
   "metadata": {},
   "outputs": [],
   "source": []
  }
 ],
 "metadata": {
  "kernelspec": {
   "display_name": "recsys_deepconv",
   "language": "python",
   "name": "recsys_deepconv"
  },
  "language_info": {
   "codemirror_mode": {
    "name": "ipython",
    "version": 3
   },
   "file_extension": ".py",
   "mimetype": "text/x-python",
   "name": "python",
   "nbconvert_exporter": "python",
   "pygments_lexer": "ipython3",
   "version": "3.7.3"
  }
 },
 "nbformat": 4,
 "nbformat_minor": 2
}
