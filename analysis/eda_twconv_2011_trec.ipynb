{
 "cells": [
  {
   "cell_type": "code",
   "execution_count": 44,
   "metadata": {},
   "outputs": [],
   "source": [
    "%matplotlib inline\n",
    "import matplotlib.pyplot as plt\n",
    "import pandas as pd\n",
    "import numpy as np\n",
    "import os"
   ]
  },
  {
   "cell_type": "code",
   "execution_count": 45,
   "metadata": {},
   "outputs": [
    {
     "data": {
      "text/plain": [
       "'/Users/johnnytorres/data/twconv_2011_trec'"
      ]
     },
     "execution_count": 45,
     "metadata": {},
     "output_type": "execute_result"
    }
   ],
   "source": [
    "data_dir='~/data/twconv_2011_trec'\n",
    "data_dir=os.path.expanduser(data_dir)\n",
    "data_dir"
   ]
  },
  {
   "cell_type": "code",
   "execution_count": 47,
   "metadata": {},
   "outputs": [
    {
     "name": "stdout",
     "output_type": "stream",
     "text": [
      "<class 'pandas.core.frame.DataFrame'>\n",
      "RangeIndex: 10280 entries, 0 to 10279\n",
      "Data columns (total 3 columns):\n",
      "source    10280 non-null object\n",
      "target    10280 non-null object\n",
      "flag      10280 non-null int64\n",
      "dtypes: int64(1), object(2)\n",
      "memory usage: 241.1+ KB\n"
     ]
    }
   ],
   "source": [
    "fpath = os.path.join(data_dir, 'alldata', 'train.csv')\n",
    "train = pd.read_csv(fpath)\n",
    "train.info()"
   ]
  },
  {
   "cell_type": "code",
   "execution_count": 48,
   "metadata": {},
   "outputs": [],
   "source": [
    "train['source_wcount'] = train.source.apply(lambda x: len(x.split(' ')))\n",
    "train['target_wcount'] = train.target.apply(lambda x: len(x.split(' ')))"
   ]
  },
  {
   "cell_type": "code",
   "execution_count": 49,
   "metadata": {},
   "outputs": [
    {
     "data": {
      "text/plain": [
       "array([['do zoos have polar bears ?',\n",
       "        ' MENTION : HASHTAG rt MENTION lickin all on the pussy until my jaw starts to hurt HASHTAG  lmao , she did youur shit . MENTION i guess MENTION hahah ,, sorry hunn . MENTION you good i ain\\'t trippin MENTION i\\'m panda nice to m eet you MENTION i\\'m krash nice to meet you as well panda how you get that name ? MENTION idk , nickname from the homies , pandas are black and white , im mixed , theyre really peaceful && intense too , HASHTAG wbu krash ? MENTION oh that\\'s hot i lyke that but it came from one of my fav video games \" crash bandicot \" but i just put it wit a k MENTION thaaank youu EMOTICON (: annd haha , i used to play that gameee ! hahaa , imm assuminng youurr a bloood ? ( : MENTION naw not at all i just don\\'t lyke the way c\\'s look MENTION understandableeee EMOTICON (: youuur from cali orr what ? MENTION HASHTAG but i live in the #atl what bout you MENTION im from #la but i live in vegggasss . MENTION oh that\\'s what\\'s up i gotta come there MENTION yeahhhh , come chilll EMOTICON (: MENTION oh i most deff will so what you up to ? MENTION raidinng the fridgee(x wbu ? MENTION gettin my hair done hungry as hell MENTION what aree youu gettinng done to t ? MENTION twisted all up & then i hope i can get it braided MENTION howw long is it ? MENTION it\\'s pretty long even tho it don\\'t look it my shit be curlin up & what not MENTION if itsss braidedd does it touch the back of youuur neck ? MENTION yeah but i ain\\'t got that super hang time like you tho',\n",
       "        1, 6, 305]], dtype=object)"
      ]
     },
     "execution_count": 49,
     "metadata": {},
     "output_type": "execute_result"
    }
   ],
   "source": [
    "train.head(1).values"
   ]
  },
  {
   "cell_type": "code",
   "execution_count": 58,
   "metadata": {},
   "outputs": [
    {
     "data": {
      "text/plain": [
       "<matplotlib.axes._subplots.AxesSubplot at 0x119520940>"
      ]
     },
     "execution_count": 58,
     "metadata": {},
     "output_type": "execute_result"
    },
    {
     "data": {
      "image/png": "[encoded data removed]",
      "text/plain": [
       "<Figure size 432x288 with 1 Axes>"
      ]
     },
     "metadata": {
      "needs_background": "light"
     },
     "output_type": "display_data"
    }
   ],
   "source": [
    "train['source_wcount'].plot.hist(bins=50)\n",
    "#plt.yscale('log')"
   ]
  },
  {
   "cell_type": "code",
   "execution_count": 51,
   "metadata": {},
   "outputs": [
    {
     "data": {
      "text/plain": [
       "<matplotlib.axes._subplots.AxesSubplot at 0x11f1626a0>"
      ]
     },
     "execution_count": 51,
     "metadata": {},
     "output_type": "execute_result"
    },
    {
     "data": {
      "image/png": "[encoded data removed]",
      "text/plain": [
       "<Figure size 432x288 with 1 Axes>"
      ]
     },
     "metadata": {
      "needs_background": "light"
     },
     "output_type": "display_data"
    }
   ],
   "source": [
    "train['target_wcount'].plot.hist(bins=50)"
   ]
  },
  {
   "cell_type": "code",
   "execution_count": 53,
   "metadata": {},
   "outputs": [
    {
     "name": "stdout",
     "output_type": "stream",
     "text": [
      "<class 'pandas.core.frame.DataFrame'>\n",
      "RangeIndex: 2383 entries, 0 to 2382\n",
      "Data columns (total 12 columns):\n",
      "source     2383 non-null object\n",
      "target0    2383 non-null object\n",
      "target1    2383 non-null object\n",
      "target2    2383 non-null object\n",
      "target3    2383 non-null object\n",
      "target4    2383 non-null object\n",
      "target5    2383 non-null object\n",
      "target6    2383 non-null object\n",
      "target7    2383 non-null object\n",
      "target8    2383 non-null object\n",
      "target9    2383 non-null object\n",
      "label      2383 non-null int64\n",
      "dtypes: int64(1), object(11)\n",
      "memory usage: 223.5+ KB\n"
     ]
    }
   ],
   "source": [
    "fpath = os.path.join(data_dir, 'alldata', 'valid.csv')\n",
    "test = pd.read_csv(fpath)\n",
    "test.info()"
   ]
  },
  {
   "cell_type": "code",
   "execution_count": 55,
   "metadata": {
    "scrolled": true
   },
   "outputs": [],
   "source": [
    "test['source_wcount'] = test.source.apply(lambda x: len(x.split(' ')))\n",
    "test['target0_wcount'] = test['target0'].apply(lambda x: len(x.split(' ')))\n",
    "\n"
   ]
  },
  {
   "cell_type": "code",
   "execution_count": 56,
   "metadata": {},
   "outputs": [
    {
     "data": {
      "text/plain": [
       "<matplotlib.axes._subplots.AxesSubplot at 0x1194f67b8>"
      ]
     },
     "execution_count": 56,
     "metadata": {},
     "output_type": "execute_result"
    },
    {
     "data": {
      "image/png": "[encoded data removed]",
      "text/plain": [
       "<Figure size 432x288 with 1 Axes>"
      ]
     },
     "metadata": {
      "needs_background": "light"
     },
     "output_type": "display_data"
    }
   ],
   "source": [
    "test['source_wcount'].plot.hist(bins=50)"
   ]
  },
  {
   "cell_type": "code",
   "execution_count": 57,
   "metadata": {},
   "outputs": [
    {
     "data": {
      "text/plain": [
       "<matplotlib.axes._subplots.AxesSubplot at 0x11fa07400>"
      ]
     },
     "execution_count": 57,
     "metadata": {},
     "output_type": "execute_result"
    },
    {
     "data": {
      "image/png": "[encoded data removed]",
      "text/plain": [
       "<Figure size 432x288 with 1 Axes>"
      ]
     },
     "metadata": {
      "needs_background": "light"
     },
     "output_type": "display_data"
    }
   ],
   "source": [
    "test['target0_wcount'].plot.hist(bins=50)"
   ]
  },
  {
   "cell_type": "code",
   "execution_count": null,
   "metadata": {},
   "outputs": [],
   "source": []
  }
 ],
 "metadata": {
  "kernelspec": {
   "display_name": "recsys_deepconv",
   "language": "python",
   "name": "recsys_deepconv"
  },
  "language_info": {
   "codemirror_mode": {
    "name": "ipython",
    "version": 3
   },
   "file_extension": ".py",
   "mimetype": "text/x-python",
   "name": "python",
   "nbconvert_exporter": "python",
   "pygments_lexer": "ipython3",
   "version": "3.7.3"
  }
 },
 "nbformat": 4,
 "nbformat_minor": 2
}
