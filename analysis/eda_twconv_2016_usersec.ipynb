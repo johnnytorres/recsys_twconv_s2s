{
 "cells": [
  {
   "cell_type": "code",
   "execution_count": 1,
   "metadata": {},
   "outputs": [],
   "source": [
    "%matplotlib inline\n",
    "import matplotlib.pyplot as plt\n",
    "import pandas as pd\n",
    "import os"
   ]
  },
  {
   "cell_type": "code",
   "execution_count": 2,
   "metadata": {},
   "outputs": [],
   "source": [
    "data_dir = '~/data/twconv_2016_usersec'\n",
    "data_dir = os.path.expanduser(data_dir)"
   ]
  },
  {
   "cell_type": "markdown",
   "metadata": {},
   "source": [
    "# conversations"
   ]
  },
  {
   "cell_type": "code",
   "execution_count": 167,
   "metadata": {},
   "outputs": [
    {
     "data": {
      "text/plain": [
       "((42114, 14), 1539)"
      ]
     },
     "execution_count": 167,
     "metadata": {},
     "output_type": "execute_result"
    }
   ],
   "source": [
    "path = os.path.join(data_dir, 'conversations.csv')\n",
    "ds = pd.read_csv(path, parse_dates=['timestamp'])\n",
    "ds.shape, ds.conversation_id.nunique()"
   ]
  },
  {
   "cell_type": "code",
   "execution_count": 161,
   "metadata": {},
   "outputs": [
    {
     "data": {
      "image/png": "[encoded data removed]",
      "text/plain": [
       "<Figure size 432x288 with 1 Axes>"
      ]
     },
     "metadata": {
      "needs_background": "light"
     },
     "output_type": "display_data"
    }
   ],
   "source": [
    "ds[ds.in_reply_to_status_id.isnull()].num_replies.plot.hist(bins=50)\n",
    "plt.yscale('log')"
   ]
  },
  {
   "cell_type": "markdown",
   "metadata": {},
   "source": [
    "# dialogs"
   ]
  },
  {
   "cell_type": "code",
   "execution_count": 27,
   "metadata": {},
   "outputs": [
    {
     "data": {
      "text/plain": [
       "((26181, 16), 5655)"
      ]
     },
     "execution_count": 27,
     "metadata": {},
     "output_type": "execute_result"
    }
   ],
   "source": [
    "path = os.path.join(data_dir, 'dialogs.csv')\n",
    "dialogs = pd.read_csv(path, parse_dates=['timestamp'])\n",
    "dialogs.shape, dialogs.dialog_id.nunique()"
   ]
  },
  {
   "cell_type": "code",
   "execution_count": 28,
   "metadata": {},
   "outputs": [
    {
     "data": {
      "image/png": "[encoded data removed]",
      "text/plain": [
       "<Figure size 432x288 with 1 Axes>"
      ]
     },
     "metadata": {
      "needs_background": "light"
     },
     "output_type": "display_data"
    }
   ],
   "source": [
    "dialogs.groupby('dialog_id').size().plot.hist(bins=25)\n",
    "plt.yscale('log')"
   ]
  },
  {
   "cell_type": "markdown",
   "metadata": {},
   "source": [
    "# recsys"
   ]
  },
  {
   "cell_type": "code",
   "execution_count": 62,
   "metadata": {},
   "outputs": [
    {
     "data": {
      "text/plain": [
       "((510, 4), 97)"
      ]
     },
     "execution_count": 62,
     "metadata": {},
     "output_type": "execute_result"
    }
   ],
   "source": [
    "path = os.path.join(data_dir,'sampledata', 'dialogs_sample.csv')\n",
    "dialogs = pd.read_csv(path)\n",
    "dialogs.shape, dialogs.dialog_id.nunique()"
   ]
  },
  {
   "cell_type": "code",
   "execution_count": 63,
   "metadata": {},
   "outputs": [
    {
     "data": {
      "image/png": "[encoded data removed]",
      "text/plain": [
       "<Figure size 432x288 with 1 Axes>"
      ]
     },
     "metadata": {
      "needs_background": "light"
     },
     "output_type": "display_data"
    }
   ],
   "source": [
    "dialogs.groupby('dialog_id').size().plot.hist(bins=25)\n",
    "plt.yscale('log')"
   ]
  },
  {
   "cell_type": "code",
   "execution_count": 64,
   "metadata": {},
   "outputs": [
    {
     "data": {
      "text/plain": [
       "(21326, 3)"
      ]
     },
     "execution_count": 64,
     "metadata": {},
     "output_type": "execute_result"
    }
   ],
   "source": [
    "path = os.path.join(data_dir,'alldata', 'train.csv')\n",
    "train = pd.read_csv(path)\n",
    "train.shape"
   ]
  },
  {
   "cell_type": "code",
   "execution_count": 49,
   "metadata": {},
   "outputs": [
    {
     "data": {
      "text/html": [
       "<div>\n",
       "<style scoped>\n",
       "    .dataframe tbody tr th:only-of-type {\n",
       "        vertical-align: middle;\n",
       "    }\n",
       "\n",
       "    .dataframe tbody tr th {\n",
       "        vertical-align: top;\n",
       "    }\n",
       "\n",
       "    .dataframe thead th {\n",
       "        text-align: right;\n",
       "    }\n",
       "</style>\n",
       "<table border=\"1\" class=\"dataframe\">\n",
       "  <thead>\n",
       "    <tr style=\"text-align: right;\">\n",
       "      <th></th>\n",
       "      <th>source</th>\n",
       "      <th>target</th>\n",
       "      <th>flag</th>\n",
       "    </tr>\n",
       "  </thead>\n",
       "  <tbody>\n",
       "    <tr>\n",
       "      <th>0</th>\n",
       "      <td>¡Feliz semana y feliz año para tod@s! La Revol...</td>\n",
       "      <td>¡Feliz semana y feliz año para tod@s! La Revol...</td>\n",
       "      <td>1</td>\n",
       "    </tr>\n",
       "    <tr>\n",
       "      <th>1</th>\n",
       "      <td>¡Feliz semana y feliz año para tod@s! La Revol...</td>\n",
       "      <td>Que de mi escriban y digan lo que quieran. Si ...</td>\n",
       "      <td>0</td>\n",
       "    </tr>\n",
       "    <tr>\n",
       "      <th>2</th>\n",
       "      <td>¡Feliz semana y feliz año para tod@s! La Revol...</td>\n",
       "      <td>...de super carretera, ni soñadas antes de la ...</td>\n",
       "      <td>1</td>\n",
       "    </tr>\n",
       "    <tr>\n",
       "      <th>3</th>\n",
       "      <td>¡Feliz semana y feliz año para tod@s! La Revol...</td>\n",
       "      <td>Tenemos más camiones que donaciones para envia...</td>\n",
       "      <td>0</td>\n",
       "    </tr>\n",
       "    <tr>\n",
       "      <th>4</th>\n",
       "      <td>@MashiRafael Mientras los perros ladren signif...</td>\n",
       "      <td>...de super carretera, ni soñadas antes de la ...</td>\n",
       "      <td>1</td>\n",
       "    </tr>\n",
       "  </tbody>\n",
       "</table>\n",
       "</div>"
      ],
      "text/plain": [
       "                                              source  \\\n",
       "0  ¡Feliz semana y feliz año para tod@s! La Revol...   \n",
       "1  ¡Feliz semana y feliz año para tod@s! La Revol...   \n",
       "2  ¡Feliz semana y feliz año para tod@s! La Revol...   \n",
       "3  ¡Feliz semana y feliz año para tod@s! La Revol...   \n",
       "4  @MashiRafael Mientras los perros ladren signif...   \n",
       "\n",
       "                                              target  flag  \n",
       "0  ¡Feliz semana y feliz año para tod@s! La Revol...     1  \n",
       "1  Que de mi escriban y digan lo que quieran. Si ...     0  \n",
       "2  ...de super carretera, ni soñadas antes de la ...     1  \n",
       "3  Tenemos más camiones que donaciones para envia...     0  \n",
       "4  ...de super carretera, ni soñadas antes de la ...     1  "
      ]
     },
     "execution_count": 49,
     "metadata": {},
     "output_type": "execute_result"
    }
   ],
   "source": [
    "train.head()"
   ]
  },
  {
   "cell_type": "code",
   "execution_count": 50,
   "metadata": {},
   "outputs": [
    {
     "data": {
      "text/plain": [
       "(43, 8)"
      ]
     },
     "execution_count": 50,
     "metadata": {},
     "output_type": "execute_result"
    }
   ],
   "source": [
    "path = os.path.join(data_dir,'sampledata', 'test.csv')\n",
    "test = pd.read_csv(path)\n",
    "test.shape"
   ]
  },
  {
   "cell_type": "code",
   "execution_count": 51,
   "metadata": {},
   "outputs": [
    {
     "data": {
      "text/html": [
       "<div>\n",
       "<style scoped>\n",
       "    .dataframe tbody tr th:only-of-type {\n",
       "        vertical-align: middle;\n",
       "    }\n",
       "\n",
       "    .dataframe tbody tr th {\n",
       "        vertical-align: top;\n",
       "    }\n",
       "\n",
       "    .dataframe thead th {\n",
       "        text-align: right;\n",
       "    }\n",
       "</style>\n",
       "<table border=\"1\" class=\"dataframe\">\n",
       "  <thead>\n",
       "    <tr style=\"text-align: right;\">\n",
       "      <th></th>\n",
       "      <th>source</th>\n",
       "      <th>target0</th>\n",
       "      <th>target1</th>\n",
       "      <th>target2</th>\n",
       "      <th>target3</th>\n",
       "      <th>target4</th>\n",
       "      <th>target5</th>\n",
       "      <th>label</th>\n",
       "    </tr>\n",
       "  </thead>\n",
       "  <tbody>\n",
       "    <tr>\n",
       "      <th>0</th>\n",
       "      <td>@forellanaroman @MashiRafael a ser otra venezu...</td>\n",
       "      <td>Zuly vive en El Relleno y es una sobreviviente...</td>\n",
       "      <td>Ya estamos al aire en @EcuadorTV junto a David...</td>\n",
       "      <td>Acaba de llegar una de nuestras patrullas de a...</td>\n",
       "      <td>Que de mi escriban y digan lo que quieran. Si ...</td>\n",
       "      <td>La premiación al estilo \"Champions\" será otro ...</td>\n",
       "      <td>...de super carretera, ni soñadas antes de la ...</td>\n",
       "      <td>5</td>\n",
       "    </tr>\n",
       "    <tr>\n",
       "      <th>1</th>\n",
       "      <td>@jmartinezjorge @MashiRafael Podrá pagar algún...</td>\n",
       "      <td>@DefensaEc al gobierno lo apoyamos con cal, at...</td>\n",
       "      <td>Conozco a Enner y sé lo responsable q es con t...</td>\n",
       "      <td>Y después nos dan lecciones de “libertad”: htt...</td>\n",
       "      <td>Qué manera de sufrir la gente. Nadie habló de ...</td>\n",
       "      <td>Ya estamos al aire en @EcuadorTV junto a David...</td>\n",
       "      <td>Por favor @DefensaEc déjennos seguir ayudando....</td>\n",
       "      <td>2</td>\n",
       "    </tr>\n",
       "    <tr>\n",
       "      <th>2</th>\n",
       "      <td>@roberto_guevar @RCiudadanaGye @MashiRafael @J...</td>\n",
       "      <td>Es muchísima la gente que ha confiado en nosot...</td>\n",
       "      <td>Zuly vive en El Relleno y es una sobreviviente...</td>\n",
       "      <td>Que jugador Alvez. Parece hecho para equipos c...</td>\n",
       "      <td>No lo insulta. Le lanza un \"beso volado\". Corr...</td>\n",
       "      <td>No sean mentirosos diario @eluniversocom, les ...</td>\n",
       "      <td>Me da risa los insatisfechos que desacreditan ...</td>\n",
       "      <td>4</td>\n",
       "    </tr>\n",
       "    <tr>\n",
       "      <th>3</th>\n",
       "      <td>@MashiRafael por favor haga q paguen a los pro...</td>\n",
       "      <td>...Naranjal. Protegen en total 85000 ha. Con l...</td>\n",
       "      <td>Barcelona vende más camisetas que  los 3 clube...</td>\n",
       "      <td>Barcelona vende más camisetas que  los 3 clube...</td>\n",
       "      <td>Así trabajamos recibiendo SUS donaciones y lle...</td>\n",
       "      <td>@DefensaEc al gobierno lo apoyamos con cal, at...</td>\n",
       "      <td>Qué manera de sufrir la gente. Nadie habló de ...</td>\n",
       "      <td>0</td>\n",
       "    </tr>\n",
       "    <tr>\n",
       "      <th>4</th>\n",
       "      <td>@MashiRafael @navasveracesar ! Y quizás puedas...</td>\n",
       "      <td>Qué manera de sufrir la gente. Nadie habló de ...</td>\n",
       "      <td>@TerraRobos #CasoTerrabienes la justicia que t...</td>\n",
       "      <td>A puertas de un feriado es prioritario valorar...</td>\n",
       "      <td>Qué manera de sufrir la gente. Nadie habló de ...</td>\n",
       "      <td>Quiero contarles q mi viejo salió de su contro...</td>\n",
       "      <td>¿Algún arquitecto con experiencia en diseños e...</td>\n",
       "      <td>1</td>\n",
       "    </tr>\n",
       "  </tbody>\n",
       "</table>\n",
       "</div>"
      ],
      "text/plain": [
       "                                              source  \\\n",
       "0  @forellanaroman @MashiRafael a ser otra venezu...   \n",
       "1  @jmartinezjorge @MashiRafael Podrá pagar algún...   \n",
       "2  @roberto_guevar @RCiudadanaGye @MashiRafael @J...   \n",
       "3  @MashiRafael por favor haga q paguen a los pro...   \n",
       "4  @MashiRafael @navasveracesar ! Y quizás puedas...   \n",
       "\n",
       "                                             target0  \\\n",
       "0  Zuly vive en El Relleno y es una sobreviviente...   \n",
       "1  @DefensaEc al gobierno lo apoyamos con cal, at...   \n",
       "2  Es muchísima la gente que ha confiado en nosot...   \n",
       "3  ...Naranjal. Protegen en total 85000 ha. Con l...   \n",
       "4  Qué manera de sufrir la gente. Nadie habló de ...   \n",
       "\n",
       "                                             target1  \\\n",
       "0  Ya estamos al aire en @EcuadorTV junto a David...   \n",
       "1  Conozco a Enner y sé lo responsable q es con t...   \n",
       "2  Zuly vive en El Relleno y es una sobreviviente...   \n",
       "3  Barcelona vende más camisetas que  los 3 clube...   \n",
       "4  @TerraRobos #CasoTerrabienes la justicia que t...   \n",
       "\n",
       "                                             target2  \\\n",
       "0  Acaba de llegar una de nuestras patrullas de a...   \n",
       "1  Y después nos dan lecciones de “libertad”: htt...   \n",
       "2  Que jugador Alvez. Parece hecho para equipos c...   \n",
       "3  Barcelona vende más camisetas que  los 3 clube...   \n",
       "4  A puertas de un feriado es prioritario valorar...   \n",
       "\n",
       "                                             target3  \\\n",
       "0  Que de mi escriban y digan lo que quieran. Si ...   \n",
       "1  Qué manera de sufrir la gente. Nadie habló de ...   \n",
       "2  No lo insulta. Le lanza un \"beso volado\". Corr...   \n",
       "3  Así trabajamos recibiendo SUS donaciones y lle...   \n",
       "4  Qué manera de sufrir la gente. Nadie habló de ...   \n",
       "\n",
       "                                             target4  \\\n",
       "0  La premiación al estilo \"Champions\" será otro ...   \n",
       "1  Ya estamos al aire en @EcuadorTV junto a David...   \n",
       "2  No sean mentirosos diario @eluniversocom, les ...   \n",
       "3  @DefensaEc al gobierno lo apoyamos con cal, at...   \n",
       "4  Quiero contarles q mi viejo salió de su contro...   \n",
       "\n",
       "                                             target5  label  \n",
       "0  ...de super carretera, ni soñadas antes de la ...      5  \n",
       "1  Por favor @DefensaEc déjennos seguir ayudando....      2  \n",
       "2  Me da risa los insatisfechos que desacreditan ...      4  \n",
       "3  Qué manera de sufrir la gente. Nadie habló de ...      0  \n",
       "4  ¿Algún arquitecto con experiencia en diseños e...      1  "
      ]
     },
     "execution_count": 51,
     "metadata": {},
     "output_type": "execute_result"
    }
   ],
   "source": [
    "test.head()"
   ]
  },
  {
   "cell_type": "code",
   "execution_count": 52,
   "metadata": {},
   "outputs": [
    {
     "data": {
      "text/plain": [
       "((366, 3), (51, 8), (43, 8))"
      ]
     },
     "execution_count": 52,
     "metadata": {},
     "output_type": "execute_result"
    }
   ],
   "source": [
    "path = os.path.join(data_dir,'sampledata', 'train_ids.csv')\n",
    "train = pd.read_csv(path)\n",
    "\n",
    "path = os.path.join(data_dir,'sampledata', 'valid_ids.csv')\n",
    "valid = pd.read_csv(path)\n",
    "\n",
    "path = os.path.join(data_dir,'sampledata', 'test_ids.csv')\n",
    "test = pd.read_csv(path)\n",
    "\n",
    "train.shape, valid.shape, test.shape"
   ]
  },
  {
   "cell_type": "code",
   "execution_count": 53,
   "metadata": {
    "scrolled": true
   },
   "outputs": [
    {
     "data": {
      "text/html": [
       "<div>\n",
       "<style scoped>\n",
       "    .dataframe tbody tr th:only-of-type {\n",
       "        vertical-align: middle;\n",
       "    }\n",
       "\n",
       "    .dataframe tbody tr th {\n",
       "        vertical-align: top;\n",
       "    }\n",
       "\n",
       "    .dataframe thead th {\n",
       "        text-align: right;\n",
       "    }\n",
       "</style>\n",
       "<table border=\"1\" class=\"dataframe\">\n",
       "  <thead>\n",
       "    <tr style=\"text-align: right;\">\n",
       "      <th></th>\n",
       "      <th>source</th>\n",
       "      <th>target</th>\n",
       "      <th>flag</th>\n",
       "    </tr>\n",
       "  </thead>\n",
       "  <tbody>\n",
       "    <tr>\n",
       "      <th>0</th>\n",
       "      <td>MashiRafael</td>\n",
       "      <td>684129141034188800</td>\n",
       "      <td>1</td>\n",
       "    </tr>\n",
       "    <tr>\n",
       "      <th>1</th>\n",
       "      <td>MashiRafael</td>\n",
       "      <td>723868795803197440</td>\n",
       "      <td>0</td>\n",
       "    </tr>\n",
       "    <tr>\n",
       "      <th>2</th>\n",
       "      <td>MashiRafael</td>\n",
       "      <td>684161784710852612</td>\n",
       "      <td>1</td>\n",
       "    </tr>\n",
       "    <tr>\n",
       "      <th>3</th>\n",
       "      <td>MashiRafael</td>\n",
       "      <td>722114517816197121</td>\n",
       "      <td>0</td>\n",
       "    </tr>\n",
       "    <tr>\n",
       "      <th>4</th>\n",
       "      <td>forellanaroman</td>\n",
       "      <td>684161784710852612</td>\n",
       "      <td>1</td>\n",
       "    </tr>\n",
       "  </tbody>\n",
       "</table>\n",
       "</div>"
      ],
      "text/plain": [
       "           source              target  flag\n",
       "0     MashiRafael  684129141034188800     1\n",
       "1     MashiRafael  723868795803197440     0\n",
       "2     MashiRafael  684161784710852612     1\n",
       "3     MashiRafael  722114517816197121     0\n",
       "4  forellanaroman  684161784710852612     1"
      ]
     },
     "execution_count": 53,
     "metadata": {},
     "output_type": "execute_result"
    }
   ],
   "source": [
    "train.head()"
   ]
  },
  {
   "cell_type": "code",
   "execution_count": 55,
   "metadata": {},
   "outputs": [
    {
     "data": {
      "text/html": [
       "<div>\n",
       "<style scoped>\n",
       "    .dataframe tbody tr th:only-of-type {\n",
       "        vertical-align: middle;\n",
       "    }\n",
       "\n",
       "    .dataframe tbody tr th {\n",
       "        vertical-align: top;\n",
       "    }\n",
       "\n",
       "    .dataframe thead th {\n",
       "        text-align: right;\n",
       "    }\n",
       "</style>\n",
       "<table border=\"1\" class=\"dataframe\">\n",
       "  <thead>\n",
       "    <tr style=\"text-align: right;\">\n",
       "      <th></th>\n",
       "      <th>source</th>\n",
       "      <th>target0</th>\n",
       "      <th>target1</th>\n",
       "      <th>target2</th>\n",
       "      <th>target3</th>\n",
       "      <th>target4</th>\n",
       "      <th>target5</th>\n",
       "      <th>label</th>\n",
       "    </tr>\n",
       "  </thead>\n",
       "  <tbody>\n",
       "    <tr>\n",
       "      <th>0</th>\n",
       "      <td>CumpleIndulac</td>\n",
       "      <td>731899303791300608</td>\n",
       "      <td>701947927279837184</td>\n",
       "      <td>723252289943789568</td>\n",
       "      <td>723868795803197440</td>\n",
       "      <td>807345026200203264</td>\n",
       "      <td>684161784710852612</td>\n",
       "      <td>5</td>\n",
       "    </tr>\n",
       "    <tr>\n",
       "      <th>1</th>\n",
       "      <td>yosoyelquesoy32</td>\n",
       "      <td>723265942755639296</td>\n",
       "      <td>784044215537893376</td>\n",
       "      <td>686013971086884864</td>\n",
       "      <td>697621603815923712</td>\n",
       "      <td>701947927279837184</td>\n",
       "      <td>723301197512347650</td>\n",
       "      <td>2</td>\n",
       "    </tr>\n",
       "    <tr>\n",
       "      <th>2</th>\n",
       "      <td>superjimmy27</td>\n",
       "      <td>725010403034537984</td>\n",
       "      <td>731899303791300608</td>\n",
       "      <td>753606972067446784</td>\n",
       "      <td>780262855450976257</td>\n",
       "      <td>686773318196789248</td>\n",
       "      <td>740898359813279744</td>\n",
       "      <td>4</td>\n",
       "    </tr>\n",
       "    <tr>\n",
       "      <th>3</th>\n",
       "      <td>gildatorres87</td>\n",
       "      <td>686886863047622656</td>\n",
       "      <td>697524353970409472</td>\n",
       "      <td>697518184522502144</td>\n",
       "      <td>724602042937913345</td>\n",
       "      <td>723265942755639296</td>\n",
       "      <td>697807962979573761</td>\n",
       "      <td>0</td>\n",
       "    </tr>\n",
       "    <tr>\n",
       "      <th>4</th>\n",
       "      <td>MMoyolem</td>\n",
       "      <td>697621603815923712</td>\n",
       "      <td>691446588762406913</td>\n",
       "      <td>810881938936524800</td>\n",
       "      <td>697807962979573761</td>\n",
       "      <td>719700455270588417</td>\n",
       "      <td>726085862728065025</td>\n",
       "      <td>1</td>\n",
       "    </tr>\n",
       "  </tbody>\n",
       "</table>\n",
       "</div>"
      ],
      "text/plain": [
       "            source             target0             target1  \\\n",
       "0    CumpleIndulac  731899303791300608  701947927279837184   \n",
       "1  yosoyelquesoy32  723265942755639296  784044215537893376   \n",
       "2     superjimmy27  725010403034537984  731899303791300608   \n",
       "3    gildatorres87  686886863047622656  697524353970409472   \n",
       "4         MMoyolem  697621603815923712  691446588762406913   \n",
       "\n",
       "              target2             target3             target4  \\\n",
       "0  723252289943789568  723868795803197440  807345026200203264   \n",
       "1  686013971086884864  697621603815923712  701947927279837184   \n",
       "2  753606972067446784  780262855450976257  686773318196789248   \n",
       "3  697518184522502144  724602042937913345  723265942755639296   \n",
       "4  810881938936524800  697807962979573761  719700455270588417   \n",
       "\n",
       "              target5  label  \n",
       "0  684161784710852612      5  \n",
       "1  723301197512347650      2  \n",
       "2  740898359813279744      4  \n",
       "3  697807962979573761      0  \n",
       "4  726085862728065025      1  "
      ]
     },
     "execution_count": 55,
     "metadata": {},
     "output_type": "execute_result"
    }
   ],
   "source": [
    "test.head()"
   ]
  },
  {
   "cell_type": "code",
   "execution_count": 58,
   "metadata": {},
   "outputs": [
    {
     "data": {
      "text/plain": [
       "39"
      ]
     },
     "execution_count": 58,
     "metadata": {},
     "output_type": "execute_result"
    }
   ],
   "source": [
    "test[test.source.isin(train.source)].source.nunique()"
   ]
  },
  {
   "cell_type": "code",
   "execution_count": null,
   "metadata": {},
   "outputs": [],
   "source": []
  }
 ],
 "metadata": {
  "kernelspec": {
   "display_name": "recsys_deepconv",
   "language": "python",
   "name": "recsys_deepconv"
  },
  "language_info": {
   "codemirror_mode": {
    "name": "ipython",
    "version": 3
   },
   "file_extension": ".py",
   "mimetype": "text/x-python",
   "name": "python",
   "nbconvert_exporter": "python",
   "pygments_lexer": "ipython3",
   "version": "3.7.3"
  }
 },
 "nbformat": 4,
 "nbformat_minor": 2
}
