{
 "cells": [
  {
   "cell_type": "code",
   "execution_count": 3,
   "metadata": {},
   "outputs": [],
   "source": [
    "%matplotlib inline\n",
    "import matplotlib.pyplot as plt\n",
    "import pandas as pd\n",
    "import os"
   ]
  },
  {
   "cell_type": "code",
   "execution_count": 4,
   "metadata": {},
   "outputs": [
    {
     "name": "stdout",
     "output_type": "stream",
     "text": [
      "TREC.data               microblogs.zip          trectweets.json\r\n",
      "US_Election.data        trec.csv                us_election.csv\r\n",
      "conversation_README.txt trectweets.csv          us_election.json\r\n"
     ]
    }
   ],
   "source": [
    "!ls /Users/johnny/data/nlp/microblog_conversation/"
   ]
  },
  {
   "cell_type": "code",
   "execution_count": 5,
   "metadata": {},
   "outputs": [
    {
     "name": "stdout",
     "output_type": "stream",
     "text": [
      "Format: <Conversation ID>\\t<Tweet ID>\\t<Reply To Tweet ID>\r",
      "\r\n",
      "0\t106084327581949952\tnull\r",
      "\r\n",
      "0\t678492701453627392\t106084327581949952\r",
      "\r\n",
      "1\t149589104168939520\tnull\r",
      "\r\n",
      "1\t373526119758049280\t149589104168939520\r",
      "\r\n",
      "1\t373528844516339712\t373526119758049280\r",
      "\r\n",
      "1\t665785184403513344\t373528844516339712\r",
      "\r\n",
      "2\t212966706786742274\tnull\r",
      "\r\n",
      "2\t213028459872653313\t212966706786742274\r",
      "\r\n",
      "3\t249159028570198019\tnull\r",
      "\r\n"
     ]
    }
   ],
   "source": [
    "!head /Users/johnny/data/nlp/microblog_conversation/US_Election.data"
   ]
  },
  {
   "cell_type": "code",
   "execution_count": 6,
   "metadata": {},
   "outputs": [],
   "source": [
    "data_dir= '/Users/johnny/data/nlp/microblog_conversation/'"
   ]
  },
  {
   "cell_type": "markdown",
   "metadata": {},
   "source": [
    "# Prepare data to download from twitter API"
   ]
  },
  {
   "cell_type": "code",
   "execution_count": 20,
   "metadata": {},
   "outputs": [
    {
     "name": "stdout",
     "output_type": "stream",
     "text": [
      "<class 'pandas.core.frame.DataFrame'>\n",
      "RangeIndex: 38999 entries, 0 to 38998\n",
      "Data columns (total 3 columns):\n",
      "conv_id        38999 non-null object\n",
      "id             38999 non-null object\n",
      "reply_to_id    31499 non-null object\n",
      "dtypes: object(3)\n",
      "memory usage: 914.1+ KB\n"
     ]
    }
   ],
   "source": [
    "cols = ['conv_id' , 'id', 'reply_to_id']\n",
    "path = os.path.join(data_dir, 'Trec.data')\n",
    "ds = pd.read_csv(path, sep='\\t', skiprows=1, names=cols, dtype=object)\n",
    "ds.info()"
   ]
  },
  {
   "cell_type": "code",
   "execution_count": 10,
   "metadata": {},
   "outputs": [
    {
     "data": {
      "text/html": [
       "<div>\n",
       "<style scoped>\n",
       "    .dataframe tbody tr th:only-of-type {\n",
       "        vertical-align: middle;\n",
       "    }\n",
       "\n",
       "    .dataframe tbody tr th {\n",
       "        vertical-align: top;\n",
       "    }\n",
       "\n",
       "    .dataframe thead th {\n",
       "        text-align: right;\n",
       "    }\n",
       "</style>\n",
       "<table border=\"1\" class=\"dataframe\">\n",
       "  <thead>\n",
       "    <tr style=\"text-align: right;\">\n",
       "      <th></th>\n",
       "      <th>conv_id</th>\n",
       "      <th>id</th>\n",
       "      <th>reply_to_id</th>\n",
       "    </tr>\n",
       "  </thead>\n",
       "  <tbody>\n",
       "    <tr>\n",
       "      <th>0</th>\n",
       "      <td>0</td>\n",
       "      <td>5621079719</td>\n",
       "      <td>NaN</td>\n",
       "    </tr>\n",
       "    <tr>\n",
       "      <th>1</th>\n",
       "      <td>0</td>\n",
       "      <td>34089140559544320</td>\n",
       "      <td>5621079719</td>\n",
       "    </tr>\n",
       "    <tr>\n",
       "      <th>2</th>\n",
       "      <td>1</td>\n",
       "      <td>5911874749</td>\n",
       "      <td>NaN</td>\n",
       "    </tr>\n",
       "    <tr>\n",
       "      <th>3</th>\n",
       "      <td>1</td>\n",
       "      <td>31744611152039936</td>\n",
       "      <td>5911874749</td>\n",
       "    </tr>\n",
       "    <tr>\n",
       "      <th>4</th>\n",
       "      <td>2</td>\n",
       "      <td>6496465397</td>\n",
       "      <td>NaN</td>\n",
       "    </tr>\n",
       "  </tbody>\n",
       "</table>\n",
       "</div>"
      ],
      "text/plain": [
       "  conv_id                 id reply_to_id\n",
       "0       0         5621079719         NaN\n",
       "1       0  34089140559544320  5621079719\n",
       "2       1         5911874749         NaN\n",
       "3       1  31744611152039936  5911874749\n",
       "4       2         6496465397         NaN"
      ]
     },
     "execution_count": 10,
     "metadata": {},
     "output_type": "execute_result"
    }
   ],
   "source": [
    "ds.head()"
   ]
  },
  {
   "cell_type": "code",
   "execution_count": 11,
   "metadata": {},
   "outputs": [
    {
     "data": {
      "text/plain": [
       "7500"
      ]
     },
     "execution_count": 11,
     "metadata": {},
     "output_type": "execute_result"
    }
   ],
   "source": [
    "ds.conv_id.nunique()"
   ]
  },
  {
   "cell_type": "code",
   "execution_count": 12,
   "metadata": {},
   "outputs": [
    {
     "data": {
      "text/plain": [
       "(38999, 31188)"
      ]
     },
     "execution_count": 12,
     "metadata": {},
     "output_type": "execute_result"
    }
   ],
   "source": [
    "ds.id.nunique(), ds.reply_to_id.nunique()"
   ]
  },
  {
   "cell_type": "code",
   "execution_count": 13,
   "metadata": {},
   "outputs": [
    {
     "data": {
      "text/plain": [
       "31188"
      ]
     },
     "execution_count": 13,
     "metadata": {},
     "output_type": "execute_result"
    }
   ],
   "source": [
    "ds[ds.reply_to_id.isin(ds.id)].reply_to_id.nunique()"
   ]
  },
  {
   "cell_type": "code",
   "execution_count": 35,
   "metadata": {},
   "outputs": [],
   "source": [
    "path=os.path.join(data_dir, 'us_election.csv')\n",
    "ds[['id']].to_csv(path, index=False)"
   ]
  },
  {
   "cell_type": "markdown",
   "metadata": {},
   "source": [
    "# EDA"
   ]
  },
  {
   "cell_type": "code",
   "execution_count": 16,
   "metadata": {},
   "outputs": [
    {
     "name": "stdout",
     "output_type": "stream",
     "text": [
      "<class 'pandas.core.frame.DataFrame'>\n",
      "RangeIndex: 34827 entries, 0 to 34826\n",
      "Data columns (total 5 columns):\n",
      "id                       34827 non-null object\n",
      "screen_name              34827 non-null object\n",
      "text                     34827 non-null object\n",
      "in_reply_to_status_id    27174 non-null object\n",
      "created_at               34827 non-null object\n",
      "dtypes: object(5)\n",
      "memory usage: 1.3+ MB\n"
     ]
    }
   ],
   "source": [
    "path = os.path.join(data_dir, 'trectweets.csv')\n",
    "tweets = pd.read_csv(path, dtype=object)\n",
    "tweets.info()"
   ]
  },
  {
   "cell_type": "code",
   "execution_count": 26,
   "metadata": {},
   "outputs": [
    {
     "data": {
      "text/plain": [
       "(38999, 7)"
      ]
     },
     "execution_count": 26,
     "metadata": {},
     "output_type": "execute_result"
    }
   ],
   "source": [
    "tmp = ds.merge(tweets, on='id', how='left')\n",
    "tmp.shape"
   ]
  },
  {
   "cell_type": "code",
   "execution_count": 30,
   "metadata": {},
   "outputs": [
    {
     "data": {
      "text/plain": [
       "(1704,)"
      ]
     },
     "execution_count": 30,
     "metadata": {},
     "output_type": "execute_result"
    }
   ],
   "source": [
    "tmp[tmp.text.isnull()].groupby('conv_id').size().shape"
   ]
  },
  {
   "cell_type": "code",
   "execution_count": 31,
   "metadata": {},
   "outputs": [
    {
     "data": {
      "text/html": [
       "<div>\n",
       "<style scoped>\n",
       "    .dataframe tbody tr th:only-of-type {\n",
       "        vertical-align: middle;\n",
       "    }\n",
       "\n",
       "    .dataframe tbody tr th {\n",
       "        vertical-align: top;\n",
       "    }\n",
       "\n",
       "    .dataframe thead th {\n",
       "        text-align: right;\n",
       "    }\n",
       "</style>\n",
       "<table border=\"1\" class=\"dataframe\">\n",
       "  <thead>\n",
       "    <tr style=\"text-align: right;\">\n",
       "      <th></th>\n",
       "      <th>conv_id</th>\n",
       "      <th>id</th>\n",
       "      <th>reply_to_id</th>\n",
       "      <th>screen_name</th>\n",
       "      <th>text</th>\n",
       "      <th>in_reply_to_status_id</th>\n",
       "      <th>created_at</th>\n",
       "    </tr>\n",
       "  </thead>\n",
       "  <tbody>\n",
       "    <tr>\n",
       "      <th>5</th>\n",
       "      <td>2</td>\n",
       "      <td>31777629853974528</td>\n",
       "      <td>6496465397</td>\n",
       "      <td>NaN</td>\n",
       "      <td>NaN</td>\n",
       "      <td>NaN</td>\n",
       "      <td>NaN</td>\n",
       "    </tr>\n",
       "    <tr>\n",
       "      <th>11</th>\n",
       "      <td>5</td>\n",
       "      <td>31753376664522752</td>\n",
       "      <td>10093975476</td>\n",
       "      <td>NaN</td>\n",
       "      <td>NaN</td>\n",
       "      <td>NaN</td>\n",
       "      <td>NaN</td>\n",
       "    </tr>\n",
       "    <tr>\n",
       "      <th>35</th>\n",
       "      <td>17</td>\n",
       "      <td>32354342744891392</td>\n",
       "      <td>24438878928</td>\n",
       "      <td>NaN</td>\n",
       "      <td>NaN</td>\n",
       "      <td>NaN</td>\n",
       "      <td>NaN</td>\n",
       "    </tr>\n",
       "    <tr>\n",
       "      <th>37</th>\n",
       "      <td>18</td>\n",
       "      <td>31450190732861440</td>\n",
       "      <td>25226069559</td>\n",
       "      <td>NaN</td>\n",
       "      <td>NaN</td>\n",
       "      <td>NaN</td>\n",
       "      <td>NaN</td>\n",
       "    </tr>\n",
       "    <tr>\n",
       "      <th>45</th>\n",
       "      <td>22</td>\n",
       "      <td>2948878097711104</td>\n",
       "      <td>2948510282420225</td>\n",
       "      <td>NaN</td>\n",
       "      <td>NaN</td>\n",
       "      <td>NaN</td>\n",
       "      <td>NaN</td>\n",
       "    </tr>\n",
       "  </tbody>\n",
       "</table>\n",
       "</div>"
      ],
      "text/plain": [
       "   conv_id                 id       reply_to_id screen_name text  \\\n",
       "5        2  31777629853974528        6496465397         NaN  NaN   \n",
       "11       5  31753376664522752       10093975476         NaN  NaN   \n",
       "35      17  32354342744891392       24438878928         NaN  NaN   \n",
       "37      18  31450190732861440       25226069559         NaN  NaN   \n",
       "45      22   2948878097711104  2948510282420225         NaN  NaN   \n",
       "\n",
       "   in_reply_to_status_id created_at  \n",
       "5                    NaN        NaN  \n",
       "11                   NaN        NaN  \n",
       "35                   NaN        NaN  \n",
       "37                   NaN        NaN  \n",
       "45                   NaN        NaN  "
      ]
     },
     "execution_count": 31,
     "metadata": {},
     "output_type": "execute_result"
    }
   ],
   "source": [
    "tmp[tmp.text.isnull()].head()"
   ]
  },
  {
   "cell_type": "code",
   "execution_count": 36,
   "metadata": {},
   "outputs": [
    {
     "data": {
      "text/html": [
       "<div>\n",
       "<style scoped>\n",
       "    .dataframe tbody tr th:only-of-type {\n",
       "        vertical-align: middle;\n",
       "    }\n",
       "\n",
       "    .dataframe tbody tr th {\n",
       "        vertical-align: top;\n",
       "    }\n",
       "\n",
       "    .dataframe thead th {\n",
       "        text-align: right;\n",
       "    }\n",
       "</style>\n",
       "<table border=\"1\" class=\"dataframe\">\n",
       "  <thead>\n",
       "    <tr style=\"text-align: right;\">\n",
       "      <th></th>\n",
       "      <th>conv_id</th>\n",
       "      <th>id</th>\n",
       "      <th>reply_to_id</th>\n",
       "      <th>screen_name</th>\n",
       "      <th>text</th>\n",
       "      <th>in_reply_to_status_id</th>\n",
       "      <th>created_at</th>\n",
       "    </tr>\n",
       "  </thead>\n",
       "  <tbody>\n",
       "    <tr>\n",
       "      <th>4</th>\n",
       "      <td>2</td>\n",
       "      <td>6496465397</td>\n",
       "      <td>NaN</td>\n",
       "      <td>planetjedward</td>\n",
       "      <td>Hi guys we are finally on Twitter how are you ...</td>\n",
       "      <td>NaN</td>\n",
       "      <td>Wed Dec 09 13:45:06 +0000 2009</td>\n",
       "    </tr>\n",
       "    <tr>\n",
       "      <th>5</th>\n",
       "      <td>2</td>\n",
       "      <td>31777629853974528</td>\n",
       "      <td>6496465397</td>\n",
       "      <td>NaN</td>\n",
       "      <td>NaN</td>\n",
       "      <td>NaN</td>\n",
       "      <td>NaN</td>\n",
       "    </tr>\n",
       "  </tbody>\n",
       "</table>\n",
       "</div>"
      ],
      "text/plain": [
       "  conv_id                 id reply_to_id    screen_name  \\\n",
       "4       2         6496465397         NaN  planetjedward   \n",
       "5       2  31777629853974528  6496465397            NaN   \n",
       "\n",
       "                                                text in_reply_to_status_id  \\\n",
       "4  Hi guys we are finally on Twitter how are you ...                   NaN   \n",
       "5                                                NaN                   NaN   \n",
       "\n",
       "                       created_at  \n",
       "4  Wed Dec 09 13:45:06 +0000 2009  \n",
       "5                             NaN  "
      ]
     },
     "execution_count": 36,
     "metadata": {},
     "output_type": "execute_result"
    }
   ],
   "source": [
    "tmp[tmp.conv_id=='2']"
   ]
  },
  {
   "cell_type": "code",
   "execution_count": 38,
   "metadata": {},
   "outputs": [
    {
     "data": {
      "text/plain": [
       "<matplotlib.axes._subplots.AxesSubplot at 0x11cd82f60>"
      ]
     },
     "execution_count": 38,
     "metadata": {},
     "output_type": "execute_result"
    },
    {
     "data": {
      "image/png": "[encoded data removed]",
      "text/plain": [
       "<Figure size 432x288 with 1 Axes>"
      ]
     },
     "metadata": {
      "needs_background": "light"
     },
     "output_type": "display_data"
    }
   ],
   "source": [
    "tmp.groupby('conv_id').size().plot.hist(bins=50)"
   ]
  },
  {
   "cell_type": "code",
   "execution_count": 40,
   "metadata": {},
   "outputs": [
    {
     "data": {
      "image/png": "[encoded data removed]",
      "text/plain": [
       "<Figure size 432x288 with 1 Axes>"
      ]
     },
     "metadata": {
      "needs_background": "light"
     },
     "output_type": "display_data"
    }
   ],
   "source": [
    "tmp[tmp.text.isnull()].groupby('conv_id').size().plot.hist(bins=50)\n",
    "plt.yscale('log')"
   ]
  },
  {
   "cell_type": "code",
   "execution_count": 41,
   "metadata": {},
   "outputs": [
    {
     "data": {
      "text/plain": [
       "(30053, 7)"
      ]
     },
     "execution_count": 41,
     "metadata": {},
     "output_type": "execute_result"
    }
   ],
   "source": [
    "tmp[~tmp.conv_id.isin( tmp[tmp.text.isnull()].conv_id )].shape"
   ]
  },
  {
   "cell_type": "markdown",
   "metadata": {},
   "source": [
    "we need to filter conversations with deleted tweets"
   ]
  },
  {
   "cell_type": "code",
   "execution_count": 42,
   "metadata": {},
   "outputs": [],
   "source": [
    "path = os.path.join(data_dir, 'trec.csv')\n",
    "dsfinal = tmp[~tmp.conv_id.isin( tmp[tmp.text.isnull()].conv_id )]\n",
    "dsfinal.to_csv(path, index=False)"
   ]
  },
  {
   "cell_type": "code",
   "execution_count": 44,
   "metadata": {},
   "outputs": [
    {
     "data": {
      "text/html": [
       "<div>\n",
       "<style scoped>\n",
       "    .dataframe tbody tr th:only-of-type {\n",
       "        vertical-align: middle;\n",
       "    }\n",
       "\n",
       "    .dataframe tbody tr th {\n",
       "        vertical-align: top;\n",
       "    }\n",
       "\n",
       "    .dataframe thead th {\n",
       "        text-align: right;\n",
       "    }\n",
       "</style>\n",
       "<table border=\"1\" class=\"dataframe\">\n",
       "  <thead>\n",
       "    <tr style=\"text-align: right;\">\n",
       "      <th></th>\n",
       "      <th>conv_id</th>\n",
       "      <th>id</th>\n",
       "      <th>reply_to_id</th>\n",
       "      <th>screen_name</th>\n",
       "      <th>text</th>\n",
       "      <th>in_reply_to_status_id</th>\n",
       "      <th>created_at</th>\n",
       "    </tr>\n",
       "  </thead>\n",
       "  <tbody>\n",
       "    <tr>\n",
       "      <th>0</th>\n",
       "      <td>0</td>\n",
       "      <td>5621079719</td>\n",
       "      <td>NaN</td>\n",
       "      <td>justinbieber</td>\n",
       "      <td>i stink at math! ughhh.</td>\n",
       "      <td>NaN</td>\n",
       "      <td>Wed Nov 11 15:24:12 +0000 2009</td>\n",
       "    </tr>\n",
       "    <tr>\n",
       "      <th>1</th>\n",
       "      <td>0</td>\n",
       "      <td>34089140559544320</td>\n",
       "      <td>5621079719</td>\n",
       "      <td>osnapxari</td>\n",
       "      <td>@justinbieber don't worry we all do :) follow me</td>\n",
       "      <td>5621079719</td>\n",
       "      <td>Sun Feb 06 03:20:59 +0000 2011</td>\n",
       "    </tr>\n",
       "    <tr>\n",
       "      <th>2</th>\n",
       "      <td>1</td>\n",
       "      <td>5911874749</td>\n",
       "      <td>NaN</td>\n",
       "      <td>LeaMichele</td>\n",
       "      <td>Omg Vampire Diaries this week!?!? Who saw it??...</td>\n",
       "      <td>NaN</td>\n",
       "      <td>Sat Nov 21 05:27:34 +0000 2009</td>\n",
       "    </tr>\n",
       "    <tr>\n",
       "      <th>3</th>\n",
       "      <td>1</td>\n",
       "      <td>31744611152039936</td>\n",
       "      <td>5911874749</td>\n",
       "      <td>gleekR5fan4life</td>\n",
       "      <td>@msleamichele haha I luv tht show....addicting</td>\n",
       "      <td>5911874749</td>\n",
       "      <td>Sun Jan 30 16:04:39 +0000 2011</td>\n",
       "    </tr>\n",
       "    <tr>\n",
       "      <th>6</th>\n",
       "      <td>3</td>\n",
       "      <td>7135277765</td>\n",
       "      <td>NaN</td>\n",
       "      <td>justinbieber</td>\n",
       "      <td>#itsabieberthing when you have the greatest fa...</td>\n",
       "      <td>NaN</td>\n",
       "      <td>Mon Dec 28 21:24:15 +0000 2009</td>\n",
       "    </tr>\n",
       "  </tbody>\n",
       "</table>\n",
       "</div>"
      ],
      "text/plain": [
       "  conv_id                 id reply_to_id      screen_name  \\\n",
       "0       0         5621079719         NaN     justinbieber   \n",
       "1       0  34089140559544320  5621079719        osnapxari   \n",
       "2       1         5911874749         NaN       LeaMichele   \n",
       "3       1  31744611152039936  5911874749  gleekR5fan4life   \n",
       "6       3         7135277765         NaN     justinbieber   \n",
       "\n",
       "                                                text in_reply_to_status_id  \\\n",
       "0                            i stink at math! ughhh.                   NaN   \n",
       "1   @justinbieber don't worry we all do :) follow me            5621079719   \n",
       "2  Omg Vampire Diaries this week!?!? Who saw it??...                   NaN   \n",
       "3     @msleamichele haha I luv tht show....addicting            5911874749   \n",
       "6  #itsabieberthing when you have the greatest fa...                   NaN   \n",
       "\n",
       "                       created_at  \n",
       "0  Wed Nov 11 15:24:12 +0000 2009  \n",
       "1  Sun Feb 06 03:20:59 +0000 2011  \n",
       "2  Sat Nov 21 05:27:34 +0000 2009  \n",
       "3  Sun Jan 30 16:04:39 +0000 2011  \n",
       "6  Mon Dec 28 21:24:15 +0000 2009  "
      ]
     },
     "execution_count": 44,
     "metadata": {},
     "output_type": "execute_result"
    }
   ],
   "source": [
    "dsfinal.head()"
   ]
  },
  {
   "cell_type": "code",
   "execution_count": null,
   "metadata": {},
   "outputs": [],
   "source": []
  }
 ],
 "metadata": {
  "kernelspec": {
   "display_name": "Python 3",
   "language": "python",
   "name": "python3"
  },
  "language_info": {
   "codemirror_mode": {
    "name": "ipython",
    "version": 3
   },
   "file_extension": ".py",
   "mimetype": "text/x-python",
   "name": "python",
   "nbconvert_exporter": "python",
   "pygments_lexer": "ipython3",
   "version": "3.7.3"
  }
 },
 "nbformat": 4,
 "nbformat_minor": 2
}
