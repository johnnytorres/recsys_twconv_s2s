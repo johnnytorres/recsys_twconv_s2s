{
 "cells": [
  {
   "cell_type": "code",
   "execution_count": 3,
   "metadata": {},
   "outputs": [],
   "source": [
    "%matplotlib inline\n",
    "import matplotlib.pyplot as plt\n",
    "import pandas as pd\n",
    "import seaborn as sns\n",
    "import os"
   ]
  },
  {
   "cell_type": "code",
   "execution_count": 127,
   "metadata": {},
   "outputs": [
    {
     "data": {
      "text/plain": [
       "(26181, 16)"
      ]
     },
     "execution_count": 127,
     "metadata": {},
     "output_type": "execute_result"
    }
   ],
   "source": [
    "data_dir='~/.keras/datasets/twconv_2016_usersec_v9/'\n",
    "data_dir=os.path.expanduser(data_dir)\n",
    "fpath = os.path.join(data_dir, 'dialogs.csv')\n",
    "ds = pd.read_csv(fpath, parse_dates=['timestamp'])\n",
    "ds.shape"
   ]
  },
  {
   "cell_type": "code",
   "execution_count": 128,
   "metadata": {},
   "outputs": [
    {
     "data": {
      "text/plain": [
       "((1170, 12), (1170, 12))"
      ]
     },
     "execution_count": 128,
     "metadata": {},
     "output_type": "execute_result"
    }
   ],
   "source": [
    "data_dir='~/.keras/datasets/twconv_2016_usersec_v9/'\n",
    "data_dir=os.path.expanduser(data_dir)\n",
    "fpath = os.path.join(data_dir, 'alldataconvs', 'test_ids.csv')\n",
    "test_ids_convs = pd.read_csv(fpath)\n",
    "fpath = os.path.join(data_dir, 'alldatausers', 'test_ids.csv')\n",
    "test_ids_users = pd.read_csv(fpath)\n",
    "test_ids_convs.shape, test_ids_users.shape"
   ]
  },
  {
   "cell_type": "code",
   "execution_count": 129,
   "metadata": {},
   "outputs": [
    {
     "data": {
      "text/plain": [
       "((1170, 10), (1170, 10))"
      ]
     },
     "execution_count": 129,
     "metadata": {},
     "output_type": "execute_result"
    }
   ],
   "source": [
    "data_dir='~/data/results/twconvrecsys/'\n",
    "data_dir=os.path.expanduser(data_dir)\n",
    "fpath = os.path.join(data_dir, 'twconv_2016_usersec_v9_alldataconvs', 'lstm', 'predictions.csv')\n",
    "test_preds_convs = pd.read_csv(fpath, header=None)\n",
    "fpath = os.path.join(data_dir, 'twconv_2016_usersec_v9_alldatausers', 'lstm', 'predictions.csv')\n",
    "test_preds_users = pd.read_csv(fpath, header=None)\n",
    "test_preds_convs.shape, test_preds_users.shape"
   ]
  },
  {
   "cell_type": "markdown",
   "metadata": {},
   "source": [
    "look for the indexes for each popular user"
   ]
  },
  {
   "cell_type": "code",
   "execution_count": 130,
   "metadata": {},
   "outputs": [
    {
     "data": {
      "text/plain": [
       "Index(['MashiRafael', 'aguschmer', 'KarlaMoralesR'], dtype='object', name='screen_name')"
      ]
     },
     "execution_count": 130,
     "metadata": {},
     "output_type": "execute_result"
    }
   ],
   "source": [
    "ds.groupby('screen_name').size().sort_values(ascending=False).head(3).index"
   ]
  },
  {
   "cell_type": "code",
   "execution_count": 131,
   "metadata": {},
   "outputs": [],
   "source": [
    "from itertools import combinations\n",
    "domain_users = ['KarlaMoralesR', 'aguschmer', 'MashiRafael']\n",
    "comb_users = combinations(domain_users, 2)\n",
    "comb_users = list(comb_users)\n"
   ]
  },
  {
   "cell_type": "code",
   "execution_count": 132,
   "metadata": {},
   "outputs": [
    {
     "name": "stdout",
     "output_type": "stream",
     "text": [
      "849\n",
      "1169\n",
      "2043\n",
      "181\n"
     ]
    }
   ],
   "source": [
    "users = {}\n",
    "for name in domain_users:\n",
    "    conv_ids = ds[ds.screen_name==name].conversation_id\n",
    "    u = ds[ds.conversation_id.isin(conv_ids)].screen_name.unique()\n",
    "    users[name] = set(u)\n",
    "\n",
    "iname = 'intersect'\n",
    "users[iname] = []\n",
    "\n",
    "for name1, name2 in comb_users:\n",
    "    iusers = users[name1].intersection(users[name2])\n",
    "    users[iname].extend(iusers)\n",
    "    users[name1] -= iusers\n",
    "    users[name2] -= iusers\n",
    "users[iname] = set(users[iname])\n",
    "    \n",
    "for name in domain_users:        \n",
    "    print(len(users[name]))\n",
    "print(len(users[iname]))"
   ]
  },
  {
   "cell_type": "code",
   "execution_count": 133,
   "metadata": {},
   "outputs": [
    {
     "name": "stdout",
     "output_type": "stream",
     "text": [
      "953\n",
      "1404\n",
      "3298\n",
      "0\n"
     ]
    }
   ],
   "source": [
    "conversations = {}\n",
    "for name in domain_users:\n",
    "    conv_ids = ds[ds.screen_name==name].dialog_id.unique()\n",
    "    conversations[name] = set(conv_ids)\n",
    "len(conversations)\n",
    "\n",
    "conversations[iname] = []\n",
    "\n",
    "for name1, name2 in comb_users:\n",
    "    iconvs = conversations[name1].intersection(conversations[name2])\n",
    "    conversations[iname].extend(iconvs)\n",
    "    conversations[name1] -= iconvs\n",
    "    conversations[name2] -= iconvs\n",
    "conversations[iname] = set(conversations[iname])\n",
    "\n",
    "for name in domain_users:        \n",
    "    print(len(conversations[name]))\n",
    "print(len(conversations[iname]))"
   ]
  },
  {
   "cell_type": "markdown",
   "metadata": {},
   "source": [
    "match conversations recommendations in test set"
   ]
  },
  {
   "cell_type": "code",
   "execution_count": 139,
   "metadata": {},
   "outputs": [
    {
     "name": "stdout",
     "output_type": "stream",
     "text": [
      "KarlaMoralesR (168, 10) /Users/johnnytorres/data/results/twconvrecsys/twconv_2016_usersec_v9_alldataconvs_uKarlaMoralesR/lstm\n",
      "aguschmer (229, 10) /Users/johnnytorres/data/results/twconvrecsys/twconv_2016_usersec_v9_alldataconvs_uaguschmer/lstm\n",
      "MashiRafael (622, 10) /Users/johnnytorres/data/results/twconvrecsys/twconv_2016_usersec_v9_alldataconvs_uMashiRafael/lstm\n",
      "intersect (154, 10) /Users/johnnytorres/data/results/twconvrecsys/twconv_2016_usersec_v9_alldataconvs_uintersect/lstm\n",
      "1173\n",
      "1170\n"
     ]
    }
   ],
   "source": [
    "unames=domain_users.copy()\n",
    "unames.append(iname)\n",
    "total_preds=0\n",
    "all_ix = []\n",
    "data_dir='~/data/results/twconvrecsys/'\n",
    "data_dir=os.path.expanduser(data_dir)\n",
    "basepath = os.path.join(data_dir, 'twconv_2016_usersec_v9_alldataconvs_u{}', 'lstm')\n",
    "\n",
    "for name in unames:\n",
    "    ix=test_ids_convs[test_ids_convs.source.isin(users[name])].index\n",
    "    all_ix.extend(list(ix))\n",
    "    uds = test_preds_convs.iloc[ix,:]\n",
    "    tds = test_ids_convs.iloc[ix,:]\n",
    "    bpath = basepath.format(name)\n",
    "    print(name, uds.shape, bpath)\n",
    "    os.makedirs(bpath, exist_ok=True)\n",
    "    fpath = os.path.join(bpath, 'test.csvrecords')\n",
    "    tds.to_csv(fpath, index=False)    \n",
    "    fpath = os.path.join(bpath, 'predictions.csv')\n",
    "    uds.to_csv(fpath, index=False, header=None)\n",
    "    total_preds += uds.shape[0]\n",
    "print(total_preds)\n",
    "print(len(set(all_ix)))"
   ]
  },
  {
   "cell_type": "code",
   "execution_count": 140,
   "metadata": {},
   "outputs": [
    {
     "name": "stdout",
     "output_type": "stream",
     "text": [
      "KarlaMoralesR (228, 10) /Users/johnnytorres/data/results/twconvrecsys/twconv_2016_usersec_v9_alldatausers_uKarlaMoralesR/lstm\n",
      "aguschmer (289, 10) /Users/johnnytorres/data/results/twconvrecsys/twconv_2016_usersec_v9_alldatausers_uaguschmer/lstm\n",
      "MashiRafael (653, 10) /Users/johnnytorres/data/results/twconvrecsys/twconv_2016_usersec_v9_alldatausers_uMashiRafael/lstm\n",
      "intersect (0, 10) /Users/johnnytorres/data/results/twconvrecsys/twconv_2016_usersec_v9_alldatausers_uintersect/lstm\n",
      "1170\n",
      "1170\n"
     ]
    }
   ],
   "source": [
    "total_preds=0\n",
    "all_ix = []\n",
    "data_dir='~/data/results/twconvrecsys/'\n",
    "data_dir=os.path.expanduser(data_dir)\n",
    "basepath = os.path.join(data_dir, 'twconv_2016_usersec_v9_alldatausers_u{}', 'lstm')\n",
    "\n",
    "for name in unames:\n",
    "    ix=test_ids_users[test_ids_users.source.isin(conversations[name])].index\n",
    "    all_ix.extend(list(ix))\n",
    "    uds = test_preds_users.iloc[ix,:]\n",
    "    tds = test_ids_users.iloc[ix,:]\n",
    "    bpath = basepath.format(name)\n",
    "    print(name, uds.shape, bpath)\n",
    "    os.makedirs(bpath, exist_ok=True)\n",
    "    fpath = os.path.join(bpath, 'test.csvrecords')\n",
    "    tds.to_csv(fpath, index=False)\n",
    "    fpath = os.path.join(bpath, 'predictions.csv')\n",
    "    uds.to_csv(fpath, index=False, header=None)\n",
    "    total_preds += uds.shape[0]\n",
    "print(total_preds)\n",
    "print(len(set(all_ix)))"
   ]
  }
 ],
 "metadata": {
  "kernelspec": {
   "display_name": "Python 3",
   "language": "python",
   "name": "python3"
  },
  "language_info": {
   "codemirror_mode": {
    "name": "ipython",
    "version": 3
   },
   "file_extension": ".py",
   "mimetype": "text/x-python",
   "name": "python",
   "nbconvert_exporter": "python",
   "pygments_lexer": "ipython3",
   "version": "3.7.3"
  }
 },
 "nbformat": 4,
 "nbformat_minor": 2
}
