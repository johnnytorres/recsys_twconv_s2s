{
 "cells": [
  {
   "cell_type": "code",
   "execution_count": 1,
   "metadata": {},
   "outputs": [],
   "source": [
    "import pandas as pd\n",
    "import os"
   ]
  },
  {
   "cell_type": "code",
   "execution_count": 95,
   "metadata": {},
   "outputs": [],
   "source": [
    "results_dir='~/data/results/twconvrecsys/twconvrecsys_results_twconv_2016_usersec_cftopics'\n",
    "results_dir=os.path.expanduser(results_dir)"
   ]
  },
  {
   "cell_type": "code",
   "execution_count": 96,
   "metadata": {},
   "outputs": [
    {
     "data": {
      "text/plain": [
       "((47095, 4), 3464, 4234)"
      ]
     },
     "execution_count": 96,
     "metadata": {},
     "output_type": "execute_result"
    }
   ],
   "source": [
    "fpath = os.path.join(results_dir, 'twconv_2016_usersec_dialogs.data_0.1_0.5_10_10_0.75_200_0_score.out')\n",
    "ds = pd.read_csv(fpath, sep='\\t', names=['user_id','conv_id','y_pred','y_true'])\n",
    "ds.shape, ds.conv_id.nunique(), ds.user_id.nunique()"
   ]
  },
  {
   "cell_type": "code",
   "execution_count": 97,
   "metadata": {},
   "outputs": [
    {
     "data": {
      "text/html": [
       "<div>\n",
       "<style scoped>\n",
       "    .dataframe tbody tr th:only-of-type {\n",
       "        vertical-align: middle;\n",
       "    }\n",
       "\n",
       "    .dataframe tbody tr th {\n",
       "        vertical-align: top;\n",
       "    }\n",
       "\n",
       "    .dataframe thead th {\n",
       "        text-align: right;\n",
       "    }\n",
       "</style>\n",
       "<table border=\"1\" class=\"dataframe\">\n",
       "  <thead>\n",
       "    <tr style=\"text-align: right;\">\n",
       "      <th></th>\n",
       "      <th>user_id</th>\n",
       "      <th>conv_id</th>\n",
       "      <th>y_pred</th>\n",
       "      <th>y_true</th>\n",
       "    </tr>\n",
       "  </thead>\n",
       "  <tbody>\n",
       "    <tr>\n",
       "      <th>0</th>\n",
       "      <td>4</td>\n",
       "      <td>1</td>\n",
       "      <td>0.027162</td>\n",
       "      <td>1</td>\n",
       "    </tr>\n",
       "    <tr>\n",
       "      <th>1</th>\n",
       "      <td>15</td>\n",
       "      <td>8</td>\n",
       "      <td>0.902758</td>\n",
       "      <td>1</td>\n",
       "    </tr>\n",
       "    <tr>\n",
       "      <th>2</th>\n",
       "      <td>19</td>\n",
       "      <td>16</td>\n",
       "      <td>-0.017417</td>\n",
       "      <td>1</td>\n",
       "    </tr>\n",
       "    <tr>\n",
       "      <th>3</th>\n",
       "      <td>21</td>\n",
       "      <td>19</td>\n",
       "      <td>0.207134</td>\n",
       "      <td>1</td>\n",
       "    </tr>\n",
       "    <tr>\n",
       "      <th>4</th>\n",
       "      <td>25</td>\n",
       "      <td>23</td>\n",
       "      <td>-0.005840</td>\n",
       "      <td>1</td>\n",
       "    </tr>\n",
       "  </tbody>\n",
       "</table>\n",
       "</div>"
      ],
      "text/plain": [
       "   user_id  conv_id    y_pred  y_true\n",
       "0        4        1  0.027162       1\n",
       "1       15        8  0.902758       1\n",
       "2       19       16 -0.017417       1\n",
       "3       21       19  0.207134       1\n",
       "4       25       23 -0.005840       1"
      ]
     },
     "execution_count": 97,
     "metadata": {},
     "output_type": "execute_result"
    }
   ],
   "source": [
    "ds.head()"
   ]
  },
  {
   "cell_type": "code",
   "execution_count": 98,
   "metadata": {},
   "outputs": [
    {
     "data": {
      "text/plain": [
       "array([   4,   15,   19, ..., 4228, 4180, 4160])"
      ]
     },
     "execution_count": 98,
     "metadata": {},
     "output_type": "execute_result"
    }
   ],
   "source": [
    "users = ds[ds.y_true==1].user_id.unique()\n",
    "users"
   ]
  },
  {
   "cell_type": "code",
   "execution_count": 99,
   "metadata": {},
   "outputs": [],
   "source": [
    "groups = ds[ds.user_id.isin(users)].groupby('user_id')\n",
    "\n",
    "test_data = []\n",
    "predictions = []\n",
    "\n",
    "for user_id, user_scores in groups:\n",
    "    distractors = user_scores[user_scores.y_true==0].head(9)\n",
    "    ground = user_scores[user_scores.y_true==1]\n",
    "\n",
    "    for ix, row in ground.iterrows():\n",
    "        \n",
    "        instance = [user_id]\n",
    "        instance.append(row['conv_id'])\n",
    "        instance.extend(distractors.conv_id.values)\n",
    "        label = 0#list(user_scores.y_true.values).index(1)\n",
    "        instance.append(label)\n",
    "        test_data.append(instance)\n",
    "        preds = [row['y_pred']]\n",
    "        preds.extend( distractors.y_pred.values )\n",
    "        predictions.append(preds)"
   ]
  },
  {
   "cell_type": "code",
   "execution_count": 100,
   "metadata": {},
   "outputs": [
    {
     "data": {
      "text/plain": [
       "(4755, 4755)"
      ]
     },
     "execution_count": 100,
     "metadata": {},
     "output_type": "execute_result"
    }
   ],
   "source": [
    "len(test_data), len(predictions)"
   ]
  },
  {
   "cell_type": "code",
   "execution_count": 101,
   "metadata": {},
   "outputs": [],
   "source": [
    "data_dir='~/data/twconv/twconv_2016_usersec/cft'\n",
    "data_dir=os.path.expanduser(data_dir)\n",
    "os.makedirs(data_dir, exist_ok=True)\n"
   ]
  },
  {
   "cell_type": "code",
   "execution_count": 102,
   "metadata": {},
   "outputs": [
    {
     "data": {
      "text/plain": [
       "(4755, 12)"
      ]
     },
     "execution_count": 102,
     "metadata": {},
     "output_type": "execute_result"
    }
   ],
   "source": [
    "cols='source,target0,target1,target2,target3,target4,target5,target6,target7,target8,target9,label'\n",
    "cols=cols.split(',')\n",
    "test_ds = pd.DataFrame(test_data, columns=cols)\n",
    "fpath = os.path.join(data_dir, 'train.csvrecords')\n",
    "test_ds.to_csv(fpath, index=False)\n",
    "fpath = os.path.join(data_dir, 'valid.csvrecords')\n",
    "test_ds.to_csv(fpath, index=False)\n",
    "fpath = os.path.join(data_dir, 'test.csvrecords')\n",
    "test_ds.to_csv(fpath, index=False)\n",
    "test_ds.shape"
   ]
  },
  {
   "cell_type": "code",
   "execution_count": 103,
   "metadata": {},
   "outputs": [
    {
     "data": {
      "text/plain": [
       "(4755, 12)"
      ]
     },
     "execution_count": 103,
     "metadata": {},
     "output_type": "execute_result"
    }
   ],
   "source": [
    "results_dir='~/data/results/twconvrecsys/twconv_2016_users_v3/cft'\n",
    "results_dir=os.path.expanduser(results_dir)\n",
    "os.makedirs(results_dir, exist_ok=True)\n",
    "fpath = os.path.join(results_dir, 'predictions.csv')\n",
    "pred_ds = pd.DataFrame(predictions)\n",
    "pred_ds.to_csv(fpath, index=False, header=None)\n",
    "test_ds.shape"
   ]
  },
  {
   "cell_type": "code",
   "execution_count": null,
   "metadata": {},
   "outputs": [],
   "source": []
  }
 ],
 "metadata": {
  "kernelspec": {
   "display_name": "recsys_deepconv",
   "language": "python",
   "name": "recsys_deepconv"
  },
  "language_info": {
   "codemirror_mode": {
    "name": "ipython",
    "version": 3
   },
   "file_extension": ".py",
   "mimetype": "text/x-python",
   "name": "python",
   "nbconvert_exporter": "python",
   "pygments_lexer": "ipython3",
   "version": "3.7.3"
  }
 },
 "nbformat": 4,
 "nbformat_minor": 2
}
