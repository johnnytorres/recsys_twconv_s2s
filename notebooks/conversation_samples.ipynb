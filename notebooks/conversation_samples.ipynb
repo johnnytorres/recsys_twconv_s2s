{
 "cells": [
  {
   "cell_type": "code",
   "execution_count": 1,
   "metadata": {
    "collapsed": true
   },
   "outputs": [],
   "source": [
    "%matplotlib inline\n",
    "import pandas as pd\n",
    "import numpy as np"
   ]
  },
  {
   "cell_type": "code",
   "execution_count": 2,
   "metadata": {},
   "outputs": [
    {
     "data": {
      "text/plain": [
       "(520263, 10)"
      ]
     },
     "execution_count": 2,
     "metadata": {},
     "output_type": "execute_result"
    }
   ],
   "source": [
    "ds = pd.read_csv('~/data/twitter/convec_ds.csv')\n",
    "ds.shape"
   ]
  },
  {
   "cell_type": "code",
   "execution_count": 3,
   "metadata": {
    "collapsed": false
   },
   "outputs": [
    {
     "data": {
      "text/plain": [
       "Index(['id', 'screen_name', 'latitude', 'longitude', 'in_reply_to_status_id',\n       'text', 'timestamp', 'conversation_id', 'conversation_deep', 'url'],\n      dtype='object')"
      ]
     },
     "execution_count": 3,
     "metadata": {},
     "output_type": "execute_result"
    }
   ],
   "source": [
    "ds.columns"
   ]
  },
  {
   "cell_type": "code",
   "execution_count": 5,
   "metadata": {
    "collapsed": false
   },
   "outputs": [
    {
     "data": {
      "text/plain": [
       "screen_name\naguschmer        5257\nMashiRafael      5060\nKarlaMoralesR    1768\nadeljar            11\nla_abogada_        11\ndtype: int64"
      ]
     },
     "execution_count": 5,
     "metadata": {},
     "output_type": "execute_result"
    }
   ],
   "source": [
    "ds[ds.in_reply_to_status_id.isnull()].groupby('screen_name').size().sort_values(ascending=False).head()\n"
   ]
  },
  {
   "cell_type": "code",
   "execution_count": 11,
   "metadata": {},
   "outputs": [],
   "source": [
    "root_conv = ds[ds.in_reply_to_status_id.isnull()]\n",
    "sample1 = root_conv[root_conv.screen_name=='aguschmer']"
   ]
  },
  {
   "cell_type": "code",
   "execution_count": 15,
   "metadata": {
    "collapsed": false
   },
   "outputs": [
    {
     "data": {
      "text/plain": [
       "array([['Por si acaso no era mentira lo de las entradas de @SebastianYatra y @piso21music jajaja.... las del concierto de es… https://t.co/ZSkBRNwtCH',\n        961673425294102528],\n       ['Con razón hizo buen trabajo.Un árbitro q reacciona con tanto humor merece q le den la final jajaja http://t.co/59HCp2rPej vía @xabierloor',\n        479403384584568834]], dtype=object)"
      ]
     },
     "execution_count": 15,
     "metadata": {},
     "output_type": "execute_result"
    }
   ],
   "source": [
    "sample1.sample(2)[['text','conversation_id']].values"
   ]
  },
  {
   "cell_type": "code",
   "execution_count": 19,
   "metadata": {},
   "outputs": [
    {
     "data": {
      "text/plain": [
       "(3, 10)"
      ]
     },
     "execution_count": 19,
     "metadata": {},
     "output_type": "execute_result"
    }
   ],
   "source": [
    "ds[ds.conversation_id==961673425294102528].shape"
   ]
  },
  {
   "cell_type": "code",
   "execution_count": 18,
   "metadata": {},
   "outputs": [
    {
     "data": {
      "text/plain": [
       "91326    Por si acaso no era mentira lo de las entradas...\n91327    @aguschmer @SebastianYatra @piso21music ya te ...\n91328    @aguschmer @SebastianYatra @piso21music Andrés...\nName: text, dtype: object"
      ]
     },
     "execution_count": 18,
     "metadata": {},
     "output_type": "execute_result"
    }
   ],
   "source": [
    "ds[ds.conversation_id==961673425294102528].text"
   ]
  },
  {
   "cell_type": "code",
   "execution_count": 20,
   "metadata": {
    "collapsed": false
   },
   "outputs": [
    {
     "data": {
      "text/plain": [
       "conversation_id\n960286303014346758    2771\n960370022282682369    2428\n960321320956375040    2225\n941078716448460800    1974\n958731588807905283    1406\ndtype: int64"
      ]
     },
     "execution_count": 20,
     "metadata": {},
     "output_type": "execute_result"
    }
   ],
   "source": [
    "ds.groupby('conversation_id').size().sort_values(ascending=False).head()"
   ]
  },
  {
   "cell_type": "code",
   "execution_count": 32,
   "metadata": {
    "collapsed": false
   },
   "outputs": [
    {
     "data": {
      "text/plain": [
       "conversation_id\n746037660666503168    5\n944642411887767553    1\n920695219657551872    1\n736355546400428032    2\n902894916656922625    2\ndtype: int64"
      ]
     },
     "execution_count": 32,
     "metadata": {},
     "output_type": "execute_result"
    }
   ],
   "source": [
    "ds.groupby('conversation_id').size().sample(5)"
   ]
  },
  {
   "cell_type": "code",
   "execution_count": null,
   "metadata": {},
   "outputs": [],
   "source": []
  },
  {
   "cell_type": "code",
   "execution_count": 45,
   "metadata": {},
   "outputs": [],
   "source": [
    "import networkx as nx\n",
    "def generating_dialogs( conv_data):\n",
    "\tconv_graph = nx.DiGraph()\n",
    "\t#conv_graph.add_node(conv_id)\n",
    "\tfor i, row in conv_data.iterrows():\n",
    "\t\ttweet_id = row['id']\n",
    "\t\tparent_id = row['in_reply_to_status_id']\n",
    "\n",
    "\t\tif parent_id == '':\n",
    "\t\t\tcontinue\n",
    "\n",
    "\t\tconv_graph.add_edge(tweet_id,parent_id)\n",
    "\treturn conv_graph"
   ]
  },
  {
   "cell_type": "code",
   "execution_count": 46,
   "metadata": {},
   "outputs": [],
   "source": [
    "conv_data= ds[ds.conversation_id==746037660666503168]\n",
    "conv_graph = generating_dialogs(conv_data)"
   ]
  },
  {
   "cell_type": "code",
   "execution_count": 47,
   "metadata": {},
   "outputs": [
    {
     "data": {
      "image/png": "[encoded data removed]",
      "text/plain": [
       "<Figure size 432x288 with 1 Axes>"
      ]
     },
     "metadata": {},
     "output_type": "display_data"
    }
   ],
   "source": [
    "nx.draw_shell(conv_graph)"
   ]
  },
  {
   "cell_type": "code",
   "execution_count": null,
   "metadata": {},
   "outputs": [],
   "source": []
  }
 ],
 "metadata": {
  "kernelspec": {
   "display_name": "Python 2",
   "language": "python",
   "name": "python2"
  },
  "language_info": {
   "codemirror_mode": {
    "name": "ipython",
    "version": 2
   },
   "file_extension": ".py",
   "mimetype": "text/x-python",
   "name": "python",
   "nbconvert_exporter": "python",
   "pygments_lexer": "ipython2",
   "version": "2.7.6"
  }
 },
 "nbformat": 4,
 "nbformat_minor": 0
}
