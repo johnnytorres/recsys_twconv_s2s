{
 "cells": [
  {
   "cell_type": "markdown",
   "metadata": {},
   "source": [
    "# Recommending Conversations on Twitter"
   ]
  },
  {
   "cell_type": "code",
   "execution_count": 1,
   "metadata": {},
   "outputs": [],
   "source": [
    "%matplotlib inline\n",
    "import matplotlib.pyplot as plt\n",
    "import pandas as pd"
   ]
  },
  {
   "cell_type": "markdown",
   "metadata": {},
   "source": [
    "# exploratory analysis\n",
    "\n",
    "In this dataset, we extract all the conversations for three popular users\n",
    "\n",
    "- MashiRafael\n",
    "- aguschmer\n",
    "- KarlaMoralesR"
   ]
  },
  {
   "cell_type": "code",
   "execution_count": 3,
   "metadata": {
    "scrolled": true
   },
   "outputs": [
    {
     "name": "stdout",
     "output_type": "stream",
     "text": [
      "<class 'pandas.core.frame.DataFrame'>\n",
      "RangeIndex: 520263 entries, 0 to 520262\n",
      "Data columns (total 10 columns):\n",
      "id                       520263 non-null int64\n",
      "screen_name              520263 non-null object\n",
      "latitude                 4063 non-null float64\n",
      "longitude                4063 non-null float64\n",
      "in_reply_to_status_id    507354 non-null float64\n",
      "text                     520263 non-null object\n",
      "timestamp                520247 non-null datetime64[ns]\n",
      "conversation_id          520263 non-null int64\n",
      "conversation_deep        520263 non-null int64\n",
      "url                      520263 non-null object\n",
      "dtypes: datetime64[ns](1), float64(3), int64(3), object(3)\n",
      "memory usage: 39.7+ MB\n"
     ]
    }
   ],
   "source": [
    "ds = pd.read_csv(\n",
    "    '/Users/johnny/data/twitter/conv-users-ec/conversations.csv', \n",
    "    parse_dates=['timestamp'])\n",
    "ds.info()"
   ]
  },
  {
   "cell_type": "markdown",
   "metadata": {},
   "source": [
    "520K tweets in the dataset, including: those popular users' tweets and all the replies.\n",
    "\n",
    "## temporal distribution\n",
    "\n",
    "Let's analyze the temporal distribution of the tweets"
   ]
  },
  {
   "cell_type": "code",
   "execution_count": 4,
   "metadata": {},
   "outputs": [
    {
     "data": {
      "image/png": "[encoded data removed]",
      "text/plain": [
       "<Figure size 432x288 with 1 Axes>"
      ]
     },
     "metadata": {},
     "output_type": "display_data"
    }
   ],
   "source": [
    "ds.groupby(ds['timestamp'].dt.date).size().plot()\n",
    "plt.yscale('log')"
   ]
  },
  {
   "cell_type": "markdown",
   "metadata": {},
   "source": [
    "the tweets begin in 2010, then steadily increase through the years with a  spike in 2018 probably the referendum in february"
   ]
  },
  {
   "cell_type": "markdown",
   "metadata": {},
   "source": [
    "## most active users"
   ]
  },
  {
   "cell_type": "code",
   "execution_count": 5,
   "metadata": {},
   "outputs": [
    {
     "data": {
      "text/plain": [
       "screen_name\n",
       "MashiRafael      6212\n",
       "aguschmer        6140\n",
       "KarlaMoralesR    2575\n",
       "marceloht40      1617\n",
       "sejusto2015       834\n",
       "dtype: int64"
      ]
     },
     "execution_count": 5,
     "metadata": {},
     "output_type": "execute_result"
    }
   ],
   "source": [
    "ds.groupby('screen_name').size().sort_values(ascending=False).head()"
   ]
  },
  {
   "cell_type": "markdown",
   "metadata": {},
   "source": [
    "## number of tweets that start conversations"
   ]
  },
  {
   "cell_type": "code",
   "execution_count": 6,
   "metadata": {},
   "outputs": [
    {
     "data": {
      "text/plain": [
       "screen_name\n",
       "aguschmer        5257\n",
       "MashiRafael      5060\n",
       "KarlaMoralesR    1768\n",
       "adeljar            11\n",
       "la_abogada_        11\n",
       "dtype: int64"
      ]
     },
     "execution_count": 6,
     "metadata": {},
     "output_type": "execute_result"
    }
   ],
   "source": [
    "conv_users = ds[ds.in_reply_to_status_id.isnull()].groupby('screen_name')\n",
    "conv_users.size().sort_values(ascending=False).head()"
   ]
  },
  {
   "cell_type": "code",
   "execution_count": 7,
   "metadata": {},
   "outputs": [
    {
     "name": "stdout",
     "output_type": "stream",
     "text": [
      "652\n"
     ]
    }
   ],
   "source": [
    "print(conv_users.size().shape[0])"
   ]
  },
  {
   "cell_type": "markdown",
   "metadata": {},
   "source": [
    "## number of participants by conversation starter"
   ]
  },
  {
   "cell_type": "code",
   "execution_count": 8,
   "metadata": {},
   "outputs": [
    {
     "data": {
      "text/html": [
       "<div>\n",
       "<style scoped>\n",
       "    .dataframe tbody tr th:only-of-type {\n",
       "        vertical-align: middle;\n",
       "    }\n",
       "\n",
       "    .dataframe tbody tr th {\n",
       "        vertical-align: top;\n",
       "    }\n",
       "\n",
       "    .dataframe thead th {\n",
       "        text-align: right;\n",
       "    }\n",
       "</style>\n",
       "<table border=\"1\" class=\"dataframe\">\n",
       "  <thead>\n",
       "    <tr style=\"text-align: right;\">\n",
       "      <th></th>\n",
       "      <th>screen_name</th>\n",
       "      <th>num_replies</th>\n",
       "      <th>num_participants</th>\n",
       "    </tr>\n",
       "  </thead>\n",
       "  <tbody>\n",
       "    <tr>\n",
       "      <th>208</th>\n",
       "      <td>MashiRafael</td>\n",
       "      <td>413805</td>\n",
       "      <td>97682</td>\n",
       "    </tr>\n",
       "    <tr>\n",
       "      <th>326</th>\n",
       "      <td>aguschmer</td>\n",
       "      <td>79425</td>\n",
       "      <td>24219</td>\n",
       "    </tr>\n",
       "    <tr>\n",
       "      <th>173</th>\n",
       "      <td>KarlaMoralesR</td>\n",
       "      <td>12355</td>\n",
       "      <td>5290</td>\n",
       "    </tr>\n",
       "    <tr>\n",
       "      <th>36</th>\n",
       "      <td>BatichicaRC</td>\n",
       "      <td>489</td>\n",
       "      <td>207</td>\n",
       "    </tr>\n",
       "    <tr>\n",
       "      <th>579</th>\n",
       "      <td>pametroya</td>\n",
       "      <td>393</td>\n",
       "      <td>157</td>\n",
       "    </tr>\n",
       "  </tbody>\n",
       "</table>\n",
       "</div>"
      ],
      "text/plain": [
       "       screen_name  num_replies  num_participants\n",
       "208    MashiRafael       413805             97682\n",
       "326      aguschmer        79425             24219\n",
       "173  KarlaMoralesR        12355              5290\n",
       "36     BatichicaRC          489               207\n",
       "579      pametroya          393               157"
      ]
     },
     "execution_count": 8,
     "metadata": {},
     "output_type": "execute_result"
    }
   ],
   "source": [
    "participants_by_conv_starter = []\n",
    "pcs = {}\n",
    "\n",
    "for name, group in conv_users:\n",
    "    conv_ids = group.id.values\n",
    "    #conv_ids = ds[ds.screen_name==name].head().groupby('conversation_id').size().index.values\n",
    "    conv_tweets = ds[ds.conversation_id.isin(conv_ids)]\n",
    "    #print(name, conv_tweets.shape[0], conv_tweets.screen_name.nunique())\n",
    "    participants_by_conv_starter.append((name, conv_tweets.shape[0], conv_tweets.screen_name.nunique()))\n",
    "    pcs[name] = set(conv_tweets.screen_name.unique())\n",
    "    #break\n",
    "\n",
    "ds_participants = pd.DataFrame(participants_by_conv_starter, columns=['screen_name','num_replies','num_participants'])\n",
    "ds_participants.sort_values(by='num_replies', ascending=False).head()"
   ]
  },
  {
   "cell_type": "code",
   "execution_count": 9,
   "metadata": {},
   "outputs": [
    {
     "name": "stdout",
     "output_type": "stream",
     "text": [
      "7699\n",
      "2138\n",
      "1945\n"
     ]
    }
   ],
   "source": [
    "intersect = pcs['MashiRafael'].intersection(pcs['aguschmer'])\n",
    "intersect2 = pcs['MashiRafael'].intersection(pcs['KarlaMoralesR'])\n",
    "intersect3 = pcs['aguschmer'].intersection(pcs['KarlaMoralesR'])\n",
    "print(len(intersect))\n",
    "print(len(intersect2))\n",
    "print(len(intersect3))"
   ]
  },
  {
   "cell_type": "code",
   "execution_count": 10,
   "metadata": {},
   "outputs": [],
   "source": [
    "import networkx as nx\n",
    "import numpy as np"
   ]
  },
  {
   "cell_type": "code",
   "execution_count": 11,
   "metadata": {},
   "outputs": [],
   "source": [
    "#G.add_nodes_from(ds_participants.screen_name.values)\n",
    "\n",
    "name_list=['MashiRafael','KarlaMoralesR','aguschmer']\n",
    "color_list=['green', 'red', 'blue']\n",
    "nodes_color = []\n",
    "i = 0\n",
    "G = nx.DiGraph()\n",
    "\n",
    "for name, color in zip(name_list, color_list):\n",
    "    nodes = list(pcs[name])\n",
    "    sample_nodes=np.random.choice(nodes, int(len(nodes)*0.02),replace=False)\n",
    "    for e in sample_nodes:\n",
    "        G.add_edge(e, name)\n",
    "        \n",
    "name_list= []\n",
    "name_list.append(('MashiRafael','aguschmer'))\n",
    "name_list.append(('MashiRafael','KarlaMoralesR'))\n",
    "name_list.append(('aguschmer','KarlaMoralesR'))\n",
    "\n",
    "node_list = []\n",
    "node_list.append(intersect)\n",
    "node_list.append(intersect2)\n",
    "node_list.append(intersect3)\n",
    "intergroup = []\n",
    "\n",
    "for names, nodes_ in zip(name_list, node_list):\n",
    "    nodes = list(nodes_)\n",
    "    sample_nodes = np.random.choice(nodes, int(len(nodes)*0.05), replace=False)\n",
    "\n",
    "    for e in sample_nodes:\n",
    "        G.add_edge(e, names[0])\n",
    "        G.add_edge(e, names[1])\n",
    "        intergroup.append(e)"
   ]
  },
  {
   "cell_type": "code",
   "execution_count": 307,
   "metadata": {
    "scrolled": false
   },
   "outputs": [
    {
     "data": {
      "text/plain": [
       "{'MashiRafael': Text(-0.0698278,0.452496,'MashiRafael'),\n",
       " 'KarlaMoralesR': Text(-0.577164,-0.59597,'KarlaMoralesR'),\n",
       " 'aguschmer': Text(0.208664,-0.876724,'aguschmer')}"
      ]
     },
     "execution_count": 307,
     "metadata": {},
     "output_type": "execute_result"
    },
    {
     "data": {
      "image/png": "[encoded data removed]",
      "text/plain": [
       "<Figure size 504x504 with 1 Axes>"
      ]
     },
     "metadata": {},
     "output_type": "display_data"
    }
   ],
   "source": [
    "plt.figure\n",
    "fig, ax = plt.subplots(figsize=(7,7))\n",
    "ax.axis('off')\n",
    "pos = nx.spring_layout(G,k=0.10,iterations=50)\n",
    "group = list(G.predecessors('MashiRafael'))\n",
    "nx.draw_networkx_nodes(G,pos=pos, with_labels=False,node_size=1, ax=ax, nodelist=group, node_color='green', node_shape='o')\n",
    "group = list(G.predecessors('aguschmer'))\n",
    "nx.draw_networkx_nodes(G,pos=pos, with_labels=False,node_size=1, ax=ax, nodelist=group, node_color='blue', node_shape='o')\n",
    "group = list(G.predecessors('KarlaMoralesR'))\n",
    "nx.draw_networkx_nodes(G,pos=pos, with_labels=False,node_size=1, ax=ax, nodelist=group, node_color='red', node_shape='o')\n",
    "nx.draw_networkx_nodes(G,pos=pos, with_labels=False,node_size=1, ax=ax, nodelist=intergroup, node_color='grey', node_shape='x')\n",
    "group=['MashiRafael','KarlaMoralesR','aguschmer']\n",
    "labels = {name:name for name in group}\n",
    "nx.draw_networkx_labels(G,pos,labels,font_size=16,font_color='black')"
   ]
  },
  {
   "cell_type": "markdown",
   "metadata": {},
   "source": [
    "## sample conversations "
   ]
  },
  {
   "cell_type": "code",
   "execution_count": 12,
   "metadata": {},
   "outputs": [
    {
     "name": "stdout",
     "output_type": "stream",
     "text": [
      "KarlaMoralesR 10 6\n",
      "MashiRafael 159 117\n",
      "aguschmer 34 30\n"
     ]
    }
   ],
   "source": [
    "name_list=['MashiRafael','KarlaMoralesR','aguschmer']\n",
    "conv_users = ds[ds.in_reply_to_status_id.isnull()]\n",
    "conv_users = conv_users[conv_users.screen_name.isin(name_list)].groupby('screen_name')\n",
    "users = {}\n",
    "tweets  =[]\n",
    "\n",
    "for name, group in conv_users:\n",
    "    conv_ids= group.sample(5, random_state=1).conversation_id.values\n",
    "    conv_tweets = ds[ds.conversation_id.isin(conv_ids)]\n",
    "    conv_parts = conv_tweets.screen_name.nunique()    \n",
    "    users[name] = set(conv_tweets.screen_name.unique())\n",
    "    t=conv_tweets.groupby('screen_name').agg({'id': 'max'}).reset_index()\n",
    "    tweets.extend(list(zip(t['screen_name'].values,t['id'].values)))\n",
    "    print(name, conv_tweets.shape[0], conv_parts)"
   ]
  },
  {
   "cell_type": "code",
   "execution_count": 13,
   "metadata": {},
   "outputs": [
    {
     "name": "stdout",
     "output_type": "stream",
     "text": [
      "KarlaMoralesR MashiRafael 0\n",
      "KarlaMoralesR aguschmer 0\n",
      "MashiRafael KarlaMoralesR 0\n",
      "MashiRafael aguschmer 0\n",
      "aguschmer KarlaMoralesR 0\n",
      "aguschmer MashiRafael 0\n"
     ]
    }
   ],
   "source": [
    "user_list =[]\n",
    "for key,value in users.items():\n",
    "    user_list.extend(list(value))\n",
    "    for key2,value2 in users.items():\n",
    "        if key==key2:\n",
    "            continue\n",
    "        print(key,key2, len(list(value.intersection(value2))))"
   ]
  },
  {
   "cell_type": "markdown",
   "metadata": {},
   "source": [
    "not intersection between users! we can use this sample as small dataset prediction"
   ]
  },
  {
   "cell_type": "code",
   "execution_count": 14,
   "metadata": {},
   "outputs": [
    {
     "data": {
      "text/plain": [
       "(153, 2)"
      ]
     },
     "execution_count": 14,
     "metadata": {},
     "output_type": "execute_result"
    }
   ],
   "source": [
    "users_to_crawl = pd.DataFrame(data=tweets, columns=['name', 'tweet_id'])\n",
    "users_to_crawl.shape"
   ]
  },
  {
   "cell_type": "code",
   "execution_count": 15,
   "metadata": {},
   "outputs": [
    {
     "data": {
      "text/html": [
       "<div>\n",
       "<style scoped>\n",
       "    .dataframe tbody tr th:only-of-type {\n",
       "        vertical-align: middle;\n",
       "    }\n",
       "\n",
       "    .dataframe tbody tr th {\n",
       "        vertical-align: top;\n",
       "    }\n",
       "\n",
       "    .dataframe thead th {\n",
       "        text-align: right;\n",
       "    }\n",
       "</style>\n",
       "<table border=\"1\" class=\"dataframe\">\n",
       "  <thead>\n",
       "    <tr style=\"text-align: right;\">\n",
       "      <th></th>\n",
       "      <th>name</th>\n",
       "      <th>tweet_id</th>\n",
       "    </tr>\n",
       "  </thead>\n",
       "  <tbody>\n",
       "    <tr>\n",
       "      <th>0</th>\n",
       "      <td>KarlaMoralesR</td>\n",
       "      <td>864679238045249545</td>\n",
       "    </tr>\n",
       "    <tr>\n",
       "      <th>1</th>\n",
       "      <td>TitoTacitus</td>\n",
       "      <td>746192692460191744</td>\n",
       "    </tr>\n",
       "    <tr>\n",
       "      <th>2</th>\n",
       "      <td>WilsonMerinoR</td>\n",
       "      <td>852353945007685632</td>\n",
       "    </tr>\n",
       "    <tr>\n",
       "      <th>3</th>\n",
       "      <td>andresgaraym</td>\n",
       "      <td>864680292191272963</td>\n",
       "    </tr>\n",
       "    <tr>\n",
       "      <th>4</th>\n",
       "      <td>ernestoColon20</td>\n",
       "      <td>753038888420147200</td>\n",
       "    </tr>\n",
       "  </tbody>\n",
       "</table>\n",
       "</div>"
      ],
      "text/plain": [
       "             name            tweet_id\n",
       "0   KarlaMoralesR  864679238045249545\n",
       "1     TitoTacitus  746192692460191744\n",
       "2   WilsonMerinoR  852353945007685632\n",
       "3    andresgaraym  864680292191272963\n",
       "4  ernestoColon20  753038888420147200"
      ]
     },
     "execution_count": 15,
     "metadata": {},
     "output_type": "execute_result"
    }
   ],
   "source": [
    "users_to_crawl.head()"
   ]
  },
  {
   "cell_type": "code",
   "execution_count": 295,
   "metadata": {},
   "outputs": [],
   "source": [
    "users_to_crawl.to_csv('/Users/johnny/data/twitter/sample_users_conv.csv', index=False)"
   ]
  }
 ],
 "metadata": {
  "kernelspec": {
   "display_name": "Python 3",
   "language": "python",
   "name": "python3"
  },
  "language_info": {
   "codemirror_mode": {
    "name": "ipython",
    "version": 3
   },
   "file_extension": ".py",
   "mimetype": "text/x-python",
   "name": "python",
   "nbconvert_exporter": "python",
   "pygments_lexer": "ipython3",
   "version": "3.6.5"
  }
 },
 "nbformat": 4,
 "nbformat_minor": 2
}
