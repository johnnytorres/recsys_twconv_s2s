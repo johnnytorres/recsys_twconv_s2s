{
 "cells": [
  {
   "cell_type": "code",
   "execution_count": 1,
   "metadata": {},
   "outputs": [],
   "source": [
    "import pandas as pd"
   ]
  },
  {
   "cell_type": "code",
   "execution_count": 2,
   "metadata": {},
   "outputs": [
    {
     "name": "stdout",
     "output_type": "stream",
     "text": [
      "<class 'pandas.core.frame.DataFrame'>\n",
      "RangeIndex: 8727 entries, 0 to 8726\n",
      "Data columns (total 11 columns):\n",
      "Context         8727 non-null object\n",
      "Response        8727 non-null object\n",
      "Distractor_0    8727 non-null object\n",
      "Distractor_1    8727 non-null object\n",
      "Distractor_2    8727 non-null object\n",
      "Distractor_3    8727 non-null object\n",
      "Distractor_4    8727 non-null object\n",
      "Distractor_5    8727 non-null object\n",
      "Distractor_6    8727 non-null object\n",
      "Distractor_7    8727 non-null object\n",
      "Distractor_8    8727 non-null object\n",
      "dtypes: object(11)\n",
      "memory usage: 750.1+ KB\n"
     ]
    }
   ],
   "source": [
    "ds = pd.read_csv('/Users/johnny/data/twitter/convusersec/test.csv')\n",
    "ds.info()"
   ]
  },
  {
   "cell_type": "code",
   "execution_count": 14,
   "metadata": {},
   "outputs": [],
   "source": [
    "samples = []\n",
    "users=['MashiRafael','aguschmer','KarlaMoralesR']\n",
    "\n",
    "for u in users:\n",
    "\n",
    "    user_conv=ds[ds.Context.str.contains(u.lower())]\n",
    "    user_conv=user_conv.sample(2)\n",
    "    positive=user_conv[['Context','Response']].copy()\n",
    "    positive['Label'] = 1\n",
    "    #positive.columns=['Context', 'Utterance', 'Label']\n",
    "    samples.extend(positive.values)\n",
    "\n",
    "    negative=user_conv[['Context', 'Distractor_0']].copy()\n",
    "    negative['Label'] = 0\n",
    "    #negative.columns=['Context', 'Utterance', 'Label']\n",
    "    samples.extend(negative.values)\n",
    "\n",
    "samples = pd.DataFrame(samples, columns=['Context', 'Utterance', 'Label'])\n",
    "samples.to_csv('/Users/johnny/data/twitter/convusersec/examples.csv', index=False)"
   ]
  },
  {
   "cell_type": "code",
   "execution_count": null,
   "metadata": {},
   "outputs": [],
   "source": []
  }
 ],
 "metadata": {
  "kernelspec": {
   "display_name": "Python 3",
   "language": "python",
   "name": "python3"
  },
  "language_info": {
   "codemirror_mode": {
    "name": "ipython",
    "version": 3
   },
   "file_extension": ".py",
   "mimetype": "text/x-python",
   "name": "python",
   "nbconvert_exporter": "python",
   "pygments_lexer": "ipython3",
   "version": "3.6.5"
  }
 },
 "nbformat": 4,
 "nbformat_minor": 2
}
