{
 "cells": [
  {
   "cell_type": "code",
   "execution_count": 1,
   "metadata": {},
   "outputs": [],
   "source": [
    "import pandas as pd"
   ]
  },
  {
   "cell_type": "code",
   "execution_count": 10,
   "metadata": {},
   "outputs": [
    {
     "name": "stdout",
     "output_type": "stream",
     "text": [
      "<class 'pandas.core.frame.DataFrame'>\n",
      "RangeIndex: 49490 entries, 0 to 49489\n",
      "Data columns (total 1 columns):\n",
      "word    49488 non-null object\n",
      "dtypes: object(1)\n",
      "memory usage: 386.7+ KB\n"
     ]
    }
   ],
   "source": [
    "ds = pd.read_csv('/Users/johnny/data/ubuntu/big_tf/oov_words.txt', header=None, dtype=object)\n",
    "ds.columns=['word']\n",
    "ds.word.fillna('', inplace=True)\n",
    "ds.info()"
   ]
  },
  {
   "cell_type": "code",
   "execution_count": 27,
   "metadata": {},
   "outputs": [
    {
     "data": {
      "text/plain": [
       "(46537, 1)"
      ]
     },
     "execution_count": 27,
     "metadata": {},
     "output_type": "execute_result"
    }
   ],
   "source": [
    "#ds.head(20)\n",
    "oov=ds[~ds.word.str.endswith('..')]\n",
    "oov.shape"
   ]
  },
  {
   "cell_type": "code",
   "execution_count": 28,
   "metadata": {},
   "outputs": [
    {
     "data": {
      "text/plain": [
       "(40263, 1)"
      ]
     },
     "execution_count": 28,
     "metadata": {},
     "output_type": "execute_result"
    }
   ],
   "source": [
    "oov=oov[~oov.word.str.startswith('/')]\n",
    "oov.shape"
   ]
  },
  {
   "cell_type": "code",
   "execution_count": 32,
   "metadata": {},
   "outputs": [
    {
     "data": {
      "text/plain": [
       "(4074, 1)"
      ]
     },
     "execution_count": 32,
     "metadata": {},
     "output_type": "execute_result"
    }
   ],
   "source": [
    "oov[oov.word.str.contains('/')].shape"
   ]
  },
  {
   "cell_type": "code",
   "execution_count": 33,
   "metadata": {},
   "outputs": [
    {
     "data": {
      "text/plain": [
       "(1066, 1)"
      ]
     },
     "execution_count": 33,
     "metadata": {},
     "output_type": "execute_result"
    }
   ],
   "source": [
    "oov[oov.word.str.startswith('*')].shape"
   ]
  },
  {
   "cell_type": "code",
   "execution_count": 31,
   "metadata": {},
   "outputs": [
    {
     "data": {
      "text/plain": [
       "array(['<UNK>', '__eou__', '__eot__', '', \"n't\", '``', \"''\", \"'sudo\",\n",
       "       'ubotu', 'ubuntu+1', 'w/', '^^', 'ubuntu-offtopic', 'ubottu',\n",
       "       './configure', 'c++', 'add/remove', 'automatix', '_', 'alt+f2',\n",
       "       '-/', '+x', 'totem-xine', 'pastebinit', '=/', '=p', 'lsb_release',\n",
       "       'seveas', 'dr_willis', 'actionparsnip', 'gnomebaker', 'winehq',\n",
       "       'packages.ubuntu.com', 'ubuntu-server', 'usplash', 'ctrl+alt+f1',\n",
       "       'read/write', 'i/o', 'gnu/linux', 'cd/dvd', 'w/o', 'x86_64', 'g++',\n",
       "       'o_o', '|grep', '***', \"'apt-get\", '^_^', 'ikonia', '**',\n",
       "       '~/.bashrc', '*nix', 'jrib', 'ubuntuguide', 'aiglx', 'marillat',\n",
       "       'd/l', './', 'ctrl-alt-f1', 'rythmbox', '`', 'xchat-gnome',\n",
       "       '`sudo', 'erusul', 'ubuntuforums.org', 'bazhang',\n",
       "       'ctrl+alt+backspace', 'ubuntuguide.org', 'acpi=off', 'gtk+',\n",
       "       \"'mount\", '=d', 'easyubuntu', ':0', '..i', 'b/c', 'x-chat', '-_-',\n",
       "       'ubunut', '~/', 'wpa_supplicant', '*not*', 'slart', 'bitchx',\n",
       "       '-phigh', 'crimsun', '+1', 'anjuta', 'jordan_u',\n",
       "       'paste.ubuntu.com', 'ubuntu-effects', '=\\\\', 'ljl',\n",
       "       'archive.ubuntu.com', '^^^', 'nvidia-glx-new', '*is*', 'ctrl+c',\n",
       "       'appdb', '10.04.', 'build-essentials', 'jack_sparrow', ':0.0',\n",
       "       \"'dpkg\", '-r`', 'gstreamer0.8-mad', 'nalioth', 'msttcorefonts',\n",
       "       'nickrud', 'envyng', '.bash_profile', 'devede', 'input/output',\n",
       "       '*sigh*', '*shrug*', 'ps/2', 'hfs+', '~/desktop', 'aptoncd',\n",
       "       'totem-gstreamer', 'linux-headers-', 'pppoeconf', \"'root\", '\\\\n',\n",
       "       'thoreauputic', 'flashplugin-installer', '-ef', 'sun-java6-plugin',\n",
       "       \"'apt-cache\", 'copy/paste', ':1', 'mozilla-mplayer', '-\\\\',\n",
       "       \"'ubuntu\", 'java-package', 'ubuntu-es', 'ubuntustudio',\n",
       "       'zykotick9', 'ntfs-config', 'beep-media-player', '9.10.',\n",
       "       'idleone', 'ubunutu', '9.04.', 'linux/ubuntu', 'get-selections',\n",
       "       'bittornado', \"doens't\", 'ubuntu-devel', 'cafuego', 'uid=1000',\n",
       "       \"'dmesg\", 'debian/ubuntu', 'ubuntu/linux', 'i`m', 'ubuntu-xgl',\n",
       "       '*.deb', 'path=', 'ubutnu', 'wiki.ubuntu.com', 'gtk-gnutella',\n",
       "       ':3', 'soundray', 'apt-cdrom', 'hoary-extras', 'umask=000',\n",
       "       \"'lspci\", 'ctrl+alt+f7', '8.04.', 'unrar-nonfree', 'ubuntu-base',\n",
       "       'ubuntu-ops', \"'install\", 'restrictedformats', 'alt+tab', 'gnea',\n",
       "       'highlight=', 'sshd_config', 'hl=en', '10.10.', '8.10.', 'rcconf',\n",
       "       'w/e', '1/2', 'gnome-volume-manager', \"'file\", '*should*', 'llutz',\n",
       "       'powernowd', 'nvidia-glx-config', '*think*', 'help.ubuntu.com',\n",
       "       'vertrefresh', 'madpilot', '11.04.', 'fwcutter', '~/bin',\n",
       "       'us.archive.ubuntu.com', 'linux-686', 'www.ubuntuguide.org',\n",
       "       'horizsync', 'hd0,1', 'ctrl+alt+f2', 'grub1', 'jockey-gtk',\n",
       "       'getdeb', 'xserver-xgl', '~/.mozilla', 'c/c++', 'on/off', 'ext2/3',\n",
       "       'ubuntu-motu', 'gnomefreak', 'sysv-rc-conf', 'username/password',\n",
       "       'if=/dev/zero', 'ubuntuone', 'non-ubuntu', '11.10.', 'win32codecs',\n",
       "       '..but', 'don`t', 'kb/s', 'muine', \"'echo\", '_not_', 'fixres',\n",
       "       'nopasswd', 'ubunt', \"'find\", 'iceroot', 'pro/wireless',\n",
       "       'gimpshop', 'ubutu', 'unop', 'compizconfig', 'universe/multiverse',\n",
       "       'winff', 'tcp/ip', 'linux-generic', '*really*', '12.04.', 'a+x',\n",
       "       'debfoster', 'libapache2-mod-php5', 'all=', 'xf86config-4', 'ethx',\n",
       "       '~/.profile', 'fluxbuntu', 'vmware-server', '.gnome2', '*g*',\n",
       "       'bruenig', 'www.ubuntuforums.org', \"'/\", 'adobe-flashplugin',\n",
       "       'ndiswrapper-utils', 'scunizi', 'ubuntu/debian', '.gnome',\n",
       "       'swiftfox', '10.04.1', 'mb/s', 'sebsebseb', '01:00.0', 'guntbert',\n",
       "       'no_pubkey', \"'server\", 'make/model', 'prefs-', \"'gksudo\",\n",
       "       'swfdec', \"'ssh\", 'frogzoo', 'pastbin', 'firefox-3.5', 'deborphan',\n",
       "       'up/down', 'startupmanager', \"'ifconfig\", 'security.ubuntu.com',\n",
       "       'beryl-manager', 'he/she', 'xnest', '~/.fonts', 'indygunfreak',\n",
       "       'java_home', 'unrar-free', '*buntu', 'can`t', 'gnome/kde', 'r/w',\n",
       "       'gnome-look', 'ubuntu-minimal', \"'startx\", 'make-jpkg', '6.06.1',\n",
       "       \"'linux\", 'lost+found', '7.10.', 'oo.o', 'j/k', \"'universe\",\n",
       "       '*can*', 'dasei', \"i'v\", 'vnc4server', 'shiretoko', 'ubuntu-fr',\n",
       "       \"ac'97\", 'ath_pci', \"'system\", 'hd1,0', '..and', '24/7', \"'user\",\n",
       "       '*very*', 'manpages-dev', '*all*', 'vmware-player', 'unity2d',\n",
       "       'happyfool', '0:00', 'supergrub', 'ubuntu-tweak',\n",
       "       'displayconfig-gtk', 'netsplit', '.iceauthority', 'user/pass',\n",
       "       'ctrl+h', './alsa-info.sh', 'gtk-warning', 'o/s',\n",
       "       'wiki.ubuntu.com/restrictedformats', 'escott', 'root=',\n",
       "       'safe-upgrade', \"'locate\", \"y'all\", 'update/upgrade',\n",
       "       '~/.xsession-errors', 'alt+f1', '~/.bash_profile', '^ii',\n",
       "       'bcm43xx-fwcutter', 'edbian', 'gid=1000', 'soreau',\n",
       "       'files/folders', 'linux-image-generic', 'paste.ubuntulinux.nl',\n",
       "       \"'screen\", 'ctrl-alt-f7', 'gnomemeeting', 'linux-headers-`uname',\n",
       "       'update-grub2', '*that*', 'ehci_hcd', \"'default\", 'bcm4306',\n",
       "       'bcm4318', 'getdeb.net', 'umask=0222', '`apt-get', 'camorama',\n",
       "       'virtualbox-ose', '****', '-rw-r', 'dc++', 'debain',\n",
       "       'ubuntu/gnome', 'wols', '00:02.0', 'ie=utf-8', 'force-all',\n",
       "       '*grin*', 'nvidia-glx-legacy', 'monkeydust', \"d'oh\", 'stefg',\n",
       "       'usr13', 'lubuntu-desktop', 'linux-386', 'programname',\n",
       "       'ubuntu-specific', 'art.gnome.org', '3945abg', \"does'nt\",\n",
       "       'file.deb', '..it', '6~', 'soundconverter', 'busid', '*nod*',\n",
       "       'authorized_keys', 'keyboard/mouse', 'ubuntu-de', '802.11b/g',\n",
       "       'rhytmbox', 'mneptok', 'dist-upgrading', 'http_proxy', 'menu.list',\n",
       "       'linuxprinting.org', 'localhost:631', 'sources.lst', \"'s/\",\n",
       "       'blueskaj', 'ctrl+alt+del', 'xangua', '*any*', '`which', 'alltray',\n",
       "       ':rip', 'ubntu', 'bin/cue', 'linuxjones', \"'nvidia\", 'gnome-ppp',\n",
       "       'kern.log', \"'add\", 'avant-window-navigator', 'ctrl-alt-f2',\n",
       "       'libqt3c102-mt', 'paste.ubuntu-nl.org', 'pppconfig', 'bimberi',\n",
       "       'linux-image-', '*might*', \"'localhost\", 'errors=remount-ro',\n",
       "       'polypaudio', 'vga=', \"'desktop\", 'apt-getting', 'bcm4312', 'it`s',\n",
       "       '`ls', 'coz_', 'xorg.log', 'apt-proxy', 'audio/video', 'jowi',\n",
       "       'debian/rules', 'flashplayer-mozilla', 'kvirc', 'users-admin',\n",
       "       '*need*', 'synaptec', '*.jpg', \"c'mon\", 'dooglus', \"'~\",\n",
       "       'set-selections', \"'uname\", 'i`ve', 'nvidia-kernel-common',\n",
       "       '.xauthority', 'acidrip', 'lsmod|grep', 'package_name', '~/.wine',\n",
       "       \"'killall\", '_is_', 'sbackup', 'searchon=names', 'synpatic',\n",
       "       'vga=791', 'file.iso', 'floodbot', 'lamp-server', 'sound-juicer',\n",
       "       'fglrxconfig', 'libdvdread3', 'ld_library_path', 'ubunu',\n",
       "       'grub-update', 'restricted-modules',\n",
       "       'wiki.ubuntu.com/binarydriverhowto', '.bash_history', '7.04.',\n",
       "       'display=:0', 'dontzap', 'snd_hda_intel', 'fesity', 'gnoppix',\n",
       "       'winetools', 'bugzilla.ubuntu.com', 'cdrom0', 'nomachine',\n",
       "       'notepad++', 'pricechild', 'ubuntu/kubuntu', '*.mp3', '*cough*',\n",
       "       'sun-java', '.fonts', 'fryguy', 'suspend/hibernate'], dtype=object)"
      ]
     },
     "execution_count": 31,
     "metadata": {},
     "output_type": "execute_result"
    }
   ],
   "source": [
    "oov.word.head(500).values"
   ]
  },
  {
   "cell_type": "code",
   "execution_count": null,
   "metadata": {},
   "outputs": [],
   "source": []
  }
 ],
 "metadata": {
  "kernelspec": {
   "display_name": "Python 3",
   "language": "python",
   "name": "python3"
  },
  "language_info": {
   "codemirror_mode": {
    "name": "ipython",
    "version": 3
   },
   "file_extension": ".py",
   "mimetype": "text/x-python",
   "name": "python",
   "nbconvert_exporter": "python",
   "pygments_lexer": "ipython3",
   "version": "3.6.5"
  }
 },
 "nbformat": 4,
 "nbformat_minor": 2
}
